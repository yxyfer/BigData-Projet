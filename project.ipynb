{
 "cells": [
  {
   "cell_type": "markdown",
   "source": [
    "<h1>Table of Contents<span class=\"tocSkip\"></span></h1>\n",
    "<div class=\"toc\"><ul class=\"toc-item\"><li><span><a href=\"#BigData---Final-Project\" data-toc-modified-id=\"BigData---Final-Project-1\"><span class=\"toc-item-num\">1&nbsp;&nbsp;</span>BigData - Final Project</a></span><ul class=\"toc-item\"><li><span><a href=\"#Load-data\" data-toc-modified-id=\"Load-data-1.1\"><span class=\"toc-item-num\">1.1&nbsp;&nbsp;</span>Load data</a></span></li><li><span><a href=\"#Exploring-The-Data\" data-toc-modified-id=\"Exploring-The-Data-1.2\"><span class=\"toc-item-num\">1.2&nbsp;&nbsp;</span>Exploring The Data</a></span><ul class=\"toc-item\"><li><span><a href=\"#first-and-last-40-rows\" data-toc-modified-id=\"first-and-last-40-rows-1.2.1\"><span class=\"toc-item-num\">1.2.1&nbsp;&nbsp;</span>first and last 40 rows</a></span></li><li><span><a href=\"#Number-of-observations\" data-toc-modified-id=\"Number-of-observations-1.2.2\"><span class=\"toc-item-num\">1.2.2&nbsp;&nbsp;</span>Number of observations</a></span></li><li><span><a href=\"#deduce-period\" data-toc-modified-id=\"deduce-period-1.2.3\"><span class=\"toc-item-num\">1.2.3&nbsp;&nbsp;</span>deduce period</a></span></li><li><span><a href=\"#Statistics\" data-toc-modified-id=\"Statistics-1.2.4\"><span class=\"toc-item-num\">1.2.4&nbsp;&nbsp;</span>Statistics</a></span></li><li><span><a href=\"#Missing-values\" data-toc-modified-id=\"Missing-values-1.2.5\"><span class=\"toc-item-num\">1.2.5&nbsp;&nbsp;</span>Missing values</a></span></li><li><span><a href=\"#Correlation\" data-toc-modified-id=\"Correlation-1.2.6\"><span class=\"toc-item-num\">1.2.6&nbsp;&nbsp;</span>Correlation</a></span></li></ul></li><li><span><a href=\"#Analysis\" data-toc-modified-id=\"Analysis-1.3\"><span class=\"toc-item-num\">1.3&nbsp;&nbsp;</span>Analysis</a></span><ul class=\"toc-item\"><li><span><a href=\"#Average-opening/closing-prices-by-period\" data-toc-modified-id=\"Average-opening/closing-prices-by-period-1.3.1\"><span class=\"toc-item-num\">1.3.1&nbsp;&nbsp;</span>Average opening/closing prices by period</a></span></li><li><span><a href=\"#Stock-price-changes-by-period\" data-toc-modified-id=\"Stock-price-changes-by-period-1.3.2\"><span class=\"toc-item-num\">1.3.2&nbsp;&nbsp;</span>Stock price changes by period</a></span></li><li><span><a href=\"#Daily-return\" data-toc-modified-id=\"Daily-return-1.3.3\"><span class=\"toc-item-num\">1.3.3&nbsp;&nbsp;</span>Daily return</a></span></li><li><span><a href=\"#Highest-daily-return\" data-toc-modified-id=\"Highest-daily-return-1.3.4\"><span class=\"toc-item-num\">1.3.4&nbsp;&nbsp;</span>Highest daily return</a></span></li><li><span><a href=\"#Average-daily-return\" data-toc-modified-id=\"Average-daily-return-1.3.5\"><span class=\"toc-item-num\">1.3.5&nbsp;&nbsp;</span>Average daily return</a></span></li></ul></li><li><span><a href=\"#Moving-average\" data-toc-modified-id=\"Moving-average-1.4\"><span class=\"toc-item-num\">1.4&nbsp;&nbsp;</span>Moving average</a></span></li><li><span><a href=\"#Correlation\" data-toc-modified-id=\"Correlation-1.5\"><span class=\"toc-item-num\">1.5&nbsp;&nbsp;</span>Correlation</a></span></li><li><span><a href=\"#Return-rate\" data-toc-modified-id=\"Return-rate-1.6\"><span class=\"toc-item-num\">1.6&nbsp;&nbsp;</span>Return rate</a></span></li><li><span><a href=\"#Best-return-rate\" data-toc-modified-id=\"Best-return-rate-1.7\"><span class=\"toc-item-num\">1.7&nbsp;&nbsp;</span>Best return rate</a></span></li><li><span><a href=\"#Insights\" data-toc-modified-id=\"Insights-1.8\"><span class=\"toc-item-num\">1.8&nbsp;&nbsp;</span>Insights</a></span><ul class=\"toc-item\"><li><span><a href=\"#William’s-R%\" data-toc-modified-id=\"William’s-R%-1.8.1\"><span class=\"toc-item-num\">1.8.1&nbsp;&nbsp;</span>William’s R%</a></span></li><li><span><a href=\"#Momentum-and-ROC\" data-toc-modified-id=\"Momentum-and-ROC-1.8.2\"><span class=\"toc-item-num\">1.8.2&nbsp;&nbsp;</span>Momentum and ROC</a></span><ul class=\"toc-item\"><li><span><a href=\"#Momentum\" data-toc-modified-id=\"Momentum-1.8.2.1\"><span class=\"toc-item-num\">1.8.2.1&nbsp;&nbsp;</span>Momentum</a></span></li><li><span><a href=\"#Roc\" data-toc-modified-id=\"Roc-1.8.2.2\"><span class=\"toc-item-num\">1.8.2.2&nbsp;&nbsp;</span>Roc</a></span></li></ul></li><li><span><a href=\"#Commodity-Chanel-Index\" data-toc-modified-id=\"Commodity-Chanel-Index-1.8.3\"><span class=\"toc-item-num\">1.8.3&nbsp;&nbsp;</span>Commodity Chanel Index</a></span></li><li><span><a href=\"#Gravity-center\" data-toc-modified-id=\"Gravity-center-1.8.4\"><span class=\"toc-item-num\">1.8.4&nbsp;&nbsp;</span>Gravity center</a></span></li><li><span><a href=\"#Bollinger-bands\" data-toc-modified-id=\"Bollinger-bands-1.8.5\"><span class=\"toc-item-num\">1.8.5&nbsp;&nbsp;</span>Bollinger bands</a></span></li></ul></li></ul></li></ul></div>"
   ],
   "metadata": {
    "collapsed": false,
    "pycharm": {
     "name": "#%% md\n"
    }
   }
  },
  {
   "cell_type": "markdown",
   "source": [
    "__AUTHORS__:\n",
    "  - Théo Perinet (22172 - theo.perinet)\n",
    "  - Mathieu Rivier (23553 - mathieu.rivier)\n",
    "  - Marc Monteil (23742 - marc.monteil)"
   ],
   "metadata": {
    "collapsed": false,
    "pycharm": {
     "name": "#%% md\n"
    }
   }
  },
  {
   "cell_type": "markdown",
   "source": [
    "# BigData - Final Project"
   ],
   "metadata": {
    "collapsed": false,
    "pycharm": {
     "name": "#%% md\n"
    }
   }
  },
  {
   "cell_type": "code",
   "execution_count": null,
   "outputs": [],
   "source": [
    "# cell for autoreload includes\n",
    "%load_ext autoreload\n",
    "%autoreload 2"
   ],
   "metadata": {
    "collapsed": false,
    "pycharm": {
     "name": "#%%\n"
    }
   }
  },
  {
   "cell_type": "markdown",
   "source": [
    "We load the python file containing the class Stocks.\n",
    "This file use the file containing the class Stock.\n",
    "This classes contain all our work."
   ],
   "metadata": {
    "collapsed": false,
    "pycharm": {
     "name": "#%% md\n"
    }
   }
  },
  {
   "cell_type": "code",
   "execution_count": null,
   "outputs": [],
   "source": [
    "from src.stocks import Stocks\n",
    "# The warnings are due to the includes in the file"
   ],
   "metadata": {
    "collapsed": false,
    "pycharm": {
     "name": "#%%\n"
    }
   }
  },
  {
   "cell_type": "markdown",
   "source": [
    "## Load data"
   ],
   "metadata": {
    "collapsed": false,
    "pycharm": {
     "name": "#%% md\n"
    }
   }
  },
  {
   "cell_type": "markdown",
   "source": [
    "We define the schema of the datas contained in files"
   ],
   "metadata": {
    "collapsed": false,
    "pycharm": {
     "name": "#%% md\n"
    }
   }
  },
  {
   "cell_type": "code",
   "execution_count": null,
   "outputs": [],
   "source": [
    "from pyspark.sql.types import DoubleType, StringType, DateType, StructType, StructField"
   ],
   "metadata": {
    "collapsed": false,
    "pycharm": {
     "name": "#%%\n"
    }
   }
  },
  {
   "cell_type": "code",
   "execution_count": null,
   "outputs": [],
   "source": [
    "data_schema = StructType([\n",
    "    StructField('Date', DateType(), True),\n",
    "    StructField('High', DoubleType(), True),\n",
    "    StructField('Low', DoubleType(), True),\n",
    "    StructField('Open', DoubleType(), True),\n",
    "    StructField('Close', DoubleType(), True),\n",
    "    StructField('Volume', DoubleType(), True),\n",
    "    StructField('Adj Close', DoubleType(), True),\n",
    "    StructField('company_name', StringType(), True)\n",
    "])"
   ],
   "metadata": {
    "collapsed": false,
    "pycharm": {
     "name": "#%%\n"
    }
   }
  },
  {
   "cell_type": "markdown",
   "source": [
    "We load each stock using the Stocks class.  \n",
    "As we do not provide the list of files to load, the class will load all the csv files in the directory \"stocks_data/\""
   ],
   "metadata": {
    "collapsed": false,
    "pycharm": {
     "name": "#%% md\n"
    }
   }
  },
  {
   "cell_type": "code",
   "execution_count": null,
   "outputs": [],
   "source": [
    "stocks = Stocks(header=True, delimiter=',', schema=data_schema)"
   ],
   "metadata": {
    "collapsed": false,
    "pycharm": {
     "name": "#%%\n"
    }
   }
  },
  {
   "cell_type": "markdown",
   "source": [
    "## Exploring The Data"
   ],
   "metadata": {
    "collapsed": false,
    "pycharm": {
     "name": "#%% md\n"
    }
   }
  },
  {
   "cell_type": "markdown",
   "source": [
    "### first and last 40 rows"
   ],
   "metadata": {
    "collapsed": false,
    "pycharm": {
     "name": "#%% md\n"
    }
   }
  },
  {
   "cell_type": "markdown",
   "source": [
    "We show the first and last 40 rows rounded of each stock price"
   ],
   "metadata": {
    "collapsed": false,
    "pycharm": {
     "name": "#%% md\n"
    }
   }
  },
  {
   "cell_type": "code",
   "execution_count": null,
   "outputs": [],
   "source": [
    "stocks.call_explore_function(\"get_df_abstract\")"
   ],
   "metadata": {
    "collapsed": false,
    "pycharm": {
     "name": "#%%\n"
    }
   }
  },
  {
   "cell_type": "markdown",
   "source": [
    "### Number of observations"
   ],
   "metadata": {
    "collapsed": false,
    "pycharm": {
     "name": "#%% md\n"
    }
   }
  },
  {
   "cell_type": "markdown",
   "source": [
    "We show the number of observations of each stock"
   ],
   "metadata": {
    "collapsed": false,
    "pycharm": {
     "name": "#%% md\n"
    }
   }
  },
  {
   "cell_type": "code",
   "execution_count": null,
   "outputs": [],
   "source": [
    "stocks.call_explore_function(\"nb_rows\")"
   ],
   "metadata": {
    "collapsed": false,
    "pycharm": {
     "name": "#%%\n"
    }
   }
  },
  {
   "cell_type": "markdown",
   "source": [
    "### deduce period"
   ],
   "metadata": {
    "collapsed": false,
    "pycharm": {
     "name": "#%% md\n"
    }
   }
  },
  {
   "cell_type": "markdown",
   "source": [
    "We get the period of each stock"
   ],
   "metadata": {
    "collapsed": false,
    "pycharm": {
     "name": "#%% md\n"
    }
   }
  },
  {
   "cell_type": "code",
   "execution_count": null,
   "outputs": [],
   "source": [
    "stocks.call_explore_function(\"print_period\")"
   ],
   "metadata": {
    "collapsed": false,
    "pycharm": {
     "name": "#%%\n"
    }
   }
  },
  {
   "cell_type": "markdown",
   "source": [
    "### Statistics"
   ],
   "metadata": {
    "collapsed": false,
    "pycharm": {
     "name": "#%% md\n"
    }
   }
  },
  {
   "cell_type": "markdown",
   "source": [
    "We show statistics (min, max, standard, deviation) for each columns of each stock"
   ],
   "metadata": {
    "collapsed": false,
    "pycharm": {
     "name": "#%% md\n"
    }
   }
  },
  {
   "cell_type": "code",
   "execution_count": null,
   "outputs": [],
   "source": [
    "stocks.call_explore_function(\"get_stats\")"
   ],
   "metadata": {
    "collapsed": false,
    "pycharm": {
     "name": "#%%\n"
    }
   }
  },
  {
   "cell_type": "markdown",
   "source": [
    "### Missing values"
   ],
   "metadata": {
    "collapsed": false,
    "pycharm": {
     "name": "#%% md\n"
    }
   }
  },
  {
   "cell_type": "markdown",
   "source": [
    "We show the number of missing value for each columns of each stock"
   ],
   "metadata": {
    "collapsed": false,
    "pycharm": {
     "name": "#%% md\n"
    }
   }
  },
  {
   "cell_type": "code",
   "execution_count": null,
   "outputs": [],
   "source": [
    "stocks.call_explore_function(\"get_missing\")"
   ],
   "metadata": {
    "collapsed": false,
    "pycharm": {
     "name": "#%%\n"
    }
   }
  },
  {
   "cell_type": "markdown",
   "source": [
    "### Correlation"
   ],
   "metadata": {
    "collapsed": false,
    "pycharm": {
     "name": "#%% md\n"
    }
   }
  },
  {
   "cell_type": "markdown",
   "source": [
    "We show the correlation between each columns of each stock"
   ],
   "metadata": {
    "collapsed": false,
    "pycharm": {
     "name": "#%% md\n"
    }
   }
  },
  {
   "cell_type": "code",
   "execution_count": null,
   "outputs": [],
   "source": [
    "stocks.call_explore_function(\"correlation\")"
   ],
   "metadata": {
    "collapsed": false,
    "pycharm": {
     "name": "#%%\n"
    }
   }
  },
  {
   "cell_type": "markdown",
   "source": [
    "## Analysis"
   ],
   "metadata": {
    "collapsed": false,
    "pycharm": {
     "name": "#%% md\n"
    }
   }
  },
  {
   "cell_type": "markdown",
   "source": [
    "### Average opening/closing prices by period"
   ],
   "metadata": {
    "collapsed": false,
    "pycharm": {
     "name": "#%% md\n"
    }
   }
  },
  {
   "cell_type": "markdown",
   "source": [
    "We show the average of the opening and closing prices by week, month and year."
   ],
   "metadata": {
    "collapsed": false,
    "pycharm": {
     "name": "#%% md\n"
    }
   }
  },
  {
   "cell_type": "code",
   "execution_count": null,
   "outputs": [],
   "source": [
    "stocks.call_analysis_function(\"print_get_oc_avg\")"
   ],
   "metadata": {
    "collapsed": false,
    "pycharm": {
     "name": "#%%\n"
    }
   }
  },
  {
   "cell_type": "markdown",
   "source": [
    "### Stock price changes by period"
   ],
   "metadata": {
    "collapsed": false,
    "pycharm": {
     "name": "#%% md\n"
    }
   }
  },
  {
   "cell_type": "markdown",
   "source": [
    "We show the stock prices changes by day, month and year."
   ],
   "metadata": {
    "collapsed": false,
    "pycharm": {
     "name": "#%% md\n"
    }
   }
  },
  {
   "cell_type": "code",
   "execution_count": null,
   "outputs": [],
   "source": [
    "stocks.call_analysis_function(\"print_price_change\")"
   ],
   "metadata": {
    "collapsed": false,
    "pycharm": {
     "name": "#%%\n"
    }
   }
  },
  {
   "cell_type": "markdown",
   "source": [
    "### Daily return"
   ],
   "metadata": {
    "collapsed": false,
    "pycharm": {
     "name": "#%% md\n"
    }
   }
  },
  {
   "cell_type": "markdown",
   "source": [
    "We show the daily return of each stock"
   ],
   "metadata": {
    "collapsed": false,
    "pycharm": {
     "name": "#%% md\n"
    }
   }
  },
  {
   "cell_type": "code",
   "execution_count": null,
   "outputs": [],
   "source": [
    "stocks.call_analysis_function(\"print_daily_return\")"
   ],
   "metadata": {
    "collapsed": false,
    "pycharm": {
     "name": "#%%\n"
    }
   }
  },
  {
   "cell_type": "markdown",
   "source": [
    "### Highest daily return"
   ],
   "metadata": {
    "collapsed": false,
    "pycharm": {
     "name": "#%% md\n"
    }
   }
  },
  {
   "cell_type": "markdown",
   "source": [
    "We show the highest daily return of each stock.  \n",
    "The compagny with the highest daily return is shown on the first row."
   ],
   "metadata": {
    "collapsed": false,
    "pycharm": {
     "name": "#%% md\n"
    }
   }
  },
  {
   "cell_type": "code",
   "execution_count": null,
   "outputs": [],
   "source": [
    "stocks.get_max_daily_return()"
   ],
   "metadata": {
    "collapsed": false,
    "pycharm": {
     "name": "#%%\n"
    }
   }
  },
  {
   "cell_type": "markdown",
   "source": [
    "### Average daily return"
   ],
   "metadata": {
    "collapsed": false,
    "pycharm": {
     "name": "#%% md\n"
    }
   }
  },
  {
   "cell_type": "markdown",
   "source": [
    "We show the average daily return by week, month and year."
   ],
   "metadata": {
    "collapsed": false,
    "pycharm": {
     "name": "#%% md\n"
    }
   }
  },
  {
   "cell_type": "code",
   "execution_count": null,
   "outputs": [],
   "source": [
    "stocks.call_analysis_function(\"print_daily_return_avg\")"
   ],
   "metadata": {
    "collapsed": false,
    "pycharm": {
     "name": "#%%\n"
    }
   }
  },
  {
   "cell_type": "markdown",
   "source": [
    "## Moving average"
   ],
   "metadata": {
    "collapsed": false,
    "pycharm": {
     "name": "#%% md\n"
    }
   }
  },
  {
   "cell_type": "markdown",
   "source": [
    "We calculate the moving average.  \n",
    "The funcion asked is present in the sock.py file."
   ],
   "metadata": {
    "collapsed": false,
    "pycharm": {
     "name": "#%% md\n"
    }
   }
  },
  {
   "cell_type": "code",
   "execution_count": null,
   "outputs": [],
   "source": [
    "print(stocks.stocks[0].get_name())\n",
    "stocks.stocks[0].analysis.print_moving_average(col=\"Close\")"
   ],
   "metadata": {
    "collapsed": false,
    "pycharm": {
     "name": "#%%\n"
    }
   }
  },
  {
   "cell_type": "code",
   "execution_count": null,
   "outputs": [],
   "source": [
    "print(stocks.stocks[1].get_name())\n",
    "stocks.stocks[1].analysis.print_moving_average(col=\"Open\")"
   ],
   "metadata": {
    "collapsed": false,
    "pycharm": {
     "name": "#%%\n"
    }
   }
  },
  {
   "cell_type": "markdown",
   "source": [
    "## Correlation"
   ],
   "metadata": {
    "collapsed": false,
    "pycharm": {
     "name": "#%% md\n"
    }
   }
  },
  {
   "cell_type": "markdown",
   "source": [
    "We calculate the columns correlation between each stock.  \n",
    "The funciton asked is present in the stocks.py file and is named \"get_correlation\"."
   ],
   "metadata": {
    "collapsed": false,
    "pycharm": {
     "name": "#%% md\n"
    }
   }
  },
  {
   "cell_type": "code",
   "execution_count": null,
   "outputs": [],
   "source": [
    "stocks.print_correlations()"
   ],
   "metadata": {
    "collapsed": false,
    "pycharm": {
     "name": "#%%\n"
    }
   }
  },
  {
   "cell_type": "markdown",
   "source": [
    "## Return rate"
   ],
   "metadata": {
    "collapsed": false,
    "pycharm": {
     "name": "#%% md\n"
    }
   }
  },
  {
   "cell_type": "markdown",
   "source": [
    "We show the return rate of each stock in different periods (per week, month, year)"
   ],
   "metadata": {
    "collapsed": false,
    "pycharm": {
     "name": "#%% md\n"
    }
   }
  },
  {
   "cell_type": "code",
   "execution_count": null,
   "outputs": [],
   "source": [
    "stocks.call_analysis_function(\"print_daily_return_rate_avg\")"
   ],
   "metadata": {
    "collapsed": false,
    "pycharm": {
     "name": "#%%\n"
    }
   }
  },
  {
   "cell_type": "markdown",
   "source": [
    "## Best return rate"
   ],
   "metadata": {
    "collapsed": false,
    "pycharm": {
     "name": "#%% md\n"
    }
   }
  },
  {
   "cell_type": "markdown",
   "source": [
    "We show the stock with the best return rate during a period (nonth and year)."
   ],
   "metadata": {
    "collapsed": false,
    "pycharm": {
     "name": "#%% md\n"
    }
   }
  },
  {
   "cell_type": "code",
   "execution_count": null,
   "outputs": [],
   "source": [
    "# All Period Return Rates\n",
    "stocks.period_return_rate(start_date=\"2019-04-04\", period=\"month\")"
   ],
   "metadata": {
    "collapsed": false,
    "pycharm": {
     "name": "#%%\n"
    }
   }
  },
  {
   "cell_type": "code",
   "execution_count": null,
   "outputs": [],
   "source": [
    "# Best performing stock over the current period\n",
    "stocks.max_period_return_rate(start_date=\"2019-04-04\", period=\"month\")"
   ],
   "metadata": {
    "collapsed": false,
    "pycharm": {
     "name": "#%%\n"
    }
   }
  },
  {
   "cell_type": "markdown",
   "source": [
    "## Insights"
   ],
   "metadata": {
    "collapsed": false,
    "pycharm": {
     "name": "#%% md\n"
    }
   }
  },
  {
   "cell_type": "markdown",
   "source": [
    "### William’s R%"
   ],
   "metadata": {
    "collapsed": false,
    "pycharm": {
     "name": "#%% md\n"
    }
   }
  },
  {
   "cell_type": "markdown",
   "source": [
    "It is an indicator derived from stochastics but unlike stochastics, %R is not internally smoothed.\n",
    "\n",
    "Like stochastics, it measures overbought/oversold levels (determined by an upper and a lower bound) and thus market breathlessness.\n",
    "\n",
    "\n",
    "Analysis :\n",
    "\n",
    "The indicator is read according to an overbought and oversold zone. Thus, when the indicator is in the extreme zone, the market is oversold or overbought. In other words, if the %R moves in the zone above 80, the market is dominated by buyers. Conversely, if the value moves in the zone below 20, the market is dominated by sellers."
   ],
   "metadata": {
    "collapsed": false,
    "pycharm": {
     "name": "#%% md\n"
    }
   }
  },
  {
   "cell_type": "code",
   "execution_count": null,
   "outputs": [],
   "source": [
    "stocks.call_insight_function(\"print_r_de_williams\")"
   ],
   "metadata": {
    "collapsed": false,
    "pycharm": {
     "name": "#%%\n"
    }
   }
  },
  {
   "cell_type": "code",
   "execution_count": null,
   "outputs": [],
   "source": [
    "stocks.call_insight_function(\"plot_r_de_williams\")"
   ],
   "metadata": {
    "collapsed": false,
    "pycharm": {
     "name": "#%%\n"
    }
   }
  },
  {
   "cell_type": "markdown",
   "source": [
    "### Momentum and ROC"
   ],
   "metadata": {
    "collapsed": false,
    "pycharm": {
     "name": "#%% md\n"
    }
   }
  },
  {
   "cell_type": "markdown",
   "source": [
    "These two indicators are very similar in their philosophy. They measure the acceleration or deceleration of a trend. They often mark their peaks and troughs even before prices have reached their extremes.\n",
    "\n",
    "Momentum and ROC compare the closing price to the price of a past session.\n",
    "\n",
    "The difference lies in the way they are calculated. Momentum is obtained by subtracting a past price from the last known price, while ROC uses a division of the last price by a past price.\n",
    "\n",
    "Analysis :\n",
    "\n",
    "The periods (n) commonly used for calculating momentum and ROC are 12 and 25 days.\n",
    "\n",
    "The faster these indicators rise, the faster and stronger the price rise. Conversely, the faster the indicators fall, the faster and more strongly the price falls."
   ],
   "metadata": {
    "collapsed": false,
    "pycharm": {
     "name": "#%% md\n"
    }
   }
  },
  {
   "cell_type": "markdown",
   "source": [
    "#### Momentum"
   ],
   "metadata": {
    "collapsed": false,
    "pycharm": {
     "name": "#%% md\n"
    }
   }
  },
  {
   "cell_type": "code",
   "execution_count": null,
   "outputs": [],
   "source": [
    "stocks.call_insight_function(\"print_momentum\")"
   ],
   "metadata": {
    "collapsed": false,
    "pycharm": {
     "name": "#%%\n"
    }
   }
  },
  {
   "cell_type": "code",
   "execution_count": null,
   "outputs": [],
   "source": [
    "stocks.call_insight_function(\"plot_momentum\")"
   ],
   "metadata": {
    "collapsed": false,
    "pycharm": {
     "name": "#%%\n"
    }
   }
  },
  {
   "cell_type": "markdown",
   "source": [
    "#### Roc"
   ],
   "metadata": {
    "collapsed": false,
    "pycharm": {
     "name": "#%% md\n"
    }
   }
  },
  {
   "cell_type": "code",
   "execution_count": null,
   "outputs": [],
   "source": [
    "stocks.call_insight_function(\"print_roc\")"
   ],
   "metadata": {
    "collapsed": false,
    "pycharm": {
     "name": "#%%\n"
    }
   }
  },
  {
   "cell_type": "code",
   "execution_count": null,
   "outputs": [],
   "source": [
    "stocks.call_insight_function(\"plot_roc\")"
   ],
   "metadata": {
    "collapsed": false,
    "pycharm": {
     "name": "#%%\n"
    }
   }
  },
  {
   "cell_type": "markdown",
   "source": [
    "### Commodity Chanel Index"
   ],
   "metadata": {
    "collapsed": false,
    "pycharm": {
     "name": "#%% md\n"
    }
   }
  },
  {
   "cell_type": "markdown",
   "source": [
    "Developed by Donald R. Lambert, it was originally designed to identify turning points in commodity markets, which are cyclical. Its use has spread to all markets and at the same time has moved away from its original principles. Today, the CCI is a speed indicator, mainly used to set overbought/oversold levels and detect divergences. Therefore, it is found in the oscillator family.\n",
    "\n",
    "The CCI calculates the difference between the price and its x-day average divided by 1.5% of the standard deviation.\n",
    "\n",
    "Analysis :\n",
    "\n",
    "When the CCI is above the +100 level, the trend is strongly bullish, which is a buy signal. Conversely, when the CCI is below -100, the trend is strongly bearish, which is a bearish signal.\n",
    "\n",
    "This approach is interesting because it allows traders to intervene on a stock only during a strong trend."
   ],
   "metadata": {
    "collapsed": false,
    "pycharm": {
     "name": "#%% md\n"
    }
   }
  },
  {
   "cell_type": "code",
   "execution_count": null,
   "outputs": [],
   "source": [
    "stocks.call_insight_function(\"print_cci\")"
   ],
   "metadata": {
    "collapsed": false,
    "pycharm": {
     "name": "#%%\n"
    }
   }
  },
  {
   "cell_type": "code",
   "execution_count": null,
   "outputs": [],
   "source": [
    "stocks.call_insight_function(\"plot_cci\")"
   ],
   "metadata": {
    "collapsed": false,
    "pycharm": {
     "name": "#%%\n"
    }
   }
  },
  {
   "cell_type": "markdown",
   "source": [
    "### Gravity center"
   ],
   "metadata": {
    "collapsed": false,
    "pycharm": {
     "name": "#%% md\n"
    }
   }
  },
  {
   "cell_type": "markdown",
   "source": [
    "The Centre of Gravity indicator is an oscillator developed by John F. Ehlers. This indicator is the result of the author's research on adaptive filters. This indicator gives the direction of the trend (up or down) and allows the identification of the reversal points of this trend.\n",
    "\n",
    "Analysis:\n",
    "\n",
    "1. When the indicator is in the positive zone, the latest prices remain higher than at the beginning of the period.\n",
    "\n",
    "2. Conversely, when the indicator is in the negative zone, the latest prices remain lower than at the beginning of the period.\n",
    "\n",
    "3. When the indicator crosses its signal line upwards, the trend turns upwards.\n",
    "\n",
    "4. Conversely, when the indicator crosses its signal line on the downside, the trend turns downwards.\n"
   ],
   "metadata": {
    "collapsed": false,
    "pycharm": {
     "name": "#%% md\n"
    }
   }
  },
  {
   "cell_type": "code",
   "execution_count": null,
   "outputs": [],
   "source": [
    "stocks.call_insight_function(\"print_gc\")"
   ],
   "metadata": {
    "collapsed": false,
    "pycharm": {
     "name": "#%%\n"
    }
   }
  },
  {
   "cell_type": "code",
   "execution_count": null,
   "outputs": [],
   "source": [
    "stocks.call_insight_function(\"plot_gc\")"
   ],
   "metadata": {
    "collapsed": false,
    "pycharm": {
     "name": "#%%\n"
    }
   }
  },
  {
   "cell_type": "markdown",
   "source": [
    "Source insights :  https://www.waldata.fr/indicateurs.asp?name=%R-de-Williams&Id=81#indic"
   ],
   "metadata": {
    "collapsed": false,
    "pycharm": {
     "name": "#%% md\n"
    }
   }
  },
  {
   "cell_type": "markdown",
   "source": [
    "### Bollinger bands"
   ],
   "metadata": {
    "collapsed": false,
    "pycharm": {
     "name": "#%% md\n"
    }
   }
  },
  {
   "cell_type": "markdown",
   "source": [
    "The power of a tendency : If prices get to far away from their average, the bands will greately separate from one another. If the prices stay close the the average, the bands will shrink closer together.The use of standard deviation enables the Bollinger bands to adapt rapidly. The bigger the gap between the two bands, the stronger the tendency."
   ],
   "metadata": {
    "collapsed": false,
    "pycharm": {
     "name": "#%% md\n"
    }
   }
  },
  {
   "cell_type": "code",
   "execution_count": null,
   "outputs": [],
   "source": [
    "df = stocks.stocks[0].df"
   ],
   "metadata": {
    "collapsed": false,
    "pycharm": {
     "name": "#%%\n"
    }
   }
  },
  {
   "cell_type": "code",
   "execution_count": null,
   "outputs": [],
   "source": [
    "columns = [\"High\", \"Low\"]\n",
    "df = create_windows_lag(df, columns)"
   ],
   "metadata": {
    "collapsed": false,
    "pycharm": {
     "name": "#%%\n"
    }
   }
  },
  {
   "cell_type": "code",
   "execution_count": null,
   "outputs": [],
   "source": [
    "true_high = max(df[i][\"Max\"], df[i - 1][\"Close\"])"
   ],
   "metadata": {
    "collapsed": false,
    "pycharm": {
     "name": "#%%\n"
    }
   }
  },
  {
   "cell_type": "code",
   "execution_count": null,
   "outputs": [],
   "source": [
    "true_high = df.withColumn(\"true_high\", (df[\"High2\"], df[\"Close\"]) / 3)"
   ],
   "metadata": {
    "collapsed": false,
    "pycharm": {
     "name": "#%%\n"
    }
   }
  },
  {
   "cell_type": "code",
   "execution_count": null,
   "outputs": [],
   "source": [
    "true_high.select(\"new\").show()"
   ],
   "metadata": {
    "collapsed": false,
    "pycharm": {
     "name": "#%%\n"
    }
   }
  },
  {
   "cell_type": "code",
   "execution_count": null,
   "outputs": [],
   "source": [
    "df.select(\"High\")[0].first()[0]"
   ],
   "metadata": {
    "collapsed": false,
    "pycharm": {
     "name": "#%%\n"
    }
   }
  },
  {
   "cell_type": "code",
   "execution_count": null,
   "outputs": [],
   "source": [
    "from pyspark.sql.window import Window \n",
    "from pyspark.sql.functions import lit, col\n",
    "import pyspark.sql.functions as func \n",
    "\n",
    "nb_days = 12\n",
    "is_momentum = True\n",
    "if df is None:\n",
    "    df = self.stock.df\n",
    "\n",
    "SECS_IN_DAY = 86400\n",
    "period = nb_days * SECS_IN_DAY\n",
    "\n",
    "df = df.withColumn(\"Date2\", df.Date.cast(\"timestamp\"))\n",
    "\n",
    "w = Window().partitionBy(lit(\"Date2\"))\\\n",
    "        .orderBy(col(\"Date2\").cast(\"long\"))\\\n",
    "        .rangeBetween(-period, 0)\n",
    "\n",
    "df = df.withColumn(\"nb_close\", func.first(\"Close\").over(w))\n",
    "\n",
    "true_high = df.withColumn(\"true_high\", (df[\"High2\"] + df[\"Close\"]) / 3)\n",
    "\n",
    "true_high.select(\"true_high\").show()"
   ],
   "metadata": {
    "collapsed": false,
    "pycharm": {
     "name": "#%%\n"
    }
   }
  },
  {
   "cell_type": "code",
   "execution_count": null,
   "outputs": [],
   "source": [
    "true_high = max(df.withColumn(\"new\", df[\"High\"] + df[\"Low\"])) #+ df[\"Close\"]))"
   ],
   "metadata": {
    "collapsed": false,
    "pycharm": {
     "name": "#%%\n"
    }
   }
  },
  {
   "cell_type": "code",
   "execution_count": null,
   "outputs": [],
   "source": [
    "MME = []\n",
    "avg_true_range_array = []\n",
    "avg_true_range = 0\n",
    "true_high = 0\n",
    "true_low = 0\n",
    "True_Range = 0\n",
    "\n",
    "true_high = max((df[\"High\"] + df[\"Low\"] + df[\"Close\"]) / 3)\n",
    "for i in range(nb_days):\n",
    "    MME.append((df[\"High\"][i] + bas[i] + clôture[i]) / 3)\n",
    "    true_high = max(df[i][\"Max\"], df[i - 1][\"Close\"])\n",
    "    true_low = min(df[i][\"Low\"], df[i - 1][\"Close\"])\n",
    "    true_range = TrueHigh - TrueLow\n",
    "    avg_true_range += True_Range\n",
    "    avg_true_range_array.append(avg_true_range_array[-1] / i)\n",
    "\n",
    "    \n",
    "    \n",
    "two_avg_true_range = 2 * avg_true_range\n",
    "\n",
    "lower_band = MME - two_avg_true_range\n",
    "higher_band = MME + two_avg_true_range"
   ],
   "metadata": {
    "collapsed": false,
    "pycharm": {
     "name": "#%%\n"
    }
   }
  },
  {
   "cell_type": "code",
   "execution_count": null,
   "outputs": [],
   "source": [],
   "metadata": {
    "collapsed": false,
    "pycharm": {
     "name": "#%%\n"
    }
   }
  },
  {
   "cell_type": "code",
   "execution_count": null,
   "id": "f707333d",
   "metadata": {
    "pycharm": {
     "name": "#%%\n"
    }
   },
   "outputs": [],
   "source": [
    "stocks.call_insight_function(\"plot_gc\")"
   ]
  },
  {
   "cell_type": "markdown",
   "id": "20099130",
   "metadata": {
    "pycharm": {
     "name": "#%% md\n"
    }
   },
   "source": [
    "Source insights :  https://www.waldata.fr/indicateurs.asp?name=%R-de-Williams&Id=81#indic"
   ]
  },
  {
   "cell_type": "markdown",
   "id": "f5d2a376",
   "metadata": {},
   "source": [
    "### Bollinger bands"
   ]
  },
  {
   "cell_type": "markdown",
   "id": "450d3721",
   "metadata": {},
   "source": [
    "The power of a tendency : If prices get to far away from their average, the bands will greately separate from one another. If the prices stay close the the average, the bands will shrink closer together.The use of standard deviation enables the Bollinger bands to adapt rapidly. The bigger the gap between the two bands, the stronger the tendency."
   ]
  },
  {
   "cell_type": "code",
   "execution_count": 109,
   "id": "a9a78748",
   "metadata": {},
   "outputs": [],
   "source": [
    "df = stocks.stocks[0].df"
   ]
  },
  {
   "cell_type": "code",
   "execution_count": 111,
   "id": "a694dad0",
   "metadata": {},
   "outputs": [],
   "source": [
    "columns = [\"High\", \"Low\"]\n",
    "df = create_windows_lag(df, columns)"
   ]
  },
  {
   "cell_type": "code",
   "execution_count": null,
   "id": "6562baf7",
   "metadata": {},
   "outputs": [],
   "source": [
    "true_high = max(df[i][\"Max\"], df[i - 1][\"Close\"])"
   ]
  },
  {
   "cell_type": "code",
   "execution_count": 125,
   "id": "378cb2bd",
   "metadata": {},
   "outputs": [],
   "source": [
    "true_high = df.withColumn(\"true_high\", (df[\"High2\"], df[\"Close\"]) / 3)"
   ]
  },
  {
   "cell_type": "code",
   "execution_count": 126,
   "id": "cd9b38d1",
   "metadata": {},
   "outputs": [
    {
     "name": "stdout",
     "output_type": "stream",
     "text": [
      "+-----------------+\n",
      "|              new|\n",
      "+-----------------+\n",
      "|             null|\n",
      "|             null|\n",
      "|786.4833374023438|\n",
      "|793.5500081380209|\n",
      "|795.3833414713541|\n",
      "|801.6313273111979|\n",
      "|806.9019978841146|\n",
      "|806.3333333333334|\n",
      "|805.8000081380209|\n",
      "|803.7233276367188|\n",
      "|807.9946695963541|\n",
      "|803.2283325195312|\n",
      "|804.0716756184896|\n",
      "|810.1966552734375|\n",
      "|810.8233235677084|\n",
      "|820.0933227539062|\n",
      "|825.2903442382812|\n",
      "|828.0466715494791|\n",
      "|822.4433390299479|\n",
      "|819.7266642252604|\n",
      "+-----------------+\n",
      "only showing top 20 rows\n",
      "\n"
     ]
    },
    {
     "name": "stderr",
     "output_type": "stream",
     "text": [
      "22/06/15 11:03:01 WARN WindowExec: No Partition Defined for Window operation! Moving all data to a single partition, this can cause serious performance degradation.\n",
      "22/06/15 11:03:01 WARN WindowExec: No Partition Defined for Window operation! Moving all data to a single partition, this can cause serious performance degradation.\n",
      "22/06/15 11:03:01 WARN WindowExec: No Partition Defined for Window operation! Moving all data to a single partition, this can cause serious performance degradation.\n"
     ]
    }
   ],
   "source": [
    "true_high.select(\"new\").show()"
   ]
  },
  {
   "cell_type": "code",
   "execution_count": 124,
   "id": "d9f0daec",
   "metadata": {},
   "outputs": [
    {
     "ename": "TypeError",
     "evalue": "'Column' object is not callable",
     "output_type": "error",
     "traceback": [
      "\u001B[0;31m---------------------------------------------------------------------------\u001B[0m",
      "\u001B[0;31mTypeError\u001B[0m                                 Traceback (most recent call last)",
      "Input \u001B[0;32mIn [124]\u001B[0m, in \u001B[0;36m<cell line: 1>\u001B[0;34m()\u001B[0m\n\u001B[0;32m----> 1\u001B[0m \u001B[43mdf\u001B[49m\u001B[38;5;241;43m.\u001B[39;49m\u001B[43mselect\u001B[49m\u001B[43m(\u001B[49m\u001B[38;5;124;43m\"\u001B[39;49m\u001B[38;5;124;43mHigh\u001B[39;49m\u001B[38;5;124;43m\"\u001B[39;49m\u001B[43m)\u001B[49m\u001B[43m[\u001B[49m\u001B[38;5;241;43m0\u001B[39;49m\u001B[43m]\u001B[49m\u001B[38;5;241;43m.\u001B[39;49m\u001B[43mfirst\u001B[49m\u001B[43m(\u001B[49m\u001B[43m)\u001B[49m[\u001B[38;5;241m0\u001B[39m]\n",
      "\u001B[0;31mTypeError\u001B[0m: 'Column' object is not callable"
     ]
    }
   ],
   "source": [
    "df.select(\"High\")[0].first()[0]"
   ]
  },
  {
   "cell_type": "code",
   "execution_count": 129,
   "id": "ec72db31",
   "metadata": {},
   "outputs": [
    {
     "name": "stdout",
     "output_type": "stream",
     "text": [
      "+-----------------+\n",
      "|        true_high|\n",
      "+-----------------+\n",
      "|             null|\n",
      "|             null|\n",
      "|527.8833414713541|\n",
      "|532.4966837565104|\n",
      "|533.7100016276041|\n",
      "|537.5633341471354|\n",
      "|   539.2919921875|\n",
      "|538.4966634114584|\n",
      "|538.6766764322916|\n",
      "|537.3333333333334|\n",
      "|539.0980021158854|\n",
      "|536.4383341471354|\n",
      "|537.0750122070312|\n",
      "|542.9299926757812|\n",
      "|543.5933227539062|\n",
      "|552.1799926757812|\n",
      "| 552.683349609375|\n",
      "|553.0266723632812|\n",
      "|546.7733357747396|\n",
      "|546.2466634114584|\n",
      "+-----------------+\n",
      "only showing top 20 rows\n",
      "\n"
     ]
    },
    {
     "name": "stderr",
     "output_type": "stream",
     "text": [
      "22/06/15 11:06:37 WARN WindowExec: No Partition Defined for Window operation! Moving all data to a single partition, this can cause serious performance degradation.\n",
      "22/06/15 11:06:37 WARN WindowExec: No Partition Defined for Window operation! Moving all data to a single partition, this can cause serious performance degradation.\n",
      "22/06/15 11:06:37 WARN WindowExec: No Partition Defined for Window operation! Moving all data to a single partition, this can cause serious performance degradation.\n"
     ]
    }
   ],
   "source": [
    "from pyspark.sql.window import Window \n",
    "from pyspark.sql.functions import lit, col\n",
    "import pyspark.sql.functions as func \n",
    "\n",
    "nb_days = 12\n",
    "is_momentum = True\n",
    "if df is None:\n",
    "    df = self.stock.df\n",
    "\n",
    "SECS_IN_DAY = 86400\n",
    "period = nb_days * SECS_IN_DAY\n",
    "\n",
    "df = df.withColumn(\"Date2\", df.Date.cast(\"timestamp\"))\n",
    "\n",
    "w = Window().partitionBy(lit(\"Date2\"))\\\n",
    "        .orderBy(col(\"Date2\").cast(\"long\"))\\\n",
    "        .rangeBetween(-period, 0)\n",
    "\n",
    "df = df.withColumn(\"nb_close\", func.first(\"Close\").over(w))\n",
    "\n",
    "true_high = df.withColumn(\"true_high\", (df[\"High2\"] + df[\"Close\"]) / 3)\n",
    "\n",
    "true_high.select(\"true_high\").show()"
   ]
  },
  {
   "cell_type": "code",
   "execution_count": null,
   "id": "fc01f799",
   "metadata": {},
   "outputs": [],
   "source": [
    "true_high = max(df.withColumn(\"new\", df[\"High\"] + df[\"Low\"])) #+ df[\"Close\"]))"
   ]
  },
  {
   "cell_type": "code",
   "execution_count": 67,
   "id": "7e45f4a0",
   "metadata": {},
   "outputs": [
    {
     "ename": "TypeError",
     "evalue": "Column is not iterable",
     "output_type": "error",
     "traceback": [
      "\u001B[0;31m---------------------------------------------------------------------------\u001B[0m",
      "\u001B[0;31mTypeError\u001B[0m                                 Traceback (most recent call last)",
      "Input \u001B[0;32mIn [67]\u001B[0m, in \u001B[0;36m<cell line: 8>\u001B[0;34m()\u001B[0m\n\u001B[1;32m      5\u001B[0m true_low \u001B[38;5;241m=\u001B[39m \u001B[38;5;241m0\u001B[39m\n\u001B[1;32m      6\u001B[0m True_Range \u001B[38;5;241m=\u001B[39m \u001B[38;5;241m0\u001B[39m\n\u001B[0;32m----> 8\u001B[0m true_high \u001B[38;5;241m=\u001B[39m \u001B[38;5;28;43mmax\u001B[39;49m\u001B[43m(\u001B[49m\u001B[43m(\u001B[49m\u001B[43mdf\u001B[49m\u001B[43m[\u001B[49m\u001B[38;5;124;43m\"\u001B[39;49m\u001B[38;5;124;43mHigh\u001B[39;49m\u001B[38;5;124;43m\"\u001B[39;49m\u001B[43m]\u001B[49m\u001B[43m \u001B[49m\u001B[38;5;241;43m+\u001B[39;49m\u001B[43m \u001B[49m\u001B[43mdf\u001B[49m\u001B[43m[\u001B[49m\u001B[38;5;124;43m\"\u001B[39;49m\u001B[38;5;124;43mLow\u001B[39;49m\u001B[38;5;124;43m\"\u001B[39;49m\u001B[43m]\u001B[49m\u001B[43m \u001B[49m\u001B[38;5;241;43m+\u001B[39;49m\u001B[43m \u001B[49m\u001B[43mdf\u001B[49m\u001B[43m[\u001B[49m\u001B[38;5;124;43m\"\u001B[39;49m\u001B[38;5;124;43mClose\u001B[39;49m\u001B[38;5;124;43m\"\u001B[39;49m\u001B[43m]\u001B[49m\u001B[43m)\u001B[49m\u001B[43m \u001B[49m\u001B[38;5;241;43m/\u001B[39;49m\u001B[43m \u001B[49m\u001B[38;5;241;43m3\u001B[39;49m\u001B[43m)\u001B[49m\n\u001B[1;32m      9\u001B[0m \u001B[38;5;28;01mfor\u001B[39;00m i \u001B[38;5;129;01min\u001B[39;00m \u001B[38;5;28mrange\u001B[39m(nb_days):\n\u001B[1;32m     10\u001B[0m     MME\u001B[38;5;241m.\u001B[39mappend((df[\u001B[38;5;124m\"\u001B[39m\u001B[38;5;124mHigh\u001B[39m\u001B[38;5;124m\"\u001B[39m][i] \u001B[38;5;241m+\u001B[39m bas[i] \u001B[38;5;241m+\u001B[39m clôture[i]) \u001B[38;5;241m/\u001B[39m \u001B[38;5;241m3\u001B[39m)\n",
      "File \u001B[0;32m/usr/local/lib/python3.9/site-packages/pyspark/sql/column.py:463\u001B[0m, in \u001B[0;36mColumn.__iter__\u001B[0;34m(self)\u001B[0m\n\u001B[1;32m    462\u001B[0m \u001B[38;5;28;01mdef\u001B[39;00m \u001B[38;5;21m__iter__\u001B[39m(\u001B[38;5;28mself\u001B[39m):\n\u001B[0;32m--> 463\u001B[0m     \u001B[38;5;28;01mraise\u001B[39;00m \u001B[38;5;167;01mTypeError\u001B[39;00m(\u001B[38;5;124m\"\u001B[39m\u001B[38;5;124mColumn is not iterable\u001B[39m\u001B[38;5;124m\"\u001B[39m)\n",
      "\u001B[0;31mTypeError\u001B[0m: Column is not iterable"
     ]
    }
   ],
   "source": [
    "MME = []\n",
    "avg_true_range_array = []\n",
    "avg_true_range = 0\n",
    "true_high = 0\n",
    "true_low = 0\n",
    "True_Range = 0\n",
    "\n",
    "true_high = max((df[\"High\"] + df[\"Low\"] + df[\"Close\"]) / 3)\n",
    "for i in range(nb_days):\n",
    "    MME.append((df[\"High\"][i] + bas[i] + clôture[i]) / 3)\n",
    "    true_high = max(df[i][\"Max\"], df[i - 1][\"Close\"])\n",
    "    true_low = min(df[i][\"Low\"], df[i - 1][\"Close\"])\n",
    "    true_range = TrueHigh - TrueLow\n",
    "    avg_true_range += True_Range\n",
    "    avg_true_range_array.append(avg_true_range_array[-1] / i)\n",
    "\n",
    "    \n",
    "    \n",
    "two_avg_true_range = 2 * avg_true_range\n",
    "\n",
    "lower_band = MME - two_avg_true_range\n",
    "higher_band = MME + two_avg_true_range"
   ]
  },
  {
   "cell_type": "code",
   "execution_count": null,
   "id": "41d2dc98",
   "metadata": {},
   "outputs": [],
   "source": []
  }
 ],
 "metadata": {
  "kernelspec": {
   "display_name": "Python 3 (ipykernel)",
   "language": "python",
   "name": "python3"
  },
  "language_info": {
   "codemirror_mode": {
    "name": "ipython",
    "version": 3
   },
   "file_extension": ".py",
   "mimetype": "text/x-python",
   "name": "python",
   "nbconvert_exporter": "python",
   "pygments_lexer": "ipython3",
   "version": "3.9.12"
  },
  "nbTranslate": {
   "displayLangs": [
    "*"
   ],
   "hotkey": "alt-t",
   "langInMainMenu": true,
   "sourceLang": "en",
   "targetLang": "fr",
   "useGoogleTranslate": true
  },
  "toc": {
   "base_numbering": 1,
   "nav_menu": {},
   "number_sections": true,
   "sideBar": true,
   "skip_h1_title": false,
   "title_cell": "Table of Contents",
   "title_sidebar": "Contents",
   "toc_cell": true,
   "toc_position": {},
   "toc_section_display": true,
   "toc_window_display": false
  },
  "varInspector": {
   "cols": {
    "lenName": 16,
    "lenType": 16,
    "lenVar": 40
   },
   "kernels_config": {
    "python": {
     "delete_cmd_postfix": "",
     "delete_cmd_prefix": "del ",
     "library": "var_list.py",
     "varRefreshCmd": "print(var_dic_list())"
    },
    "r": {
     "delete_cmd_postfix": ") ",
     "delete_cmd_prefix": "rm(",
     "library": "var_list.r",
     "varRefreshCmd": "cat(var_dic_list()) "
    }
   },
   "types_to_exclude": [
    "module",
    "function",
    "builtin_function_or_method",
    "instance",
    "_Feature"
   ],
   "window_display": false
  }
 },
 "nbformat": 4,
 "nbformat_minor": 5
}