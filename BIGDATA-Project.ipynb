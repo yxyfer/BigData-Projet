{
 "cells": [
  {
   "cell_type": "markdown",
   "id": "ce715a02",
   "metadata": {},
   "source": [
    "__AUTHORS__:\n",
    "  - Théo Perinet (22172 - theo.perinet)\n",
    "  - Mathieu Rivier (23553 - mathieu.rivier)\n",
    "  - Marc Monteil (23742 - marc.monteil)"
   ]
  },
  {
   "cell_type": "markdown",
   "id": "b6dca563",
   "metadata": {
    "toc": true
   },
   "source": [
    "<h1>Table of Contents<span class=\"tocSkip\"></span></h1>\n",
    "<div class=\"toc\"><ul class=\"toc-item\"><li><span><a href=\"#BigData---Final-Project\" data-toc-modified-id=\"BigData---Final-Project-1\"><span class=\"toc-item-num\">1&nbsp;&nbsp;</span>BigData - Final Project</a></span><ul class=\"toc-item\"><li><span><a href=\"#Loading-The-Data\" data-toc-modified-id=\"Loading-The-Data-1.1\"><span class=\"toc-item-num\">1.1&nbsp;&nbsp;</span>Loading The Data</a></span></li><li><span><a href=\"#Exploring-The-Data\" data-toc-modified-id=\"Exploring-The-Data-1.2\"><span class=\"toc-item-num\">1.2&nbsp;&nbsp;</span>Exploring The Data</a></span></li><li><span><a href=\"#Analysis\" data-toc-modified-id=\"Analysis-1.3\"><span class=\"toc-item-num\">1.3&nbsp;&nbsp;</span>Analysis</a></span></li></ul></li></ul></div>"
   ]
  },
  {
   "cell_type": "markdown",
   "id": "76d16f4d",
   "metadata": {},
   "source": [
    "# BigData - Final Project"
   ]
  },
  {
   "cell_type": "markdown",
   "id": "38335eff",
   "metadata": {},
   "source": [
    "###### To Use when you are on google collab\n",
    "!apt-get install openjdk-11-jdk-headless -qq > /dev/null\n",
    "!wget -q https://downloads.apache.org/spark/spark-3.2.1/spark-3.2.1-bin-hadoop2.7.tgz  \n",
    "!tar xf spark-3.2.1-bin-hadoop2.7.tgz\n",
    "!pip install -q findspark"
   ]
  },
  {
   "cell_type": "markdown",
   "id": "ea659e8b",
   "metadata": {},
   "source": [
    "###### TO USE WHEN YOU ARE ON GOOGLE COLLAB\n",
    "import os\n",
    "os.environ[\"JAVA_HOME\"] = \"/usr/lib/jvm/java-11-openjdk-amd64\"\n",
    "os.environ[\"SPARK_HOME\"] = \"/content/spark-3.2.1-bin-hadoop2.7\"\n",
    "import findspark\n",
    "findspark.init()\n",
    "\n",
    "from google.colab import drive\n",
    "drive.mount('/content/drive')"
   ]
  },
  {
   "cell_type": "markdown",
   "id": "80976068",
   "metadata": {},
   "source": [
    "## Loading The Data"
   ]
  },
  {
   "cell_type": "code",
   "execution_count": 1,
   "id": "d92cbfca",
   "metadata": {},
   "outputs": [],
   "source": [
    "from pyspark.sql import SparkSession"
   ]
  },
  {
   "cell_type": "code",
   "execution_count": 2,
   "id": "1d8e3e8e",
   "metadata": {},
   "outputs": [],
   "source": [
    "spark_application_name = \"WannaFlop_Project\""
   ]
  },
  {
   "cell_type": "code",
   "execution_count": 3,
   "id": "cf8bad11",
   "metadata": {},
   "outputs": [
    {
     "name": "stderr",
     "output_type": "stream",
     "text": [
      "WARNING: An illegal reflective access operation has occurred\n",
      "WARNING: Illegal reflective access by org.apache.spark.unsafe.Platform (file:/usr/local/Cellar/apache-spark/3.2.1/SPARK/jars/spark-unsafe_2.12-3.2.1.jar) to constructor java.nio.DirectByteBuffer(long,int)\n",
      "WARNING: Please consider reporting this to the maintainers of org.apache.spark.unsafe.Platform\n",
      "WARNING: Use --illegal-access=warn to enable warnings of further illegal reflective access operations\n",
      "WARNING: All illegal access operations will be denied in a future release\n",
      "Using Spark's default log4j profile: org/apache/spark/log4j-defaults.properties\n",
      "Setting default log level to \"WARN\".\n",
      "To adjust logging level use sc.setLogLevel(newLevel). For SparkR, use setLogLevel(newLevel).\n",
      "22/05/22 17:07:46 WARN NativeCodeLoader: Unable to load native-hadoop library for your platform... using builtin-java classes where applicable\n",
      "22/05/22 17:07:47 WARN Utils: Service 'SparkUI' could not bind on port 4040. Attempting port 4041.\n"
     ]
    }
   ],
   "source": [
    "spark = (SparkSession.builder.appName(spark_application_name).getOrCreate())"
   ]
  },
  {
   "cell_type": "markdown",
   "id": "7d0926b5",
   "metadata": {},
   "source": [
    "## Exploring The Data"
   ]
  },
  {
   "cell_type": "code",
   "execution_count": 4,
   "id": "a6477ef4",
   "metadata": {},
   "outputs": [],
   "source": [
    "from pyspark.sql.functions import col,isnan,when,count\n",
    "from pyspark.sql.functions import monotonically_increasing_id\n",
    "from pyspark.sql.types import DoubleType, IntegerType, StringType, DateType, StructType,StructField\n",
    "from pyspark.sql.functions import desc\n",
    "import pyspark.sql.functions as func"
   ]
  },
  {
   "cell_type": "code",
   "execution_count": 5,
   "id": "b56d2f48",
   "metadata": {},
   "outputs": [],
   "source": [
    "class read_info(object):\n",
    "    def __init__(self, file_path, header=False, delimiter=';', schema=None):\n",
    "        self.file_path = file_path\n",
    "        self.header = header\n",
    "        self.delimiter = delimiter\n",
    "        self.schema = schema\n",
    "\n",
    "        self.df = self._load_df()\n",
    "\n",
    "        #self.df_abstract = self._get_df_abstract()\n",
    "\n",
    "    def __repr__(self):\n",
    "        return f\"{self._nb_rows()} \\n{self.df.printSchema()} \\n{self.get_df_abstract()}\\n {self.show_missing()}\\n{self._get_stats()}\"\n",
    "\n",
    "    def show_missing(self):\n",
    "        print(\"Missing Data per column:\")\n",
    "        self._count_missing().show()\n",
    "\n",
    "    def _get_num_cols(self):\n",
    "        num_cols = [\n",
    "            f.name for f in self.df.schema.fields\n",
    "            if isinstance(f.dataType, DoubleType) or\n",
    "            isinstance(f.dataType, IntegerType)\n",
    "        ]\n",
    "        \n",
    "        return num_cols\n",
    "    def _get_rounded_df(self):\n",
    "        rounded_df = self.df\n",
    "        dbl_cols = self._get_num_cols()\n",
    "        for col in dbl_cols:\n",
    "            rounded_df = rounded_df.withColumn(col, func.round('high'))\n",
    "\n",
    "        return rounded_df\n",
    "\n",
    "    def get_df_abstract(self):\n",
    "        rounded_df = self._get_rounded_df()\n",
    "\n",
    "        # First 40 rows\n",
    "        print(\"First 40 rows:\")\n",
    "        rounded_df.show(40)\n",
    "\n",
    "        # Last 40 rows\n",
    "        print(\"Last 40 rows:\")\n",
    "        rounded_df = rounded_df.withColumn(\n",
    "            \"index\", monotonically_increasing_id()\n",
    "        )\n",
    "        rounded_df.orderBy(desc(\"index\")).drop(\"index\").show(40)\n",
    "\n",
    "    def _get_periodicity(self):\n",
    "        self.df['data'][0]\n",
    "\n",
    "    def _nb_rows(self):\n",
    "        # Number of total rows\n",
    "        print(\"Number of rows: \" + str(self.df.count()) + \"\\n\")\n",
    "\n",
    "    def _handle_csv(self):\n",
    "        '''\n",
    "        @description: Read the csv file and return a Spark DataFrame\n",
    "\n",
    "        @arg csv_file_path: Path to the csv file\n",
    "        @arg header: boolean whether to load a header or not\n",
    "        @arg delimiter: which delimiter to use by default\n",
    "        '''\n",
    "        return spark.read.option(\"inferSchema\", \"true\").option(\"nullValue\", \"null\").csv(\n",
    "            self.file_path,\n",
    "            sep=self.delimiter,\n",
    "            schema=self.schema,\n",
    "            header=self.header,\n",
    "        )\n",
    "    \n",
    "    def _handle_json(self):\n",
    "        return spark.read.json(self.file_path)\n",
    "\n",
    "    def _load_df(self):\n",
    "        ####### ADD TRY CATCH #####\n",
    "        extension = self.file_path.split(\".\")[-1]\n",
    "\n",
    "        df = None\n",
    "        if extension == 'json':\n",
    "            df = self._handle_json()\n",
    "        elif extension == 'csv':\n",
    "            df = self._handle_csv()\n",
    "\n",
    "        return df\n",
    "\n",
    "    def _count_missing(self):\n",
    "        cols = self.df.columns\n",
    "        cols.remove('Date')\n",
    "        return self.df.select(\n",
    "            [\n",
    "                count(when(isnan(c) | col(c).isNull(), c)).alias(c)\n",
    "                for c in cols\n",
    "            ]\n",
    "        )\n",
    "        #.show()\n",
    "        \n",
    "    def _get_stats(self):\n",
    "        self.df.summary().show()"
   ]
  },
  {
   "cell_type": "code",
   "execution_count": 6,
   "id": "9e0856ad",
   "metadata": {},
   "outputs": [
    {
     "ename": "NameError",
     "evalue": "name 'h' is not defined",
     "output_type": "error",
     "traceback": [
      "\u001b[0;31m---------------------------------------------------------------------------\u001b[0m",
      "\u001b[0;31mNameError\u001b[0m                                 Traceback (most recent call last)",
      "Input \u001b[0;32mIn [6]\u001b[0m, in \u001b[0;36m<cell line: 1>\u001b[0;34m()\u001b[0m\n\u001b[0;32m----> 1\u001b[0m \u001b[38;5;28mprint\u001b[39m(\u001b[43mh\u001b[49m)\n\u001b[1;32m      2\u001b[0m h\u001b[38;5;241m.\u001b[39mremove(\u001b[38;5;124m'\u001b[39m\u001b[38;5;124mDate\u001b[39m\u001b[38;5;124m'\u001b[39m)\n\u001b[1;32m      3\u001b[0m \u001b[38;5;28mprint\u001b[39m(h)\n",
      "\u001b[0;31mNameError\u001b[0m: name 'h' is not defined"
     ]
    }
   ],
   "source": [
    "print(h)\n",
    "h.remove('Date')\n",
    "print(h)"
   ]
  },
  {
   "cell_type": "code",
   "execution_count": null,
   "id": "57585dff",
   "metadata": {},
   "outputs": [],
   "source": [
    "amzn_schema = StructType([\n",
    "    StructField('Date', DateType(), True),\n",
    "    StructField('High', DoubleType(), True),\n",
    "    StructField('Low', DoubleType(), True),\n",
    "    StructField('Open', DoubleType(), True),\n",
    "    StructField('Close', DoubleType(), True),\n",
    "    StructField('Volume', IntegerType(), True),\n",
    "    StructField('Adj Close', DoubleType(), True),\n",
    "    StructField('company_name', StringType(), True)\n",
    "])"
   ]
  },
  {
   "cell_type": "code",
   "execution_count": null,
   "id": "276a609a",
   "metadata": {},
   "outputs": [],
   "source": [
    "AMZN = read_info('stocks_data/AMAZON.csv', header=True, delimiter=',', schema=amzn_schema)"
   ]
  },
  {
   "cell_type": "code",
   "execution_count": null,
   "id": "05cbf75e",
   "metadata": {},
   "outputs": [],
   "source": [
    "print(AMZN)"
   ]
  },
  {
   "cell_type": "code",
   "execution_count": null,
   "id": "39f70176",
   "metadata": {},
   "outputs": [],
   "source": [
    "##### A FAIRE !!!! UN SCHEMA !!!!!"
   ]
  },
  {
   "cell_type": "code",
   "execution_count": null,
   "id": "d34633e5",
   "metadata": {},
   "outputs": [],
   "source": [
    "AMZN.get_df_abstract()"
   ]
  },
  {
   "cell_type": "code",
   "execution_count": null,
   "id": "82df148b",
   "metadata": {},
   "outputs": [],
   "source": [
    "AMZN.show_missing()"
   ]
  },
  {
   "cell_type": "code",
   "execution_count": null,
   "id": "1cc6366d",
   "metadata": {},
   "outputs": [],
   "source": [
    "AMZN._get_stats()"
   ]
  },
  {
   "cell_type": "code",
   "execution_count": null,
   "id": "57c3fabc",
   "metadata": {},
   "outputs": [],
   "source": [
    "AMZN.df.withColumn(\"test\", \n",
    "              func.datediff(AMZN.df[\"date\"][0], AMZN.df[\"date\"][1])).show()"
   ]
  },
  {
   "cell_type": "code",
   "execution_count": null,
   "id": "f8a50b62",
   "metadata": {},
   "outputs": [],
   "source": [
    "AMZN.df[\"Date\"].getItem(2)"
   ]
  },
  {
   "cell_type": "code",
   "execution_count": null,
   "id": "223d646a",
   "metadata": {},
   "outputs": [],
   "source": [
    "AMZN.df.first()['Date']"
   ]
  },
  {
   "cell_type": "code",
   "execution_count": null,
   "id": "979dd55a",
   "metadata": {},
   "outputs": [],
   "source": [
    "AMZN.df.__get_item(0)"
   ]
  },
  {
   "cell_type": "code",
   "execution_count": null,
   "id": "519573ae",
   "metadata": {},
   "outputs": [],
   "source": [
    "AMZN.df.second()['Date']"
   ]
  },
  {
   "cell_type": "code",
   "execution_count": null,
   "id": "c9d87e74",
   "metadata": {},
   "outputs": [],
   "source": [
    "func.getrows(AMZN.df, rownums=[0, 2]).collect()"
   ]
  },
  {
   "cell_type": "code",
   "execution_count": null,
   "id": "a0ffe9c7",
   "metadata": {},
   "outputs": [],
   "source": [
    "AMZN.df[0].__getitem__(\"Date\").first()"
   ]
  },
  {
   "cell_type": "code",
   "execution_count": null,
   "id": "98873aed",
   "metadata": {},
   "outputs": [],
   "source": [
    "AMZN.df[0]"
   ]
  },
  {
   "cell_type": "code",
   "execution_count": null,
   "id": "94443091",
   "metadata": {},
   "outputs": [],
   "source": [
    "AMZN.df.select('Date').show()"
   ]
  },
  {
   "cell_type": "code",
   "execution_count": null,
   "id": "acb97926",
   "metadata": {},
   "outputs": [],
   "source": [
    "AMZN.df\n"
   ]
  },
  {
   "cell_type": "code",
   "execution_count": null,
   "id": "cdade456",
   "metadata": {},
   "outputs": [],
   "source": [
    "from pyspark import SparkContext\n",
    "from pyspark.sql import SQLContext\n",
    "from pyspark.sql import functions as F\n",
    "from pyspark.sql.window import Window\n",
    "\n",
    "\n",
    "\n",
    "my_window = Window.partitionBy().orderBy(\"Date\")\n",
    "\n",
    "df = AMZN.df.withColumn(\"prev_value\", F.lag(AMZN.df.Date).over(my_window))\n",
    "df = df.withColumn(\"diff\", F.when(F.isnull(F.datediff(df.Date, df.prev_value)), 0)\n",
    "                              .otherwise(F.datediff(df.Date, df.prev_value)))"
   ]
  },
  {
   "cell_type": "code",
   "execution_count": null,
   "id": "9ffe5ff1",
   "metadata": {},
   "outputs": [],
   "source": [
    "df.select(\"diff\").show()"
   ]
  },
  {
   "cell_type": "code",
   "execution_count": null,
   "id": "558d813b",
   "metadata": {},
   "outputs": [],
   "source": [
    "from pyspark.sql.functions import mean"
   ]
  },
  {
   "cell_type": "code",
   "execution_count": null,
   "id": "d9d0d159",
   "metadata": {},
   "outputs": [],
   "source": [
    "df.select(mean('diff')).first()[0]"
   ]
  },
  {
   "cell_type": "code",
   "execution_count": null,
   "id": "6381618d",
   "metadata": {},
   "outputs": [],
   "source": [
    "AMZN.df.stat.corr('High', 'Low')"
   ]
  },
  {
   "cell_type": "markdown",
   "id": "1249c72e",
   "metadata": {},
   "source": [
    "TODO: Create function to compute per month week year"
   ]
  },
  {
   "cell_type": "code",
   "execution_count": null,
   "id": "b4aecfcd",
   "metadata": {},
   "outputs": [],
   "source": [
    "AMZN.df.select(mean (\"Close\")).first()[0]"
   ]
  },
  {
   "cell_type": "code",
   "execution_count": null,
   "id": "1fb98d0c",
   "metadata": {},
   "outputs": [],
   "source": [
    "def get_col_mean(df, col):\n",
    "    return df.select(mean (col)).first()[0]"
   ]
  },
  {
   "cell_type": "code",
   "execution_count": null,
   "id": "68a9a7fb",
   "metadata": {},
   "outputs": [],
   "source": [
    "get_col_mean(AMZN.df, \"Close\")"
   ]
  },
  {
   "cell_type": "code",
   "execution_count": null,
   "id": "6b28887c",
   "metadata": {},
   "outputs": [],
   "source": [
    "AMZN.df.groupBy(func.weekofyear(\"day\").alias(\"date_by_week\")).agg(sum(\"Date\"))"
   ]
  },
  {
   "cell_type": "code",
   "execution_count": null,
   "id": "9deddd5d",
   "metadata": {},
   "outputs": [],
   "source": [
    "AMZN.df.groupBy(func.weekofyear(\"day\").alias(\"date_by_week\")).agg(sum(\"Close\")).orderBy(\"date_by_week\").show()"
   ]
  },
  {
   "cell_type": "code",
   "execution_count": null,
   "id": "7c180653",
   "metadata": {},
   "outputs": [],
   "source": [
    "AMZN.df.withColumn(\"Date\",func.date_sub(func.next_day(col(\"Date\"),\"sunday\"),7)).groupBy(\"Date\").agg(sum(\"Close\").cast(\"int\").alias(\"Close_total\")).orderBy(\"week_strt_day\").show()\n"
   ]
  },
  {
   "cell_type": "code",
   "execution_count": null,
   "id": "61523a42",
   "metadata": {},
   "outputs": [],
   "source": [
    "AMZN.df.groupBy(\"Date\").select(\"Close\").show()"
   ]
  },
  {
   "cell_type": "code",
   "execution_count": null,
   "id": "5d96f825",
   "metadata": {},
   "outputs": [],
   "source": [
    "AMZN.df.groupBy(func.month(\"Date\").alias(\"hour\")).agg(mean(\"Close\").alias(\"close_mean\")).show()"
   ]
  },
  {
   "cell_type": "code",
   "execution_count": null,
   "id": "212f331e",
   "metadata": {},
   "outputs": [],
   "source": [
    "AMZN.df.groupBy(func.year(\"Date\").alias(\"hour\")).agg(mean(\"Close\").alias(\"close_mean\")).show()"
   ]
  },
  {
   "cell_type": "code",
   "execution_count": null,
   "id": "60c295a7",
   "metadata": {},
   "outputs": [],
   "source": [
    "get_avg(AMZN.df, \"Close\", func.year)"
   ]
  },
  {
   "cell_type": "code",
   "execution_count": null,
   "id": "9b509bb2",
   "metadata": {},
   "outputs": [],
   "source": [
    "get_avg(AMZN.df, \"Open\", func.year)"
   ]
  },
  {
   "cell_type": "code",
   "execution_count": null,
   "id": "7bf35233",
   "metadata": {},
   "outputs": [],
   "source": [
    "class Exploration(object):\n",
    "    def __init__(self, df):\n",
    "        self.df = df\n",
    "\n",
    "    def get_oc_avg(self, fun):\n",
    "        close = self._compute_avg(self.df, \"Close\", fun)\n",
    "        opening = self._compute_avg(self.df, \"Open\", fun)\n",
    "\n",
    "        return close.join(\n",
    "            opening, opening.Open_new_time == close.Close_new_time, \"inner\"\n",
    "        ).orderBy(\"Close_new_time\").select(\n",
    "            close.Close_new_time, close.Close_mean, opening.Open_mean\n",
    "        )\n",
    "\n",
    "    def _compute_avg(self, df, col, fun):\n",
    "        return df.groupBy(fun(\"Date\").alias(col + \"_new_time\")).agg(\n",
    "            mean(col).alias(col + \"_mean\")\n",
    "        )"
   ]
  },
  {
   "cell_type": "code",
   "execution_count": 72,
   "id": "fef66e28",
   "metadata": {},
   "outputs": [
    {
     "ename": "NameError",
     "evalue": "name 'Exploration' is not defined",
     "output_type": "error",
     "traceback": [
      "\u001b[0;31m---------------------------------------------------------------------------\u001b[0m",
      "\u001b[0;31mNameError\u001b[0m                                 Traceback (most recent call last)",
      "Input \u001b[0;32mIn [72]\u001b[0m, in \u001b[0;36m<cell line: 1>\u001b[0;34m()\u001b[0m\n\u001b[0;32m----> 1\u001b[0m exAMZN \u001b[38;5;241m=\u001b[39m \u001b[43mExploration\u001b[49m(AMZN\u001b[38;5;241m.\u001b[39mdf)\n",
      "\u001b[0;31mNameError\u001b[0m: name 'Exploration' is not defined"
     ]
    }
   ],
   "source": [
    "exAMZN = Exploration(AMZN.df)"
   ]
  },
  {
   "cell_type": "code",
   "execution_count": null,
   "id": "64483441",
   "metadata": {},
   "outputs": [],
   "source": [
    "exAMZN.get_oc_avg(func.month).show()"
   ]
  },
  {
   "cell_type": "code",
   "execution_count": 7,
   "id": "18fd10f3",
   "metadata": {},
   "outputs": [
    {
     "ename": "NameError",
     "evalue": "name 'exAMZN' is not defined",
     "output_type": "error",
     "traceback": [
      "\u001b[0;31m---------------------------------------------------------------------------\u001b[0m",
      "\u001b[0;31mNameError\u001b[0m                                 Traceback (most recent call last)",
      "Input \u001b[0;32mIn [7]\u001b[0m, in \u001b[0;36m<cell line: 1>\u001b[0;34m()\u001b[0m\n\u001b[0;32m----> 1\u001b[0m \u001b[43mexAMZN\u001b[49m\u001b[38;5;241m.\u001b[39mget_oc_avg(func\u001b[38;5;241m.\u001b[39myear)\u001b[38;5;241m.\u001b[39mshow()\n",
      "\u001b[0;31mNameError\u001b[0m: name 'exAMZN' is not defined"
     ]
    }
   ],
   "source": [
    "exAMZN.get_oc_avg(func.year).show()"
   ]
  },
  {
   "cell_type": "code",
   "execution_count": 8,
   "id": "6d2c0650",
   "metadata": {},
   "outputs": [],
   "source": [
    "def get_price_change(period=None):\n",
    "    df = AMZN.df\n",
    "    if period:\n",
    "        df= exAMZN.get_oc_avg(period)\n",
    "   \n",
    "    return  df.withColumn('diff', ( df['Close_mean'] - df['Open_mean'] ))"
   ]
  },
  {
   "cell_type": "code",
   "execution_count": 9,
   "id": "c1f07826",
   "metadata": {},
   "outputs": [
    {
     "ename": "NameError",
     "evalue": "name 'AMZN' is not defined",
     "output_type": "error",
     "traceback": [
      "\u001b[0;31m---------------------------------------------------------------------------\u001b[0m",
      "\u001b[0;31mNameError\u001b[0m                                 Traceback (most recent call last)",
      "Input \u001b[0;32mIn [9]\u001b[0m, in \u001b[0;36m<cell line: 1>\u001b[0;34m()\u001b[0m\n\u001b[0;32m----> 1\u001b[0m \u001b[43mget_price_change\u001b[49m\u001b[43m(\u001b[49m\u001b[43mfunc\u001b[49m\u001b[38;5;241;43m.\u001b[39;49m\u001b[43mmonth\u001b[49m\u001b[43m)\u001b[49m\u001b[38;5;241m.\u001b[39mshow()\n",
      "Input \u001b[0;32mIn [8]\u001b[0m, in \u001b[0;36mget_price_change\u001b[0;34m(period)\u001b[0m\n\u001b[1;32m      1\u001b[0m \u001b[38;5;28;01mdef\u001b[39;00m \u001b[38;5;21mget_price_change\u001b[39m(period\u001b[38;5;241m=\u001b[39m\u001b[38;5;28;01mNone\u001b[39;00m):\n\u001b[0;32m----> 2\u001b[0m     df \u001b[38;5;241m=\u001b[39m \u001b[43mAMZN\u001b[49m\u001b[38;5;241m.\u001b[39mdf\n\u001b[1;32m      3\u001b[0m     \u001b[38;5;28;01mif\u001b[39;00m period:\n\u001b[1;32m      4\u001b[0m         df\u001b[38;5;241m=\u001b[39m exAMZN\u001b[38;5;241m.\u001b[39mget_oc_avg(period)\n",
      "\u001b[0;31mNameError\u001b[0m: name 'AMZN' is not defined"
     ]
    }
   ],
   "source": [
    "get_price_change(func.month).show()"
   ]
  },
  {
   "cell_type": "code",
   "execution_count": 10,
   "id": "14c0d8bc",
   "metadata": {},
   "outputs": [
    {
     "ename": "NameError",
     "evalue": "name 'AMZN' is not defined",
     "output_type": "error",
     "traceback": [
      "\u001b[0;31m---------------------------------------------------------------------------\u001b[0m",
      "\u001b[0;31mNameError\u001b[0m                                 Traceback (most recent call last)",
      "Input \u001b[0;32mIn [10]\u001b[0m, in \u001b[0;36m<cell line: 1>\u001b[0;34m()\u001b[0m\n\u001b[0;32m----> 1\u001b[0m \u001b[43mget_price_change\u001b[49m\u001b[43m(\u001b[49m\u001b[43mfunc\u001b[49m\u001b[38;5;241;43m.\u001b[39;49m\u001b[43myear\u001b[49m\u001b[43m)\u001b[49m\u001b[38;5;241m.\u001b[39mshow()\n",
      "Input \u001b[0;32mIn [8]\u001b[0m, in \u001b[0;36mget_price_change\u001b[0;34m(period)\u001b[0m\n\u001b[1;32m      1\u001b[0m \u001b[38;5;28;01mdef\u001b[39;00m \u001b[38;5;21mget_price_change\u001b[39m(period\u001b[38;5;241m=\u001b[39m\u001b[38;5;28;01mNone\u001b[39;00m):\n\u001b[0;32m----> 2\u001b[0m     df \u001b[38;5;241m=\u001b[39m \u001b[43mAMZN\u001b[49m\u001b[38;5;241m.\u001b[39mdf\n\u001b[1;32m      3\u001b[0m     \u001b[38;5;28;01mif\u001b[39;00m period:\n\u001b[1;32m      4\u001b[0m         df\u001b[38;5;241m=\u001b[39m exAMZN\u001b[38;5;241m.\u001b[39mget_oc_avg(period)\n",
      "\u001b[0;31mNameError\u001b[0m: name 'AMZN' is not defined"
     ]
    }
   ],
   "source": [
    "get_price_change(func.year).show()"
   ]
  },
  {
   "cell_type": "code",
   "execution_count": null,
   "id": "d1e6d8d2",
   "metadata": {},
   "outputs": [],
   "source": []
  },
  {
   "cell_type": "code",
   "execution_count": null,
   "id": "20fcf1d8",
   "metadata": {},
   "outputs": [],
   "source": []
  },
  {
   "cell_type": "code",
   "execution_count": null,
   "id": "c36021db",
   "metadata": {},
   "outputs": [],
   "source": []
  },
  {
   "cell_type": "code",
   "execution_count": 70,
   "id": "d3ca4a2d",
   "metadata": {},
   "outputs": [
    {
     "name": "stdout",
     "output_type": "stream",
     "text": [
      "The autoreload extension is already loaded. To reload it, use:\n",
      "  %reload_ext autoreload\n"
     ]
    }
   ],
   "source": [
    "%load_ext autoreload\n",
    "%autoreload 2"
   ]
  },
  {
   "cell_type": "code",
   "execution_count": 73,
   "id": "812445ab",
   "metadata": {},
   "outputs": [],
   "source": [
    "from stock import Stock"
   ]
  },
  {
   "cell_type": "code",
   "execution_count": 74,
   "id": "c1621cd7",
   "metadata": {},
   "outputs": [],
   "source": [
    "from pyspark.sql.types import DoubleType, IntegerType, StringType, DateType, StructType,StructField"
   ]
  },
  {
   "cell_type": "code",
   "execution_count": 75,
   "id": "c9f0d047",
   "metadata": {},
   "outputs": [],
   "source": [
    "amzn_schema = StructType([\n",
    "    StructField('Date', DateType(), True),\n",
    "    StructField('High', DoubleType(), True),\n",
    "    StructField('Low', DoubleType(), True),\n",
    "    StructField('Open', DoubleType(), True),\n",
    "    StructField('Close', DoubleType(), True),\n",
    "    StructField('Volume', DoubleType(), True),\n",
    "    StructField('Adj Close', DoubleType(), True),\n",
    "    StructField('company_name', StringType(), True)\n",
    "])"
   ]
  },
  {
   "cell_type": "code",
   "execution_count": 76,
   "id": "0961438c",
   "metadata": {},
   "outputs": [],
   "source": [
    "AMZN = Stock('stocks_data/AMAZON.csv', header=True, delimiter=',', schema=amzn_schema)"
   ]
  },
  {
   "cell_type": "code",
   "execution_count": 77,
   "id": "fb4526c4",
   "metadata": {},
   "outputs": [
    {
     "name": "stdout",
     "output_type": "stream",
     "text": [
      "root\n",
      " |-- Date: date (nullable = true)\n",
      " |-- High: double (nullable = true)\n",
      " |-- Low: double (nullable = true)\n",
      " |-- Open: double (nullable = true)\n",
      " |-- Close: double (nullable = true)\n",
      " |-- Volume: double (nullable = true)\n",
      " |-- Adj Close: double (nullable = true)\n",
      " |-- company_name: string (nullable = true)\n",
      "\n",
      "First 40 rows:\n",
      "+----------+-----+-----+-----+-----+---------+---------+------------+\n",
      "|      Date| High|  Low| Open|Close|   Volume|Adj Close|company_name|\n",
      "+----------+-----+-----+-----+-----+---------+---------+------------+\n",
      "|2017-01-03|759.0|748.0|758.0|754.0|3521100.0|    754.0|      AMAZON|\n",
      "|2017-01-04|760.0|754.0|758.0|757.0|2510500.0|    757.0|      AMAZON|\n",
      "|2017-01-05|782.0|760.0|762.0|780.0|5830100.0|    780.0|      AMAZON|\n",
      "|2017-01-06|799.0|778.0|782.0|796.0|5986200.0|    796.0|      AMAZON|\n",
      "|2017-01-09|802.0|792.0|798.0|797.0|3446100.0|    797.0|      AMAZON|\n",
      "|2017-01-10|798.0|790.0|797.0|796.0|2558400.0|    796.0|      AMAZON|\n",
      "|2017-01-11|800.0|790.0|794.0|799.0|2992800.0|    799.0|      AMAZON|\n",
      "|2017-01-12|814.0|800.0|800.0|814.0|4873900.0|    814.0|      AMAZON|\n",
      "|2017-01-13|822.0|811.0|814.0|817.0|3791900.0|    817.0|      AMAZON|\n",
      "|2017-01-17|816.0|803.0|816.0|810.0|3670500.0|    810.0|      AMAZON|\n",
      "|2017-01-18|812.0|804.0|810.0|807.0|2354200.0|    807.0|      AMAZON|\n",
      "|2017-01-19|814.0|807.0|810.0|809.0|2540800.0|    809.0|      AMAZON|\n",
      "|2017-01-20|816.0|806.0|815.0|808.0|3376200.0|    808.0|      AMAZON|\n",
      "|2017-01-23|819.0|805.0|807.0|818.0|2797500.0|    818.0|      AMAZON|\n",
      "|2017-01-24|824.0|815.0|822.0|822.0|2971700.0|    822.0|      AMAZON|\n",
      "|2017-01-25|837.0|825.0|826.0|837.0|3922600.0|    837.0|      AMAZON|\n",
      "|2017-01-26|844.0|833.0|836.0|839.0|3586300.0|    839.0|      AMAZON|\n",
      "|2017-01-27|840.0|829.0|839.0|836.0|2998700.0|    836.0|      AMAZON|\n",
      "|2017-01-30|834.0|816.0|833.0|830.0|3747300.0|    830.0|      AMAZON|\n",
      "|2017-01-31|827.0|820.0|824.0|823.0|3137200.0|    823.0|      AMAZON|\n",
      "|2017-02-01|834.0|825.0|829.0|832.0|3850200.0|    832.0|      AMAZON|\n",
      "|2017-02-02|842.0|828.0|837.0|840.0|7350500.0|    840.0|      AMAZON|\n",
      "|2017-02-03|818.0|804.0|807.0|810.0|1.08688E7|    810.0|      AMAZON|\n",
      "|2017-02-06|811.0|803.0|810.0|808.0|3897300.0|    808.0|      AMAZON|\n",
      "|2017-02-07|816.0|808.0|809.0|813.0|3466100.0|    813.0|      AMAZON|\n",
      "|2017-02-08|821.0|813.0|813.0|820.0|2858000.0|    820.0|      AMAZON|\n",
      "|2017-02-09|825.0|820.0|822.0|821.0|2484900.0|    821.0|      AMAZON|\n",
      "|2017-02-10|828.0|823.0|824.0|827.0|2429600.0|    827.0|      AMAZON|\n",
      "|2017-02-13|843.0|829.0|832.0|837.0|4172600.0|    837.0|      AMAZON|\n",
      "|2017-02-14|838.0|831.0|837.0|836.0|2792400.0|    836.0|      AMAZON|\n",
      "|2017-02-15|843.0|833.0|834.0|843.0|2968900.0|    843.0|      AMAZON|\n",
      "|2017-02-16|845.0|839.0|842.0|844.0|2714700.0|    844.0|      AMAZON|\n",
      "|2017-02-17|847.0|841.0|842.0|845.0|3112300.0|    845.0|      AMAZON|\n",
      "|2017-02-21|858.0|847.0|849.0|856.0|3507700.0|    856.0|      AMAZON|\n",
      "|2017-02-22|858.0|852.0|857.0|856.0|2617000.0|    856.0|      AMAZON|\n",
      "|2017-02-23|861.0|848.0|858.0|852.0|3462000.0|    852.0|      AMAZON|\n",
      "|2017-02-24|846.0|838.0|845.0|845.0|3688000.0|    845.0|      AMAZON|\n",
      "|2017-02-27|853.0|840.0|842.0|849.0|2713600.0|    849.0|      AMAZON|\n",
      "|2017-02-28|854.0|842.0|851.0|845.0|2793700.0|    845.0|      AMAZON|\n",
      "|2017-03-01|855.0|849.0|853.0|853.0|2760100.0|    853.0|      AMAZON|\n",
      "+----------+-----+-----+-----+-----+---------+---------+------------+\n",
      "only showing top 40 rows\n",
      "\n",
      "Last 40 rows:\n",
      "+----------+------+------+------+------+---------+---------+------------+\n",
      "|      Date|  High|   Low|  Open| Close|   Volume|Adj Close|company_name|\n",
      "+----------+------+------+------+------+---------+---------+------------+\n",
      "|2020-12-02|3224.0|3173.0|3222.0|3213.0|1119593.0|   3213.0|      AMAZON|\n",
      "|2020-12-01|3249.0|3157.0|3189.0|3220.0|4537000.0|   3220.0|      AMAZON|\n",
      "|2020-11-30|3228.0|3126.0|3208.0|3168.0|4063900.0|   3168.0|      AMAZON|\n",
      "|2020-11-27|3216.0|3190.0|3211.0|3195.0|2392900.0|   3195.0|      AMAZON|\n",
      "|2020-11-25|3198.0|3140.0|3142.0|3185.0|3790400.0|   3185.0|      AMAZON|\n",
      "|2020-11-24|3134.0|3086.0|3101.0|3118.0|3602100.0|   3118.0|      AMAZON|\n",
      "|2020-11-23|3140.0|3065.0|3117.0|3098.0|4708900.0|   3098.0|      AMAZON|\n",
      "|2020-11-20|3133.0|3098.0|3117.0|3099.0|3374400.0|   3099.0|      AMAZON|\n",
      "|2020-11-19|3125.0|3081.0|3105.0|3117.0|3010300.0|   3117.0|      AMAZON|\n",
      "|2020-11-18|3140.0|3105.0|3134.0|3105.0|2916800.0|   3105.0|      AMAZON|\n",
      "|2020-11-17|3189.0|3135.0|3184.0|3136.0|3444700.0|   3136.0|      AMAZON|\n",
      "|2020-11-16|3143.0|3073.0|3093.0|3131.0|3808700.0|   3131.0|      AMAZON|\n",
      "|2020-11-13|3142.0|3085.0|3122.0|3129.0|3756200.0|   3129.0|      AMAZON|\n",
      "|2020-11-12|3176.0|3086.0|3160.0|3110.0|4362000.0|   3110.0|      AMAZON|\n",
      "|2020-11-11|3139.0|3050.0|3062.0|3137.0|4366900.0|   3137.0|      AMAZON|\n",
      "|2020-11-10|3114.0|3019.0|3095.0|3035.0|6591000.0|   3035.0|      AMAZON|\n",
      "|2020-11-09|3289.0|3112.0|3231.0|3144.0|7190400.0|   3144.0|      AMAZON|\n",
      "|2020-11-06|3322.0|3232.0|3305.0|3311.0|4647300.0|   3311.0|      AMAZON|\n",
      "|2020-11-05|3367.0|3289.0|3320.0|3322.0|5789300.0|   3322.0|      AMAZON|\n",
      "|2020-11-04|3245.0|3140.0|3160.0|3241.0|6839000.0|   3241.0|      AMAZON|\n",
      "|2020-11-03|3075.0|2981.0|3019.0|3048.0|4897900.0|   3048.0|      AMAZON|\n",
      "|2020-11-02|3080.0|2950.0|3062.0|3004.0|7257400.0|   3004.0|      AMAZON|\n",
      "|2020-10-30|3167.0|3019.0|3158.0|3036.0|8386400.0|   3036.0|      AMAZON|\n",
      "|2020-10-29|3257.0|3164.0|3201.0|3211.0|6596500.0|   3211.0|      AMAZON|\n",
      "|2020-10-28|3264.0|3162.0|3249.0|3163.0|5588300.0|   3163.0|      AMAZON|\n",
      "|2020-10-27|3292.0|3211.0|3225.0|3286.0|4291000.0|   3286.0|      AMAZON|\n",
      "|2020-10-26|3283.0|3153.0|3199.0|3207.0|5901200.0|   3207.0|      AMAZON|\n",
      "|2020-10-23|3205.0|3140.0|3191.0|3204.0|3466700.0|   3204.0|      AMAZON|\n",
      "|2020-10-22|3199.0|3122.0|3190.0|3176.0|4212000.0|   3176.0|      AMAZON|\n",
      "|2020-10-21|3234.0|3160.0|3213.0|3185.0|4592700.0|   3185.0|      AMAZON|\n",
      "|2020-10-20|3266.0|3192.0|3222.0|3217.0|4509700.0|   3217.0|      AMAZON|\n",
      "|2020-10-19|3329.0|3193.0|3300.0|3207.0|5223600.0|   3207.0|      AMAZON|\n",
      "|2020-10-16|3400.0|3160.0|3363.0|3273.0|6474400.0|   3273.0|      AMAZON|\n",
      "|2020-10-15|3356.0|3280.0|3292.0|3339.0|5223400.0|   3339.0|      AMAZON|\n",
      "|2020-10-14|3465.0|3340.0|3447.0|3364.0|5828900.0|   3364.0|      AMAZON|\n",
      "|2020-10-13|3492.0|3424.0|3468.0|3444.0|5744700.0|   3444.0|      AMAZON|\n",
      "|2020-10-12|3496.0|3340.0|3350.0|3443.0|8364200.0|   3443.0|      AMAZON|\n",
      "|2020-10-09|3289.0|3198.0|3210.0|3287.0|4907900.0|   3287.0|      AMAZON|\n",
      "|2020-10-08|3233.0|3175.0|3225.0|3191.0|3174100.0|   3191.0|      AMAZON|\n",
      "|2020-10-07|3200.0|3132.0|3135.0|3196.0|4309400.0|   3196.0|      AMAZON|\n",
      "+----------+------+------+------+------+---------+---------+------------+\n",
      "only showing top 40 rows\n",
      "\n"
     ]
    },
    {
     "ename": "AttributeError",
     "evalue": "'Explore' object has no attribute '_nb_rows'",
     "output_type": "error",
     "traceback": [
      "\u001b[0;31m---------------------------------------------------------------------------\u001b[0m",
      "\u001b[0;31mAttributeError\u001b[0m                            Traceback (most recent call last)",
      "File \u001b[0;32m/usr/local/Cellar/jupyterlab/3.3.2/libexec/lib/python3.9/site-packages/IPython/core/formatters.py:707\u001b[0m, in \u001b[0;36mPlainTextFormatter.__call__\u001b[0;34m(self, obj)\u001b[0m\n\u001b[1;32m    700\u001b[0m stream \u001b[38;5;241m=\u001b[39m StringIO()\n\u001b[1;32m    701\u001b[0m printer \u001b[38;5;241m=\u001b[39m pretty\u001b[38;5;241m.\u001b[39mRepresentationPrinter(stream, \u001b[38;5;28mself\u001b[39m\u001b[38;5;241m.\u001b[39mverbose,\n\u001b[1;32m    702\u001b[0m     \u001b[38;5;28mself\u001b[39m\u001b[38;5;241m.\u001b[39mmax_width, \u001b[38;5;28mself\u001b[39m\u001b[38;5;241m.\u001b[39mnewline,\n\u001b[1;32m    703\u001b[0m     max_seq_length\u001b[38;5;241m=\u001b[39m\u001b[38;5;28mself\u001b[39m\u001b[38;5;241m.\u001b[39mmax_seq_length,\n\u001b[1;32m    704\u001b[0m     singleton_pprinters\u001b[38;5;241m=\u001b[39m\u001b[38;5;28mself\u001b[39m\u001b[38;5;241m.\u001b[39msingleton_printers,\n\u001b[1;32m    705\u001b[0m     type_pprinters\u001b[38;5;241m=\u001b[39m\u001b[38;5;28mself\u001b[39m\u001b[38;5;241m.\u001b[39mtype_printers,\n\u001b[1;32m    706\u001b[0m     deferred_pprinters\u001b[38;5;241m=\u001b[39m\u001b[38;5;28mself\u001b[39m\u001b[38;5;241m.\u001b[39mdeferred_printers)\n\u001b[0;32m--> 707\u001b[0m \u001b[43mprinter\u001b[49m\u001b[38;5;241;43m.\u001b[39;49m\u001b[43mpretty\u001b[49m\u001b[43m(\u001b[49m\u001b[43mobj\u001b[49m\u001b[43m)\u001b[49m\n\u001b[1;32m    708\u001b[0m printer\u001b[38;5;241m.\u001b[39mflush()\n\u001b[1;32m    709\u001b[0m \u001b[38;5;28;01mreturn\u001b[39;00m stream\u001b[38;5;241m.\u001b[39mgetvalue()\n",
      "File \u001b[0;32m/usr/local/Cellar/jupyterlab/3.3.2/libexec/lib/python3.9/site-packages/IPython/lib/pretty.py:410\u001b[0m, in \u001b[0;36mRepresentationPrinter.pretty\u001b[0;34m(self, obj)\u001b[0m\n\u001b[1;32m    407\u001b[0m                         \u001b[38;5;28;01mreturn\u001b[39;00m meth(obj, \u001b[38;5;28mself\u001b[39m, cycle)\n\u001b[1;32m    408\u001b[0m                 \u001b[38;5;28;01mif\u001b[39;00m \u001b[38;5;28mcls\u001b[39m \u001b[38;5;129;01mis\u001b[39;00m \u001b[38;5;129;01mnot\u001b[39;00m \u001b[38;5;28mobject\u001b[39m \\\n\u001b[1;32m    409\u001b[0m                         \u001b[38;5;129;01mand\u001b[39;00m callable(\u001b[38;5;28mcls\u001b[39m\u001b[38;5;241m.\u001b[39m\u001b[38;5;18m__dict__\u001b[39m\u001b[38;5;241m.\u001b[39mget(\u001b[38;5;124m'\u001b[39m\u001b[38;5;124m__repr__\u001b[39m\u001b[38;5;124m'\u001b[39m)):\n\u001b[0;32m--> 410\u001b[0m                     \u001b[38;5;28;01mreturn\u001b[39;00m \u001b[43m_repr_pprint\u001b[49m\u001b[43m(\u001b[49m\u001b[43mobj\u001b[49m\u001b[43m,\u001b[49m\u001b[43m \u001b[49m\u001b[38;5;28;43mself\u001b[39;49m\u001b[43m,\u001b[49m\u001b[43m \u001b[49m\u001b[43mcycle\u001b[49m\u001b[43m)\u001b[49m\n\u001b[1;32m    412\u001b[0m     \u001b[38;5;28;01mreturn\u001b[39;00m _default_pprint(obj, \u001b[38;5;28mself\u001b[39m, cycle)\n\u001b[1;32m    413\u001b[0m \u001b[38;5;28;01mfinally\u001b[39;00m:\n",
      "File \u001b[0;32m/usr/local/Cellar/jupyterlab/3.3.2/libexec/lib/python3.9/site-packages/IPython/lib/pretty.py:778\u001b[0m, in \u001b[0;36m_repr_pprint\u001b[0;34m(obj, p, cycle)\u001b[0m\n\u001b[1;32m    776\u001b[0m \u001b[38;5;124;03m\"\"\"A pprint that just redirects to the normal repr function.\"\"\"\u001b[39;00m\n\u001b[1;32m    777\u001b[0m \u001b[38;5;66;03m# Find newlines and replace them with p.break_()\u001b[39;00m\n\u001b[0;32m--> 778\u001b[0m output \u001b[38;5;241m=\u001b[39m \u001b[38;5;28;43mrepr\u001b[39;49m\u001b[43m(\u001b[49m\u001b[43mobj\u001b[49m\u001b[43m)\u001b[49m\n\u001b[1;32m    779\u001b[0m lines \u001b[38;5;241m=\u001b[39m output\u001b[38;5;241m.\u001b[39msplitlines()\n\u001b[1;32m    780\u001b[0m \u001b[38;5;28;01mwith\u001b[39;00m p\u001b[38;5;241m.\u001b[39mgroup():\n",
      "File \u001b[0;32m~/Library/Mobile Documents/com~apple~CloudDocs/EPITA/prog/BigData/Project/stock.py:124\u001b[0m, in \u001b[0;36m__repr__\u001b[0;34m(self)\u001b[0m\n\u001b[1;32m    122\u001b[0m {self._print_schema()}\\n\n\u001b[1;32m    123\u001b[0m {self.get_df_abstract()}\\n\n\u001b[0;32m--> 124\u001b[0m {self._nb_rows()}\\n\n\u001b[1;32m    125\u001b[0m {self.get_stats()}\\n\n\u001b[1;32m    126\u001b[0m {self.get_missing()}\"\"\"\n",
      "\u001b[0;31mAttributeError\u001b[0m: 'Explore' object has no attribute '_nb_rows'"
     ]
    }
   ],
   "source": [
    "AMZN.explore"
   ]
  },
  {
   "cell_type": "code",
   "execution_count": 78,
   "id": "e8daac0c",
   "metadata": {},
   "outputs": [
    {
     "ename": "AttributeError",
     "evalue": "'Explore' object has no attribute '_nb_rows'",
     "output_type": "error",
     "traceback": [
      "\u001b[0;31m---------------------------------------------------------------------------\u001b[0m",
      "\u001b[0;31mAttributeError\u001b[0m                            Traceback (most recent call last)",
      "Input \u001b[0;32mIn [78]\u001b[0m, in \u001b[0;36m<cell line: 1>\u001b[0;34m()\u001b[0m\n\u001b[0;32m----> 1\u001b[0m \u001b[43mAMZN\u001b[49m\u001b[38;5;241;43m.\u001b[39;49m\u001b[43mexplore\u001b[49m\u001b[38;5;241;43m.\u001b[39;49m\u001b[43m_nb_rows\u001b[49m()\n",
      "\u001b[0;31mAttributeError\u001b[0m: 'Explore' object has no attribute '_nb_rows'"
     ]
    }
   ],
   "source": [
    "AMZN.explore._nb_rows()"
   ]
  },
  {
   "cell_type": "code",
   "execution_count": 79,
   "id": "a80933bf",
   "metadata": {},
   "outputs": [
    {
     "name": "stdout",
     "output_type": "stream",
     "text": [
      "root\n",
      " |-- Date: date (nullable = true)\n",
      " |-- High: double (nullable = true)\n",
      " |-- Low: double (nullable = true)\n",
      " |-- Open: double (nullable = true)\n",
      " |-- Close: double (nullable = true)\n",
      " |-- Volume: double (nullable = true)\n",
      " |-- Adj Close: double (nullable = true)\n",
      " |-- company_name: string (nullable = true)\n",
      "\n"
     ]
    }
   ],
   "source": [
    "AMZN.explore._print_schema()"
   ]
  },
  {
   "cell_type": "code",
   "execution_count": 80,
   "id": "17988a2b",
   "metadata": {
    "scrolled": true
   },
   "outputs": [
    {
     "name": "stdout",
     "output_type": "stream",
     "text": [
      "First 40 rows:\n",
      "+----------+-----+-----+-----+-----+---------+---------+------------+\n",
      "|      Date| High|  Low| Open|Close|   Volume|Adj Close|company_name|\n",
      "+----------+-----+-----+-----+-----+---------+---------+------------+\n",
      "|2017-01-03|759.0|748.0|758.0|754.0|3521100.0|    754.0|      AMAZON|\n",
      "|2017-01-04|760.0|754.0|758.0|757.0|2510500.0|    757.0|      AMAZON|\n",
      "|2017-01-05|782.0|760.0|762.0|780.0|5830100.0|    780.0|      AMAZON|\n",
      "|2017-01-06|799.0|778.0|782.0|796.0|5986200.0|    796.0|      AMAZON|\n",
      "|2017-01-09|802.0|792.0|798.0|797.0|3446100.0|    797.0|      AMAZON|\n",
      "|2017-01-10|798.0|790.0|797.0|796.0|2558400.0|    796.0|      AMAZON|\n",
      "|2017-01-11|800.0|790.0|794.0|799.0|2992800.0|    799.0|      AMAZON|\n",
      "|2017-01-12|814.0|800.0|800.0|814.0|4873900.0|    814.0|      AMAZON|\n",
      "|2017-01-13|822.0|811.0|814.0|817.0|3791900.0|    817.0|      AMAZON|\n",
      "|2017-01-17|816.0|803.0|816.0|810.0|3670500.0|    810.0|      AMAZON|\n",
      "|2017-01-18|812.0|804.0|810.0|807.0|2354200.0|    807.0|      AMAZON|\n",
      "|2017-01-19|814.0|807.0|810.0|809.0|2540800.0|    809.0|      AMAZON|\n",
      "|2017-01-20|816.0|806.0|815.0|808.0|3376200.0|    808.0|      AMAZON|\n",
      "|2017-01-23|819.0|805.0|807.0|818.0|2797500.0|    818.0|      AMAZON|\n",
      "|2017-01-24|824.0|815.0|822.0|822.0|2971700.0|    822.0|      AMAZON|\n",
      "|2017-01-25|837.0|825.0|826.0|837.0|3922600.0|    837.0|      AMAZON|\n",
      "|2017-01-26|844.0|833.0|836.0|839.0|3586300.0|    839.0|      AMAZON|\n",
      "|2017-01-27|840.0|829.0|839.0|836.0|2998700.0|    836.0|      AMAZON|\n",
      "|2017-01-30|834.0|816.0|833.0|830.0|3747300.0|    830.0|      AMAZON|\n",
      "|2017-01-31|827.0|820.0|824.0|823.0|3137200.0|    823.0|      AMAZON|\n",
      "|2017-02-01|834.0|825.0|829.0|832.0|3850200.0|    832.0|      AMAZON|\n",
      "|2017-02-02|842.0|828.0|837.0|840.0|7350500.0|    840.0|      AMAZON|\n",
      "|2017-02-03|818.0|804.0|807.0|810.0|1.08688E7|    810.0|      AMAZON|\n",
      "|2017-02-06|811.0|803.0|810.0|808.0|3897300.0|    808.0|      AMAZON|\n",
      "|2017-02-07|816.0|808.0|809.0|813.0|3466100.0|    813.0|      AMAZON|\n",
      "|2017-02-08|821.0|813.0|813.0|820.0|2858000.0|    820.0|      AMAZON|\n",
      "|2017-02-09|825.0|820.0|822.0|821.0|2484900.0|    821.0|      AMAZON|\n",
      "|2017-02-10|828.0|823.0|824.0|827.0|2429600.0|    827.0|      AMAZON|\n",
      "|2017-02-13|843.0|829.0|832.0|837.0|4172600.0|    837.0|      AMAZON|\n",
      "|2017-02-14|838.0|831.0|837.0|836.0|2792400.0|    836.0|      AMAZON|\n",
      "|2017-02-15|843.0|833.0|834.0|843.0|2968900.0|    843.0|      AMAZON|\n",
      "|2017-02-16|845.0|839.0|842.0|844.0|2714700.0|    844.0|      AMAZON|\n",
      "|2017-02-17|847.0|841.0|842.0|845.0|3112300.0|    845.0|      AMAZON|\n",
      "|2017-02-21|858.0|847.0|849.0|856.0|3507700.0|    856.0|      AMAZON|\n",
      "|2017-02-22|858.0|852.0|857.0|856.0|2617000.0|    856.0|      AMAZON|\n",
      "|2017-02-23|861.0|848.0|858.0|852.0|3462000.0|    852.0|      AMAZON|\n",
      "|2017-02-24|846.0|838.0|845.0|845.0|3688000.0|    845.0|      AMAZON|\n",
      "|2017-02-27|853.0|840.0|842.0|849.0|2713600.0|    849.0|      AMAZON|\n",
      "|2017-02-28|854.0|842.0|851.0|845.0|2793700.0|    845.0|      AMAZON|\n",
      "|2017-03-01|855.0|849.0|853.0|853.0|2760100.0|    853.0|      AMAZON|\n",
      "+----------+-----+-----+-----+-----+---------+---------+------------+\n",
      "only showing top 40 rows\n",
      "\n",
      "Last 40 rows:\n",
      "+----------+------+------+------+------+---------+---------+------------+\n",
      "|      Date|  High|   Low|  Open| Close|   Volume|Adj Close|company_name|\n",
      "+----------+------+------+------+------+---------+---------+------------+\n",
      "|2020-12-02|3224.0|3173.0|3222.0|3213.0|1119593.0|   3213.0|      AMAZON|\n",
      "|2020-12-01|3249.0|3157.0|3189.0|3220.0|4537000.0|   3220.0|      AMAZON|\n",
      "|2020-11-30|3228.0|3126.0|3208.0|3168.0|4063900.0|   3168.0|      AMAZON|\n",
      "|2020-11-27|3216.0|3190.0|3211.0|3195.0|2392900.0|   3195.0|      AMAZON|\n",
      "|2020-11-25|3198.0|3140.0|3142.0|3185.0|3790400.0|   3185.0|      AMAZON|\n",
      "|2020-11-24|3134.0|3086.0|3101.0|3118.0|3602100.0|   3118.0|      AMAZON|\n",
      "|2020-11-23|3140.0|3065.0|3117.0|3098.0|4708900.0|   3098.0|      AMAZON|\n",
      "|2020-11-20|3133.0|3098.0|3117.0|3099.0|3374400.0|   3099.0|      AMAZON|\n",
      "|2020-11-19|3125.0|3081.0|3105.0|3117.0|3010300.0|   3117.0|      AMAZON|\n",
      "|2020-11-18|3140.0|3105.0|3134.0|3105.0|2916800.0|   3105.0|      AMAZON|\n",
      "|2020-11-17|3189.0|3135.0|3184.0|3136.0|3444700.0|   3136.0|      AMAZON|\n",
      "|2020-11-16|3143.0|3073.0|3093.0|3131.0|3808700.0|   3131.0|      AMAZON|\n",
      "|2020-11-13|3142.0|3085.0|3122.0|3129.0|3756200.0|   3129.0|      AMAZON|\n",
      "|2020-11-12|3176.0|3086.0|3160.0|3110.0|4362000.0|   3110.0|      AMAZON|\n",
      "|2020-11-11|3139.0|3050.0|3062.0|3137.0|4366900.0|   3137.0|      AMAZON|\n",
      "|2020-11-10|3114.0|3019.0|3095.0|3035.0|6591000.0|   3035.0|      AMAZON|\n",
      "|2020-11-09|3289.0|3112.0|3231.0|3144.0|7190400.0|   3144.0|      AMAZON|\n",
      "|2020-11-06|3322.0|3232.0|3305.0|3311.0|4647300.0|   3311.0|      AMAZON|\n",
      "|2020-11-05|3367.0|3289.0|3320.0|3322.0|5789300.0|   3322.0|      AMAZON|\n",
      "|2020-11-04|3245.0|3140.0|3160.0|3241.0|6839000.0|   3241.0|      AMAZON|\n",
      "|2020-11-03|3075.0|2981.0|3019.0|3048.0|4897900.0|   3048.0|      AMAZON|\n",
      "|2020-11-02|3080.0|2950.0|3062.0|3004.0|7257400.0|   3004.0|      AMAZON|\n",
      "|2020-10-30|3167.0|3019.0|3158.0|3036.0|8386400.0|   3036.0|      AMAZON|\n",
      "|2020-10-29|3257.0|3164.0|3201.0|3211.0|6596500.0|   3211.0|      AMAZON|\n",
      "|2020-10-28|3264.0|3162.0|3249.0|3163.0|5588300.0|   3163.0|      AMAZON|\n",
      "|2020-10-27|3292.0|3211.0|3225.0|3286.0|4291000.0|   3286.0|      AMAZON|\n",
      "|2020-10-26|3283.0|3153.0|3199.0|3207.0|5901200.0|   3207.0|      AMAZON|\n",
      "|2020-10-23|3205.0|3140.0|3191.0|3204.0|3466700.0|   3204.0|      AMAZON|\n",
      "|2020-10-22|3199.0|3122.0|3190.0|3176.0|4212000.0|   3176.0|      AMAZON|\n",
      "|2020-10-21|3234.0|3160.0|3213.0|3185.0|4592700.0|   3185.0|      AMAZON|\n",
      "|2020-10-20|3266.0|3192.0|3222.0|3217.0|4509700.0|   3217.0|      AMAZON|\n",
      "|2020-10-19|3329.0|3193.0|3300.0|3207.0|5223600.0|   3207.0|      AMAZON|\n",
      "|2020-10-16|3400.0|3160.0|3363.0|3273.0|6474400.0|   3273.0|      AMAZON|\n",
      "|2020-10-15|3356.0|3280.0|3292.0|3339.0|5223400.0|   3339.0|      AMAZON|\n",
      "|2020-10-14|3465.0|3340.0|3447.0|3364.0|5828900.0|   3364.0|      AMAZON|\n",
      "|2020-10-13|3492.0|3424.0|3468.0|3444.0|5744700.0|   3444.0|      AMAZON|\n",
      "|2020-10-12|3496.0|3340.0|3350.0|3443.0|8364200.0|   3443.0|      AMAZON|\n",
      "|2020-10-09|3289.0|3198.0|3210.0|3287.0|4907900.0|   3287.0|      AMAZON|\n",
      "|2020-10-08|3233.0|3175.0|3225.0|3191.0|3174100.0|   3191.0|      AMAZON|\n",
      "|2020-10-07|3200.0|3132.0|3135.0|3196.0|4309400.0|   3196.0|      AMAZON|\n",
      "+----------+------+------+------+------+---------+---------+------------+\n",
      "only showing top 40 rows\n",
      "\n"
     ]
    }
   ],
   "source": [
    "AMZN.explore.get_df_abstract()"
   ]
  },
  {
   "cell_type": "code",
   "execution_count": 81,
   "id": "09ca2996",
   "metadata": {},
   "outputs": [
    {
     "name": "stdout",
     "output_type": "stream",
     "text": [
      "Missing Data per column:\n",
      "+----+---+----+-----+------+---------+------------+\n",
      "|High|Low|Open|Close|Volume|Adj Close|company_name|\n",
      "+----+---+----+-----+------+---------+------------+\n",
      "|   0|  0|   0|    0|     0|        0|           0|\n",
      "+----+---+----+-----+------+---------+------------+\n",
      "\n"
     ]
    }
   ],
   "source": [
    "AMZN.explore.get_missing()"
   ]
  },
  {
   "cell_type": "code",
   "execution_count": null,
   "id": "9a20cc80",
   "metadata": {},
   "outputs": [],
   "source": [
    "AMZN.explore.get_stats()"
   ]
  },
  {
   "cell_type": "markdown",
   "id": "58f03f91",
   "metadata": {},
   "source": [
    "## Analysis"
   ]
  },
  {
   "cell_type": "code",
   "execution_count": 82,
   "id": "d8e4c209",
   "metadata": {},
   "outputs": [
    {
     "name": "stdout",
     "output_type": "stream",
     "text": [
      "+----------+-----------------+-----------------+\n",
      "|      Date|        Open_mean|       Close_mean|\n",
      "+----------+-----------------+-----------------+\n",
      "|2017-01-03|757.9199829101562|753.6699829101562|\n",
      "|2017-01-04|758.3900146484375|757.1799926757812|\n",
      "|2017-01-05|761.5499877929688|780.4500122070312|\n",
      "|2017-01-06|782.3599853515625| 795.989990234375|\n",
      "|2017-01-09|            798.0|796.9199829101562|\n",
      "|2017-01-10|796.5999755859375|795.9000244140625|\n",
      "|2017-01-11|793.6599731445312|  799.02001953125|\n",
      "|2017-01-12|800.3099975585938|813.6400146484375|\n",
      "|2017-01-13|814.3200073242188|817.1400146484375|\n",
      "|2017-01-17|815.7000122070312| 809.719970703125|\n",
      "|2017-01-18|            809.5|  807.47998046875|\n",
      "|2017-01-19|            810.0|809.0399780273438|\n",
      "|2017-01-20| 815.280029296875|808.3300170898438|\n",
      "|2017-01-23|806.7999877929688|817.8800048828125|\n",
      "|2017-01-24|            822.0|822.4400024414062|\n",
      "|2017-01-25|825.7899780273438|  836.52001953125|\n",
      "|2017-01-26| 835.530029296875|839.1500244140625|\n",
      "|2017-01-27|            839.0|  835.77001953125|\n",
      "|2017-01-30|            833.0|830.3800048828125|\n",
      "|2017-01-31|           823.75|  823.47998046875|\n",
      "+----------+-----------------+-----------------+\n",
      "only showing top 20 rows\n",
      "\n"
     ]
    }
   ],
   "source": [
    "AMZN.analysis.get_oc_avg(\"day\").show()"
   ]
  },
  {
   "cell_type": "code",
   "execution_count": null,
   "id": "db9fd1a9",
   "metadata": {},
   "outputs": [],
   "source": [
    "AMZN.analysis.get_oc_avg(\"year\").show()"
   ]
  },
  {
   "cell_type": "code",
   "execution_count": 83,
   "id": "5613d179",
   "metadata": {},
   "outputs": [
    {
     "name": "stdout",
     "output_type": "stream",
     "text": [
      "+-----------------+------------------+\n",
      "|Date_period_month|      price_change|\n",
      "+-----------------+------------------+\n",
      "|          2017-01| 65.55999755859375|\n",
      "|          2017-02|  15.8299560546875|\n",
      "|          2017-03|   33.489990234375|\n",
      "|          2017-04|   36.989990234375|\n",
      "|          2017-05| 66.82000732421875|\n",
      "|          2017-06|-30.59002685546875|\n",
      "|          2017-07| 14.99005126953125|\n",
      "|          2017-08|  -15.510009765625|\n",
      "|          2017-09|-22.85003662109375|\n",
      "|          2017-10|  141.280029296875|\n",
      "|          2017-11|  71.3499755859375|\n",
      "|          2017-12|      -2.580078125|\n",
      "|          2018-01| 278.8900146484375|\n",
      "|          2018-02|   67.449951171875|\n",
      "|          2018-03|  -66.260009765625|\n",
      "|          2018-04|  148.510009765625|\n",
      "|          2018-05|  66.4000244140625|\n",
      "|          2018-06|    62.77001953125|\n",
      "|          2018-07|   94.739990234375|\n",
      "|          2018-08|    228.7099609375|\n",
      "+-----------------+------------------+\n",
      "only showing top 20 rows\n",
      "\n"
     ]
    }
   ],
   "source": [
    "AMZN.analysis.get_price_change(\"month\").show()"
   ]
  },
  {
   "cell_type": "code",
   "execution_count": null,
   "id": "6c37b887",
   "metadata": {},
   "outputs": [],
   "source": [
    "AMZN.analysis.get_price_change(\"year\").show()"
   ]
  },
  {
   "cell_type": "code",
   "execution_count": null,
   "id": "c931b41c",
   "metadata": {},
   "outputs": [],
   "source": [
    "AMZN.analysis._compute_avg(AMZN.df, \"Close\", \"month\").show()"
   ]
  },
  {
   "cell_type": "code",
   "execution_count": null,
   "id": "fc63e74b",
   "metadata": {},
   "outputs": [],
   "source": [
    "AMZN.analysis.get_daily_return(period=\"month\").show()"
   ]
  },
  {
   "cell_type": "code",
   "execution_count": null,
   "id": "da840a88",
   "metadata": {},
   "outputs": [],
   "source": [
    "AMZN.analysis.get_daily_return(period=\"day\").show()"
   ]
  },
  {
   "cell_type": "code",
   "execution_count": 84,
   "id": "e3ec14e7",
   "metadata": {},
   "outputs": [
    {
     "name": "stdout",
     "output_type": "stream",
     "text": [
      "+-------+-----------------------+\n",
      "|   Date|daily_return_rate_month|\n",
      "+-------+-----------------------+\n",
      "|2017-01|     1644.1583014153669|\n",
      "|2017-02|      1403.965040664501|\n",
      "|2017-03|      778.0914048163146|\n",
      "|2017-04|     -977.1027633447616|\n",
      "|2017-05|      938.6064873957786|\n",
      "|2017-06|    -2985.8333583142844|\n",
      "|2017-07|       538.633272245377|\n",
      "|2017-08|     -1176.170896231819|\n",
      "|2017-09|    -1922.4033108005126|\n",
      "|2017-10|      766.2272087375865|\n",
      "|2017-11|     1561.8432209530274|\n",
      "|2017-12|    -1324.0308885451077|\n",
      "|2018-01|      4957.009659332405|\n",
      "|2018-02|    -3084.4239282510875|\n",
      "|2018-03|    -1164.1786064567941|\n",
      "|2018-04|    -4948.9811016735675|\n",
      "|2018-05|      2876.034931421588|\n",
      "|2018-06|    -171.92890117694805|\n",
      "|2018-07|     -1075.762558219423|\n",
      "|2018-08|     3826.9318678095706|\n",
      "+-------+-----------------------+\n",
      "only showing top 20 rows\n",
      "\n"
     ]
    }
   ],
   "source": [
    "AMZN.analysis.get_daily_return_rate(period=\"month\", start_price=15.4, nb_shares=100).show()"
   ]
  },
  {
   "cell_type": "code",
   "execution_count": 85,
   "id": "72444c49",
   "metadata": {},
   "outputs": [
    {
     "name": "stdout",
     "output_type": "stream",
     "text": [
      "+----+----------------------+\n",
      "|Date|daily_return_rate_year|\n",
      "+----+----------------------+\n",
      "|2017|    -70.52423296867548|\n",
      "|2018|   -1523.7229223325576|\n",
      "|2019|     287.6729971107621|\n",
      "|2020|     93.60413614853928|\n",
      "+----+----------------------+\n",
      "\n"
     ]
    }
   ],
   "source": [
    "AMZN.analysis.get_daily_return_rate(period=\"year\", start_price=15.4, nb_shares=100).show()"
   ]
  },
  {
   "cell_type": "code",
   "execution_count": null,
   "id": "b23e28c1",
   "metadata": {},
   "outputs": [],
   "source": [
    "import glob\n",
    "\n",
    "glob.glob(\"stocks_data/*.csv\")"
   ]
  },
  {
   "cell_type": "code",
   "execution_count": null,
   "id": "3d672c36",
   "metadata": {},
   "outputs": [],
   "source": [
    "from stocks import Stocks"
   ]
  },
  {
   "cell_type": "code",
   "execution_count": 86,
   "id": "55c9e5d2",
   "metadata": {},
   "outputs": [
    {
     "ename": "NameError",
     "evalue": "name 'Stocks' is not defined",
     "output_type": "error",
     "traceback": [
      "\u001b[0;31m---------------------------------------------------------------------------\u001b[0m",
      "\u001b[0;31mNameError\u001b[0m                                 Traceback (most recent call last)",
      "Input \u001b[0;32mIn [86]\u001b[0m, in \u001b[0;36m<cell line: 1>\u001b[0;34m()\u001b[0m\n\u001b[0;32m----> 1\u001b[0m stocks \u001b[38;5;241m=\u001b[39m \u001b[43mStocks\u001b[49m(schema\u001b[38;5;241m=\u001b[39mamzn_schema)\n",
      "\u001b[0;31mNameError\u001b[0m: name 'Stocks' is not defined"
     ]
    }
   ],
   "source": [
    "stocks = Stocks(schema=amzn_schema)"
   ]
  },
  {
   "cell_type": "code",
   "execution_count": 87,
   "id": "708bb24c",
   "metadata": {},
   "outputs": [
    {
     "ename": "NameError",
     "evalue": "name 'stocks' is not defined",
     "output_type": "error",
     "traceback": [
      "\u001b[0;31m---------------------------------------------------------------------------\u001b[0m",
      "\u001b[0;31mNameError\u001b[0m                                 Traceback (most recent call last)",
      "Input \u001b[0;32mIn [87]\u001b[0m, in \u001b[0;36m<cell line: 1>\u001b[0;34m()\u001b[0m\n\u001b[0;32m----> 1\u001b[0m \u001b[43mstocks\u001b[49m\u001b[38;5;241m.\u001b[39mget_max_daily_return()\n",
      "\u001b[0;31mNameError\u001b[0m: name 'stocks' is not defined"
     ]
    }
   ],
   "source": [
    "stocks.get_max_daily_return()"
   ]
  },
  {
   "cell_type": "code",
   "execution_count": null,
   "id": "80d292f3",
   "metadata": {},
   "outputs": [],
   "source": []
  },
  {
   "cell_type": "code",
   "execution_count": 88,
   "id": "17f3d648",
   "metadata": {},
   "outputs": [
    {
     "name": "stdout",
     "output_type": "stream",
     "text": [
      "+----------+\n",
      "|      Date|\n",
      "+----------+\n",
      "|2017-01-03|\n",
      "|2017-01-04|\n",
      "|2017-01-05|\n",
      "|2017-01-06|\n",
      "|2017-01-09|\n",
      "|2017-01-10|\n",
      "|2017-01-11|\n",
      "|2017-01-12|\n",
      "|2017-01-13|\n",
      "|2017-01-17|\n",
      "|2017-01-18|\n",
      "|2017-01-19|\n",
      "|2017-01-20|\n",
      "|2017-01-23|\n",
      "|2017-01-24|\n",
      "|2017-01-25|\n",
      "|2017-01-26|\n",
      "|2017-01-27|\n",
      "|2017-01-30|\n",
      "|2017-01-31|\n",
      "+----------+\n",
      "only showing top 20 rows\n",
      "\n"
     ]
    }
   ],
   "source": [
    "AMZN.df.select('Date').show()"
   ]
  },
  {
   "cell_type": "code",
   "execution_count": 89,
   "id": "bcd677a2",
   "metadata": {},
   "outputs": [
    {
     "name": "stdout",
     "output_type": "stream",
     "text": [
      "+----------+-----------------+-----------------+-----------------+-----------------+---------+-----------------+------------+-------+\n",
      "|      Date|             High|              Low|             Open|            Close|   Volume|        Adj Close|company_name|row_num|\n",
      "+----------+-----------------+-----------------+-----------------+-----------------+---------+-----------------+------------+-------+\n",
      "|2017-01-03| 758.760009765625|747.7000122070312|757.9199829101562|753.6699829101562|3521100.0|753.6699829101562|      AMAZON|      1|\n",
      "|2017-01-04|759.6799926757812|754.2000122070312|758.3900146484375|757.1799926757812|2510500.0|757.1799926757812|      AMAZON|      2|\n",
      "+----------+-----------------+-----------------+-----------------+-----------------+---------+-----------------+------------+-------+\n",
      "\n"
     ]
    }
   ],
   "source": [
    "from pyspark.sql.functions import lit,row_number,col\n",
    "from pyspark.sql.window import Window\n",
    "\n",
    "w = Window().partitionBy(lit('Date')).orderBy(lit('Date'))\n",
    "\n",
    "df1 = AMZN.df.withColumn(\"row_num\", row_number().over(w))\n",
    "\n",
    "df1.filter(col(\"row_num\").between(1,2)).show()"
   ]
  },
  {
   "cell_type": "code",
   "execution_count": 90,
   "id": "e4267578",
   "metadata": {},
   "outputs": [
    {
     "name": "stdout",
     "output_type": "stream",
     "text": [
      "+----------+-----------------+-----------------+-----------------+-----------------+---------+-----------------+------------+\n",
      "|      Date|             High|              Low|             Open|            Close|   Volume|        Adj Close|company_name|\n",
      "+----------+-----------------+-----------------+-----------------+-----------------+---------+-----------------+------------+\n",
      "|2017-01-03| 758.760009765625|747.7000122070312|757.9199829101562|753.6699829101562|3521100.0|753.6699829101562|      AMAZON|\n",
      "|2017-01-04|759.6799926757812|754.2000122070312|758.3900146484375|757.1799926757812|2510500.0|757.1799926757812|      AMAZON|\n",
      "|2017-01-05|782.4000244140625| 760.260009765625|761.5499877929688|780.4500122070312|5830100.0|780.4500122070312|      AMAZON|\n",
      "|2017-01-06|799.4400024414062|  778.47998046875|782.3599853515625| 795.989990234375|5986200.0| 795.989990234375|      AMAZON|\n",
      "|2017-01-09|  801.77001953125|  791.77001953125|            798.0|796.9199829101562|3446100.0|796.9199829101562|      AMAZON|\n",
      "|2017-01-10|            798.0|789.5399780273438|796.5999755859375|795.9000244140625|2558400.0|795.9000244140625|      AMAZON|\n",
      "|2017-01-11|            799.5| 789.510009765625|793.6599731445312|  799.02001953125|2992800.0|  799.02001953125|      AMAZON|\n",
      "|2017-01-12|814.1300048828125|            799.5|800.3099975585938|813.6400146484375|4873900.0|813.6400146484375|      AMAZON|\n",
      "|2017-01-13|821.6500244140625|811.4000244140625|814.3200073242188|817.1400146484375|3791900.0|817.1400146484375|      AMAZON|\n",
      "|2017-01-17|            816.0|803.4400024414062|815.7000122070312| 809.719970703125|3670500.0| 809.719970703125|      AMAZON|\n",
      "|2017-01-18|  811.72998046875|  804.27001953125|            809.5|  807.47998046875|2354200.0|  807.47998046875|      AMAZON|\n",
      "|2017-01-19| 813.510009765625|807.3200073242188|            810.0|809.0399780273438|2540800.0|809.0399780273438|      AMAZON|\n",
      "|2017-01-20|  816.02001953125| 806.260009765625| 815.280029296875|808.3300170898438|3376200.0|808.3300170898438|      AMAZON|\n",
      "|2017-01-23|            818.5|805.0800170898438|806.7999877929688|817.8800048828125|2797500.0|817.8800048828125|      AMAZON|\n",
      "|2017-01-24| 823.989990234375|            814.5|            822.0|822.4400024414062|2971700.0|822.4400024414062|      AMAZON|\n",
      "|2017-01-25|837.4199829101562|825.2899780273438|825.7899780273438|  836.52001953125|3922600.0|  836.52001953125|      AMAZON|\n",
      "|2017-01-26|843.8400268554688|            833.0| 835.530029296875|839.1500244140625|3586300.0|839.1500244140625|      AMAZON|\n",
      "|2017-01-27|839.7000122070312|829.4400024414062|            839.0|  835.77001953125|2998700.0|  835.77001953125|      AMAZON|\n",
      "|2017-01-30|            833.5|816.3800048828125|            833.0|830.3800048828125|3747300.0|830.3800048828125|      AMAZON|\n",
      "|2017-01-31| 826.989990234375|819.5599975585938|           823.75|  823.47998046875|3137200.0|  823.47998046875|      AMAZON|\n",
      "+----------+-----------------+-----------------+-----------------+-----------------+---------+-----------------+------------+\n",
      "only showing top 20 rows\n",
      "\n"
     ]
    }
   ],
   "source": [
    "AMZN.df.show()"
   ]
  },
  {
   "cell_type": "code",
   "execution_count": 91,
   "id": "3f6a7632",
   "metadata": {},
   "outputs": [
    {
     "ename": "NameError",
     "evalue": "name 'period' is not defined",
     "output_type": "error",
     "traceback": [
      "\u001b[0;31m---------------------------------------------------------------------------\u001b[0m",
      "\u001b[0;31mNameError\u001b[0m                                 Traceback (most recent call last)",
      "Input \u001b[0;32mIn [91]\u001b[0m, in \u001b[0;36m<cell line: 5>\u001b[0;34m()\u001b[0m\n\u001b[1;32m      1\u001b[0m \u001b[38;5;28;01mfrom\u001b[39;00m \u001b[38;5;21;01mpyspark\u001b[39;00m\u001b[38;5;21;01m.\u001b[39;00m\u001b[38;5;21;01msql\u001b[39;00m\u001b[38;5;21;01m.\u001b[39;00m\u001b[38;5;21;01mwindow\u001b[39;00m \u001b[38;5;28;01mimport\u001b[39;00m Window\n\u001b[1;32m      4\u001b[0m SECS_IN_DAY \u001b[38;5;241m=\u001b[39m \u001b[38;5;241m86400\u001b[39m\n\u001b[0;32m----> 5\u001b[0m period \u001b[38;5;241m=\u001b[39m \u001b[43mperiod\u001b[49m \u001b[38;5;241m*\u001b[39m SECS_IN_DAY\n\u001b[1;32m      7\u001b[0m df \u001b[38;5;241m=\u001b[39m AMZN\u001b[38;5;241m.\u001b[39mdf\u001b[38;5;241m.\u001b[39mwithColumn(\u001b[38;5;124m'\u001b[39m\u001b[38;5;124mDate\u001b[39m\u001b[38;5;124m'\u001b[39m, AMZN\u001b[38;5;241m.\u001b[39mdf\u001b[38;5;241m.\u001b[39mDate\u001b[38;5;241m.\u001b[39mcast(\u001b[38;5;124m'\u001b[39m\u001b[38;5;124mtimestamp\u001b[39m\u001b[38;5;124m'\u001b[39m))\n\u001b[1;32m      8\u001b[0m window \u001b[38;5;241m=\u001b[39m Window()\u001b[38;5;241m.\u001b[39mpartitionBy(lit(\u001b[38;5;124m'\u001b[39m\u001b[38;5;124mDate\u001b[39m\u001b[38;5;124m'\u001b[39m))\u001b[38;5;241m.\u001b[39morderBy(F\u001b[38;5;241m.\u001b[39mcol(\u001b[38;5;124m\"\u001b[39m\u001b[38;5;124mDate\u001b[39m\u001b[38;5;124m\"\u001b[39m)\u001b[38;5;241m.\u001b[39mcast(\u001b[38;5;124m'\u001b[39m\u001b[38;5;124mlong\u001b[39m\u001b[38;5;124m'\u001b[39m))\u001b[38;5;241m.\u001b[39mrangeBetween(\u001b[38;5;241m-\u001b[39mperiod, \u001b[38;5;241m0\u001b[39m)\n",
      "\u001b[0;31mNameError\u001b[0m: name 'period' is not defined"
     ]
    }
   ],
   "source": [
    "from pyspark.sql.window import Window\n",
    "\n",
    "\n",
    "SECS_IN_DAY = 86400\n",
    "period = period * SECS_IN_DAY\n",
    "\n",
    "df = AMZN.df.withColumn('Date', AMZN.df.Date.cast('timestamp'))\n",
    "window = Window().partitionBy(lit('Date')).orderBy(F.col(\"Date\").cast('long')).rangeBetween(-period, 0)\n",
    "\n",
    "df = df.withColumn('moving_average', func.avg(\"Close\").over(window)).select('Date', 'moving_average')"
   ]
  },
  {
   "cell_type": "code",
   "execution_count": 92,
   "id": "fc027244",
   "metadata": {},
   "outputs": [
    {
     "name": "stdout",
     "output_type": "stream",
     "text": [
      "+-------------------+-----------------+\n",
      "|               Date|   moving_average|\n",
      "+-------------------+-----------------+\n",
      "|2017-01-03 00:00:00|753.6699829101562|\n",
      "|2017-01-04 00:00:00|755.4249877929688|\n",
      "|2017-01-05 00:00:00|763.7666625976562|\n",
      "|2017-01-06 00:00:00|771.8224945068359|\n",
      "|2017-01-09 00:00:00|   776.8419921875|\n",
      "|2017-01-10 00:00:00|780.0183308919271|\n",
      "|2017-01-11 00:00:00| 787.576670328776|\n",
      "|2017-01-12 00:00:00|796.9866739908854|\n",
      "|2017-01-13 00:00:00|803.1016743977865|\n",
      "|2017-01-17 00:00:00|807.0840087890625|\n",
      "|2017-01-18 00:00:00|            809.4|\n",
      "|2017-01-19 00:00:00|811.4039916992188|\n",
      "|2017-01-20 00:00:00|   810.3419921875|\n",
      "|2017-01-23 00:00:00| 810.489990234375|\n",
      "|2017-01-24 00:00:00|812.4816589355469|\n",
      "|2017-01-25 00:00:00|816.9483337402344|\n",
      "|2017-01-26 00:00:00|822.2266743977865|\n",
      "|2017-01-27 00:00:00|826.6816813151041|\n",
      "|2017-01-30 00:00:00| 830.356679280599|\n",
      "|2017-01-31 00:00:00|831.2900085449219|\n",
      "+-------------------+-----------------+\n",
      "only showing top 20 rows\n",
      "\n"
     ]
    }
   ],
   "source": [
    "df.show()"
   ]
  },
  {
   "cell_type": "code",
   "execution_count": 93,
   "id": "6054f741",
   "metadata": {},
   "outputs": [
    {
     "name": "stdout",
     "output_type": "stream",
     "text": [
      "+----------+-----------------+-----------------+-----------------+-----------------+---------+-----------------+------------+\n",
      "|      Date|             High|              Low|             Open|            Close|   Volume|        Adj Close|company_name|\n",
      "+----------+-----------------+-----------------+-----------------+-----------------+---------+-----------------+------------+\n",
      "|2017-01-03| 758.760009765625|747.7000122070312|757.9199829101562|753.6699829101562|3521100.0|753.6699829101562|      AMAZON|\n",
      "|2017-01-04|759.6799926757812|754.2000122070312|758.3900146484375|757.1799926757812|2510500.0|757.1799926757812|      AMAZON|\n",
      "|2017-01-05|782.4000244140625| 760.260009765625|761.5499877929688|780.4500122070312|5830100.0|780.4500122070312|      AMAZON|\n",
      "|2017-01-06|799.4400024414062|  778.47998046875|782.3599853515625| 795.989990234375|5986200.0| 795.989990234375|      AMAZON|\n",
      "|2017-01-09|  801.77001953125|  791.77001953125|            798.0|796.9199829101562|3446100.0|796.9199829101562|      AMAZON|\n",
      "|2017-01-10|            798.0|789.5399780273438|796.5999755859375|795.9000244140625|2558400.0|795.9000244140625|      AMAZON|\n",
      "|2017-01-11|            799.5| 789.510009765625|793.6599731445312|  799.02001953125|2992800.0|  799.02001953125|      AMAZON|\n",
      "|2017-01-12|814.1300048828125|            799.5|800.3099975585938|813.6400146484375|4873900.0|813.6400146484375|      AMAZON|\n",
      "|2017-01-13|821.6500244140625|811.4000244140625|814.3200073242188|817.1400146484375|3791900.0|817.1400146484375|      AMAZON|\n",
      "|2017-01-17|            816.0|803.4400024414062|815.7000122070312| 809.719970703125|3670500.0| 809.719970703125|      AMAZON|\n",
      "|2017-01-18|  811.72998046875|  804.27001953125|            809.5|  807.47998046875|2354200.0|  807.47998046875|      AMAZON|\n",
      "|2017-01-19| 813.510009765625|807.3200073242188|            810.0|809.0399780273438|2540800.0|809.0399780273438|      AMAZON|\n",
      "|2017-01-20|  816.02001953125| 806.260009765625| 815.280029296875|808.3300170898438|3376200.0|808.3300170898438|      AMAZON|\n",
      "|2017-01-23|            818.5|805.0800170898438|806.7999877929688|817.8800048828125|2797500.0|817.8800048828125|      AMAZON|\n",
      "|2017-01-24| 823.989990234375|            814.5|            822.0|822.4400024414062|2971700.0|822.4400024414062|      AMAZON|\n",
      "|2017-01-25|837.4199829101562|825.2899780273438|825.7899780273438|  836.52001953125|3922600.0|  836.52001953125|      AMAZON|\n",
      "|2017-01-26|843.8400268554688|            833.0| 835.530029296875|839.1500244140625|3586300.0|839.1500244140625|      AMAZON|\n",
      "|2017-01-27|839.7000122070312|829.4400024414062|            839.0|  835.77001953125|2998700.0|  835.77001953125|      AMAZON|\n",
      "|2017-01-30|            833.5|816.3800048828125|            833.0|830.3800048828125|3747300.0|830.3800048828125|      AMAZON|\n",
      "|2017-01-31| 826.989990234375|819.5599975585938|           823.75|  823.47998046875|3137200.0|  823.47998046875|      AMAZON|\n",
      "+----------+-----------------+-----------------+-----------------+-----------------+---------+-----------------+------------+\n",
      "only showing top 20 rows\n",
      "\n"
     ]
    }
   ],
   "source": [
    "AMZN.df.show()"
   ]
  },
  {
   "cell_type": "code",
   "execution_count": 106,
   "id": "32eec24b",
   "metadata": {},
   "outputs": [
    {
     "name": "stdout",
     "output_type": "stream",
     "text": [
      "+----------+--------------------+\n",
      "|      Date|moving_average_Close|\n",
      "+----------+--------------------+\n",
      "|2017-01-03|   753.6699829101562|\n",
      "|2017-01-04|   755.4249877929688|\n",
      "|2017-01-05|   763.7666625976562|\n",
      "|2017-01-06|   771.8224945068359|\n",
      "|2017-01-09|   782.6349945068359|\n",
      "|2017-01-10|   792.3150024414062|\n",
      "|2017-01-11|   796.9575042724609|\n",
      "|2017-01-12|   801.3700103759766|\n",
      "|2017-01-13|   804.5240112304688|\n",
      "|2017-01-17|               813.5|\n",
      "|2017-01-18|   811.4466552734375|\n",
      "|2017-01-19|   808.7466430664062|\n",
      "|2017-01-20|   808.6424865722656|\n",
      "|2017-01-23|   810.6824951171875|\n",
      "|2017-01-24|   814.4225006103516|\n",
      "|2017-01-25|   821.2925109863281|\n",
      "|2017-01-26|   828.9975128173828|\n",
      "|2017-01-27|   830.3520141601563|\n",
      "|2017-01-30|   835.4550170898438|\n",
      "|2017-01-31|   832.1950073242188|\n",
      "+----------+--------------------+\n",
      "only showing top 20 rows\n",
      "\n"
     ]
    }
   ],
   "source": [
    "AMZN.analysis.moving_average()"
   ]
  },
  {
   "cell_type": "code",
   "execution_count": null,
   "id": "97eb5299",
   "metadata": {},
   "outputs": [],
   "source": []
  }
 ],
 "metadata": {
  "kernelspec": {
   "display_name": "Python 3 (ipykernel)",
   "language": "python",
   "name": "python3"
  },
  "language_info": {
   "codemirror_mode": {
    "name": "ipython",
    "version": 3
   },
   "file_extension": ".py",
   "mimetype": "text/x-python",
   "name": "python",
   "nbconvert_exporter": "python",
   "pygments_lexer": "ipython3",
   "version": "3.9.12"
  },
  "nbTranslate": {
   "displayLangs": [
    "*"
   ],
   "hotkey": "alt-t",
   "langInMainMenu": true,
   "sourceLang": "en",
   "targetLang": "fr",
   "useGoogleTranslate": true
  },
  "toc": {
   "base_numbering": 1,
   "nav_menu": {},
   "number_sections": true,
   "sideBar": true,
   "skip_h1_title": false,
   "title_cell": "Table of Contents",
   "title_sidebar": "Contents",
   "toc_cell": true,
   "toc_position": {},
   "toc_section_display": true,
   "toc_window_display": false
  },
  "varInspector": {
   "cols": {
    "lenName": 16,
    "lenType": 16,
    "lenVar": 40
   },
   "kernels_config": {
    "python": {
     "delete_cmd_postfix": "",
     "delete_cmd_prefix": "del ",
     "library": "var_list.py",
     "varRefreshCmd": "print(var_dic_list())"
    },
    "r": {
     "delete_cmd_postfix": ") ",
     "delete_cmd_prefix": "rm(",
     "library": "var_list.r",
     "varRefreshCmd": "cat(var_dic_list()) "
    }
   },
   "types_to_exclude": [
    "module",
    "function",
    "builtin_function_or_method",
    "instance",
    "_Feature"
   ],
   "window_display": false
  }
 },
 "nbformat": 4,
 "nbformat_minor": 5
}
