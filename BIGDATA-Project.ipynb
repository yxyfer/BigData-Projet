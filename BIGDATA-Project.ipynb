{
 "cells": [
  {
   "cell_type": "markdown",
   "id": "ce715a02",
   "metadata": {},
   "source": [
    "__AUTHORS__:\n",
    "  - Théo Perinet (22172 - theo.perinet)\n",
    "  - Mathieu Rivier (23553 - mathieu.rivier)\n",
    "  - Marc Monteil (23742 - marc.monteil)"
   ]
  },
  {
   "cell_type": "markdown",
   "id": "b6dca563",
   "metadata": {
    "toc": true
   },
   "source": [
    "<h1>Table of Contents<span class=\"tocSkip\"></span></h1>\n",
    "<div class=\"toc\"><ul class=\"toc-item\"><li><span><a href=\"#BigData---Final-Project\" data-toc-modified-id=\"BigData---Final-Project-1\"><span class=\"toc-item-num\">1&nbsp;&nbsp;</span>BigData - Final Project</a></span><ul class=\"toc-item\"><li><span><a href=\"#Loading-The-Data\" data-toc-modified-id=\"Loading-The-Data-1.1\"><span class=\"toc-item-num\">1.1&nbsp;&nbsp;</span>Loading The Data</a></span></li><li><span><a href=\"#Exploring-The-Data\" data-toc-modified-id=\"Exploring-The-Data-1.2\"><span class=\"toc-item-num\">1.2&nbsp;&nbsp;</span>Exploring The Data</a></span></li><li><span><a href=\"#Analysis\" data-toc-modified-id=\"Analysis-1.3\"><span class=\"toc-item-num\">1.3&nbsp;&nbsp;</span>Analysis</a></span></li></ul></li></ul></div>"
   ]
  },
  {
   "cell_type": "markdown",
   "id": "76d16f4d",
   "metadata": {},
   "source": [
    "# BigData - Final Project"
   ]
  },
  {
   "cell_type": "markdown",
   "id": "38335eff",
   "metadata": {},
   "source": [
    "###### To Use when you are on google collab\n",
    "!apt-get install openjdk-11-jdk-headless -qq > /dev/null\n",
    "!wget -q https://downloads.apache.org/spark/spark-3.2.1/spark-3.2.1-bin-hadoop2.7.tgz  \n",
    "!tar xf spark-3.2.1-bin-hadoop2.7.tgz\n",
    "!pip install -q findspark"
   ]
  },
  {
   "cell_type": "markdown",
   "id": "ea659e8b",
   "metadata": {},
   "source": [
    "###### TO USE WHEN YOU ARE ON GOOGLE COLLAB\n",
    "import os\n",
    "os.environ[\"JAVA_HOME\"] = \"/usr/lib/jvm/java-11-openjdk-amd64\"\n",
    "os.environ[\"SPARK_HOME\"] = \"/content/spark-3.2.1-bin-hadoop2.7\"\n",
    "import findspark\n",
    "findspark.init()\n",
    "\n",
    "from google.colab import drive\n",
    "drive.mount('/content/drive')"
   ]
  },
  {
   "cell_type": "markdown",
   "id": "80976068",
   "metadata": {},
   "source": [
    "## Loading The Data"
   ]
  },
  {
   "cell_type": "code",
   "execution_count": 54,
   "id": "d92cbfca",
   "metadata": {},
   "outputs": [],
   "source": [
    "from pyspark.sql import SparkSession"
   ]
  },
  {
   "cell_type": "code",
   "execution_count": 55,
   "id": "1d8e3e8e",
   "metadata": {},
   "outputs": [],
   "source": [
    "spark_application_name = \"WannaFlop_Project\""
   ]
  },
  {
   "cell_type": "code",
   "execution_count": 56,
   "id": "cf8bad11",
   "metadata": {},
   "outputs": [],
   "source": [
    "spark = (SparkSession.builder.appName(spark_application_name).getOrCreate())"
   ]
  },
  {
   "cell_type": "markdown",
   "id": "7d0926b5",
   "metadata": {},
   "source": [
    "## Exploring The Data"
   ]
  },
  {
   "cell_type": "code",
   "execution_count": 57,
   "id": "a6477ef4",
   "metadata": {},
   "outputs": [],
   "source": [
    "from pyspark.sql.functions import col,isnan,when,count\n",
    "from pyspark.sql.functions import monotonically_increasing_id\n",
    "from pyspark.sql.types import DoubleType, IntegerType, StringType, DateType, StructType,StructField\n",
    "from pyspark.sql.functions import desc\n",
    "import pyspark.sql.functions as func"
   ]
  },
  {
   "cell_type": "code",
   "execution_count": 58,
   "id": "b56d2f48",
   "metadata": {},
   "outputs": [],
   "source": [
    "class read_info(object):\n",
    "    def __init__(self, file_path, header=False, delimiter=';', schema=None):\n",
    "        self.file_path = file_path\n",
    "        self.header = header\n",
    "        self.delimiter = delimiter\n",
    "        self.schema = schema\n",
    "\n",
    "        self.df = self._load_df()\n",
    "\n",
    "        #self.df_abstract = self._get_df_abstract()\n",
    "\n",
    "    def __repr__(self):\n",
    "        return f\"{self._nb_rows()} \\n{self.df.printSchema()} \\n{self.get_df_abstract()}\\n {self.show_missing()}\\n{self._get_stats()}\"\n",
    "\n",
    "    def show_missing(self):\n",
    "        print(\"Missing Data per column:\")\n",
    "        self._count_missing().show()\n",
    "\n",
    "    def _get_num_cols(self):\n",
    "        num_cols = [\n",
    "            f.name for f in self.df.schema.fields\n",
    "            if isinstance(f.dataType, DoubleType) or\n",
    "            isinstance(f.dataType, IntegerType)\n",
    "        ]\n",
    "        \n",
    "        return num_cols\n",
    "    def _get_rounded_df(self):\n",
    "        rounded_df = self.df\n",
    "        dbl_cols = self._get_num_cols()\n",
    "        for col in dbl_cols:\n",
    "            rounded_df = rounded_df.withColumn(col, func.round('high'))\n",
    "\n",
    "        return rounded_df\n",
    "\n",
    "    def get_df_abstract(self):\n",
    "        rounded_df = self._get_rounded_df()\n",
    "\n",
    "        # First 40 rows\n",
    "        print(\"First 40 rows:\")\n",
    "        rounded_df.show(40)\n",
    "\n",
    "        # Last 40 rows\n",
    "        print(\"Last 40 rows:\")\n",
    "        rounded_df = rounded_df.withColumn(\n",
    "            \"index\", monotonically_increasing_id()\n",
    "        )\n",
    "        rounded_df.orderBy(desc(\"index\")).drop(\"index\").show(40)\n",
    "\n",
    "    def _get_periodicity(self):\n",
    "        self.df['data'][0]\n",
    "\n",
    "    def _nb_rows(self):\n",
    "        # Number of total rows\n",
    "        print(\"Number of rows: \" + str(self.df.count()) + \"\\n\")\n",
    "\n",
    "    def _handle_csv(self):\n",
    "        '''\n",
    "        @description: Read the csv file and return a Spark DataFrame\n",
    "\n",
    "        @arg csv_file_path: Path to the csv file\n",
    "        @arg header: boolean whether to load a header or not\n",
    "        @arg delimiter: which delimiter to use by default\n",
    "        '''\n",
    "        return spark.read.option(\"inferSchema\", \"true\").option(\"nullValue\", \"null\").csv(\n",
    "            self.file_path,\n",
    "            sep=self.delimiter,\n",
    "            schema=self.schema,\n",
    "            header=self.header,\n",
    "        )\n",
    "    \n",
    "    def _handle_json(self):\n",
    "        return spark.read.json(self.file_path)\n",
    "\n",
    "    def _load_df(self):\n",
    "        ####### ADD TRY CATCH #####\n",
    "        extension = self.file_path.split(\".\")[-1]\n",
    "\n",
    "        df = None\n",
    "        if extension == 'json':\n",
    "            df = self._handle_json()\n",
    "        elif extension == 'csv':\n",
    "            df = self._handle_csv()\n",
    "\n",
    "        return df\n",
    "\n",
    "    def _count_missing(self):\n",
    "        cols = self.df.columns\n",
    "        cols.remove('Date')\n",
    "        return self.df.select(\n",
    "            [\n",
    "                count(when(isnan(c) | col(c).isNull(), c)).alias(c)\n",
    "                for c in cols\n",
    "            ]\n",
    "        )\n",
    "        #.show()\n",
    "        \n",
    "    def _get_stats(self):\n",
    "        self.df.summary().show()"
   ]
  },
  {
   "cell_type": "code",
   "execution_count": 59,
   "id": "9e0856ad",
   "metadata": {},
   "outputs": [
    {
     "ename": "NameError",
     "evalue": "name 'h' is not defined",
     "output_type": "error",
     "traceback": [
      "\u001b[0;31m---------------------------------------------------------------------------\u001b[0m",
      "\u001b[0;31mNameError\u001b[0m                                 Traceback (most recent call last)",
      "Input \u001b[0;32mIn [59]\u001b[0m, in \u001b[0;36m<cell line: 1>\u001b[0;34m()\u001b[0m\n\u001b[0;32m----> 1\u001b[0m \u001b[38;5;28mprint\u001b[39m(\u001b[43mh\u001b[49m)\n\u001b[1;32m      2\u001b[0m h\u001b[38;5;241m.\u001b[39mremove(\u001b[38;5;124m'\u001b[39m\u001b[38;5;124mDate\u001b[39m\u001b[38;5;124m'\u001b[39m)\n\u001b[1;32m      3\u001b[0m \u001b[38;5;28mprint\u001b[39m(h)\n",
      "\u001b[0;31mNameError\u001b[0m: name 'h' is not defined"
     ]
    }
   ],
   "source": [
    "print(h)\n",
    "h.remove('Date')\n",
    "print(h)"
   ]
  },
  {
   "cell_type": "code",
   "execution_count": 60,
   "id": "57585dff",
   "metadata": {},
   "outputs": [],
   "source": [
    "amzn_schema = StructType([\n",
    "    StructField('Date', DateType(), True),\n",
    "    StructField('High', DoubleType(), True),\n",
    "    StructField('Low', DoubleType(), True),\n",
    "    StructField('Open', DoubleType(), True),\n",
    "    StructField('Close', DoubleType(), True),\n",
    "    StructField('Volume', IntegerType(), True),\n",
    "    StructField('Adj Close', DoubleType(), True),\n",
    "    StructField('company_name', StringType(), True)\n",
    "])"
   ]
  },
  {
   "cell_type": "code",
   "execution_count": 61,
   "id": "276a609a",
   "metadata": {},
   "outputs": [],
   "source": [
    "AMZN = read_info('stocks_data/AMAZON.csv', header=True, delimiter=',', schema=amzn_schema)"
   ]
  },
  {
   "cell_type": "code",
   "execution_count": 62,
   "id": "05cbf75e",
   "metadata": {},
   "outputs": [
    {
     "name": "stdout",
     "output_type": "stream",
     "text": [
      "Number of rows: 987\n",
      "\n",
      "root\n",
      " |-- Date: date (nullable = true)\n",
      " |-- High: double (nullable = true)\n",
      " |-- Low: double (nullable = true)\n",
      " |-- Open: double (nullable = true)\n",
      " |-- Close: double (nullable = true)\n",
      " |-- Volume: integer (nullable = true)\n",
      " |-- Adj Close: double (nullable = true)\n",
      " |-- company_name: string (nullable = true)\n",
      "\n",
      "First 40 rows:\n",
      "+----------+-----+-----+-----+-----+------+---------+------------+\n",
      "|      Date| High|  Low| Open|Close|Volume|Adj Close|company_name|\n",
      "+----------+-----+-----+-----+-----+------+---------+------------+\n",
      "|2017-01-03|759.0|759.0|759.0|759.0| 759.0|    759.0|      AMAZON|\n",
      "|2017-01-04|760.0|760.0|760.0|760.0| 760.0|    760.0|      AMAZON|\n",
      "|2017-01-05|782.0|782.0|782.0|782.0| 782.0|    782.0|      AMAZON|\n",
      "|2017-01-06|799.0|799.0|799.0|799.0| 799.0|    799.0|      AMAZON|\n",
      "|2017-01-09|802.0|802.0|802.0|802.0| 802.0|    802.0|      AMAZON|\n",
      "|2017-01-10|798.0|798.0|798.0|798.0| 798.0|    798.0|      AMAZON|\n",
      "|2017-01-11|800.0|800.0|800.0|800.0| 800.0|    800.0|      AMAZON|\n",
      "|2017-01-12|814.0|814.0|814.0|814.0| 814.0|    814.0|      AMAZON|\n",
      "|2017-01-13|822.0|822.0|822.0|822.0| 822.0|    822.0|      AMAZON|\n",
      "|2017-01-17|816.0|816.0|816.0|816.0| 816.0|    816.0|      AMAZON|\n",
      "|2017-01-18|812.0|812.0|812.0|812.0| 812.0|    812.0|      AMAZON|\n",
      "|2017-01-19|814.0|814.0|814.0|814.0| 814.0|    814.0|      AMAZON|\n",
      "|2017-01-20|816.0|816.0|816.0|816.0| 816.0|    816.0|      AMAZON|\n",
      "|2017-01-23|819.0|819.0|819.0|819.0| 819.0|    819.0|      AMAZON|\n",
      "|2017-01-24|824.0|824.0|824.0|824.0| 824.0|    824.0|      AMAZON|\n",
      "|2017-01-25|837.0|837.0|837.0|837.0| 837.0|    837.0|      AMAZON|\n",
      "|2017-01-26|844.0|844.0|844.0|844.0| 844.0|    844.0|      AMAZON|\n",
      "|2017-01-27|840.0|840.0|840.0|840.0| 840.0|    840.0|      AMAZON|\n",
      "|2017-01-30|834.0|834.0|834.0|834.0| 834.0|    834.0|      AMAZON|\n",
      "|2017-01-31|827.0|827.0|827.0|827.0| 827.0|    827.0|      AMAZON|\n",
      "|2017-02-01|834.0|834.0|834.0|834.0| 834.0|    834.0|      AMAZON|\n",
      "|2017-02-02|842.0|842.0|842.0|842.0| 842.0|    842.0|      AMAZON|\n",
      "|2017-02-03|818.0|818.0|818.0|818.0| 818.0|    818.0|      AMAZON|\n",
      "|2017-02-06|811.0|811.0|811.0|811.0| 811.0|    811.0|      AMAZON|\n",
      "|2017-02-07|816.0|816.0|816.0|816.0| 816.0|    816.0|      AMAZON|\n",
      "|2017-02-08|821.0|821.0|821.0|821.0| 821.0|    821.0|      AMAZON|\n",
      "|2017-02-09|825.0|825.0|825.0|825.0| 825.0|    825.0|      AMAZON|\n",
      "|2017-02-10|828.0|828.0|828.0|828.0| 828.0|    828.0|      AMAZON|\n",
      "|2017-02-13|843.0|843.0|843.0|843.0| 843.0|    843.0|      AMAZON|\n",
      "|2017-02-14|838.0|838.0|838.0|838.0| 838.0|    838.0|      AMAZON|\n",
      "|2017-02-15|843.0|843.0|843.0|843.0| 843.0|    843.0|      AMAZON|\n",
      "|2017-02-16|845.0|845.0|845.0|845.0| 845.0|    845.0|      AMAZON|\n",
      "|2017-02-17|847.0|847.0|847.0|847.0| 847.0|    847.0|      AMAZON|\n",
      "|2017-02-21|858.0|858.0|858.0|858.0| 858.0|    858.0|      AMAZON|\n",
      "|2017-02-22|858.0|858.0|858.0|858.0| 858.0|    858.0|      AMAZON|\n",
      "|2017-02-23|861.0|861.0|861.0|861.0| 861.0|    861.0|      AMAZON|\n",
      "|2017-02-24|846.0|846.0|846.0|846.0| 846.0|    846.0|      AMAZON|\n",
      "|2017-02-27|853.0|853.0|853.0|853.0| 853.0|    853.0|      AMAZON|\n",
      "|2017-02-28|854.0|854.0|854.0|854.0| 854.0|    854.0|      AMAZON|\n",
      "|2017-03-01|855.0|855.0|855.0|855.0| 855.0|    855.0|      AMAZON|\n",
      "+----------+-----+-----+-----+-----+------+---------+------------+\n",
      "only showing top 40 rows\n",
      "\n",
      "Last 40 rows:\n",
      "+----------+------+------+------+------+------+---------+------------+\n",
      "|      Date|  High|   Low|  Open| Close|Volume|Adj Close|company_name|\n",
      "+----------+------+------+------+------+------+---------+------------+\n",
      "|2020-12-02|3224.0|3224.0|3224.0|3224.0|3224.0|   3224.0|      AMAZON|\n",
      "|2020-12-01|3249.0|3249.0|3249.0|3249.0|3249.0|   3249.0|      AMAZON|\n",
      "|2020-11-30|3228.0|3228.0|3228.0|3228.0|3228.0|   3228.0|      AMAZON|\n",
      "|2020-11-27|3216.0|3216.0|3216.0|3216.0|3216.0|   3216.0|      AMAZON|\n",
      "|2020-11-25|3198.0|3198.0|3198.0|3198.0|3198.0|   3198.0|      AMAZON|\n",
      "|2020-11-24|3134.0|3134.0|3134.0|3134.0|3134.0|   3134.0|      AMAZON|\n",
      "|2020-11-23|3140.0|3140.0|3140.0|3140.0|3140.0|   3140.0|      AMAZON|\n",
      "|2020-11-20|3133.0|3133.0|3133.0|3133.0|3133.0|   3133.0|      AMAZON|\n",
      "|2020-11-19|3125.0|3125.0|3125.0|3125.0|3125.0|   3125.0|      AMAZON|\n",
      "|2020-11-18|3140.0|3140.0|3140.0|3140.0|3140.0|   3140.0|      AMAZON|\n",
      "|2020-11-17|3189.0|3189.0|3189.0|3189.0|3189.0|   3189.0|      AMAZON|\n",
      "|2020-11-16|3143.0|3143.0|3143.0|3143.0|3143.0|   3143.0|      AMAZON|\n",
      "|2020-11-13|3142.0|3142.0|3142.0|3142.0|3142.0|   3142.0|      AMAZON|\n",
      "|2020-11-12|3176.0|3176.0|3176.0|3176.0|3176.0|   3176.0|      AMAZON|\n",
      "|2020-11-11|3139.0|3139.0|3139.0|3139.0|3139.0|   3139.0|      AMAZON|\n",
      "|2020-11-10|3114.0|3114.0|3114.0|3114.0|3114.0|   3114.0|      AMAZON|\n",
      "|2020-11-09|3289.0|3289.0|3289.0|3289.0|3289.0|   3289.0|      AMAZON|\n",
      "|2020-11-06|3322.0|3322.0|3322.0|3322.0|3322.0|   3322.0|      AMAZON|\n",
      "|2020-11-05|3367.0|3367.0|3367.0|3367.0|3367.0|   3367.0|      AMAZON|\n",
      "|2020-11-04|3245.0|3245.0|3245.0|3245.0|3245.0|   3245.0|      AMAZON|\n",
      "|2020-11-03|3075.0|3075.0|3075.0|3075.0|3075.0|   3075.0|      AMAZON|\n",
      "|2020-11-02|3080.0|3080.0|3080.0|3080.0|3080.0|   3080.0|      AMAZON|\n",
      "|2020-10-30|3167.0|3167.0|3167.0|3167.0|3167.0|   3167.0|      AMAZON|\n",
      "|2020-10-29|3257.0|3257.0|3257.0|3257.0|3257.0|   3257.0|      AMAZON|\n",
      "|2020-10-28|3264.0|3264.0|3264.0|3264.0|3264.0|   3264.0|      AMAZON|\n",
      "|2020-10-27|3292.0|3292.0|3292.0|3292.0|3292.0|   3292.0|      AMAZON|\n",
      "|2020-10-26|3283.0|3283.0|3283.0|3283.0|3283.0|   3283.0|      AMAZON|\n",
      "|2020-10-23|3205.0|3205.0|3205.0|3205.0|3205.0|   3205.0|      AMAZON|\n",
      "|2020-10-22|3199.0|3199.0|3199.0|3199.0|3199.0|   3199.0|      AMAZON|\n",
      "|2020-10-21|3234.0|3234.0|3234.0|3234.0|3234.0|   3234.0|      AMAZON|\n",
      "|2020-10-20|3266.0|3266.0|3266.0|3266.0|3266.0|   3266.0|      AMAZON|\n",
      "|2020-10-19|3329.0|3329.0|3329.0|3329.0|3329.0|   3329.0|      AMAZON|\n",
      "|2020-10-16|3400.0|3400.0|3400.0|3400.0|3400.0|   3400.0|      AMAZON|\n",
      "|2020-10-15|3356.0|3356.0|3356.0|3356.0|3356.0|   3356.0|      AMAZON|\n",
      "|2020-10-14|3465.0|3465.0|3465.0|3465.0|3465.0|   3465.0|      AMAZON|\n",
      "|2020-10-13|3492.0|3492.0|3492.0|3492.0|3492.0|   3492.0|      AMAZON|\n",
      "|2020-10-12|3496.0|3496.0|3496.0|3496.0|3496.0|   3496.0|      AMAZON|\n",
      "|2020-10-09|3289.0|3289.0|3289.0|3289.0|3289.0|   3289.0|      AMAZON|\n",
      "|2020-10-08|3233.0|3233.0|3233.0|3233.0|3233.0|   3233.0|      AMAZON|\n",
      "|2020-10-07|3200.0|3200.0|3200.0|3200.0|3200.0|   3200.0|      AMAZON|\n",
      "+----------+------+------+------+------+------+---------+------------+\n",
      "only showing top 40 rows\n",
      "\n",
      "Missing Data per column:\n",
      "+----+---+----+-----+------+---------+------------+\n",
      "|High|Low|Open|Close|Volume|Adj Close|company_name|\n",
      "+----+---+----+-----+------+---------+------------+\n",
      "|   0|  0|   0|    0|     0|        0|           0|\n",
      "+----+---+----+-----+------+---------+------------+\n",
      "\n",
      "+-------+------------------+------------------+-----------------+------------------+-----------------+------------------+------------+\n",
      "|summary|              High|               Low|             Open|             Close|           Volume|         Adj Close|company_name|\n",
      "+-------+------------------+------------------+-----------------+------------------+-----------------+------------------+------------+\n",
      "|  count|               987|               987|              987|               987|              987|               987|         987|\n",
      "|   mean|1762.0071216958152|1722.1011452099956|1743.433881363487|1742.9566644206718| 4509728.05775076|1742.9566644206718|        null|\n",
      "| stddev| 667.2385315752688| 644.7988093382758|657.1153070927137| 655.9576061129322|2179817.628631287| 655.9576061129322|        null|\n",
      "|    min|  758.760009765625| 747.7000122070312|757.9199829101562| 753.6699829101562|           881300| 753.6699829101562|      AMAZON|\n",
      "|    25%|            1191.0|            1176.0|1188.300048828125|1186.0999755859375|          2982700|1186.0999755859375|        null|\n",
      "|    50%|   1756.9599609375|  1719.22998046875|1742.239990234375|1739.6500244140625|          3925600|1739.6500244140625|        null|\n",
      "|    75%|1941.5899658203125|1900.3399658203125| 1922.97998046875|  1918.18994140625|          5429100|  1918.18994140625|        null|\n",
      "|    max|           3552.25|  3486.68994140625|           3547.0| 3531.449951171875|         16565000| 3531.449951171875|      AMAZON|\n",
      "+-------+------------------+------------------+-----------------+------------------+-----------------+------------------+------------+\n",
      "\n",
      "None \n",
      "None \n",
      "None\n",
      " None\n",
      "None\n"
     ]
    }
   ],
   "source": [
    "print(AMZN)"
   ]
  },
  {
   "cell_type": "code",
   "execution_count": 63,
   "id": "39f70176",
   "metadata": {},
   "outputs": [],
   "source": [
    "##### A FAIRE !!!! UN SCHEMA !!!!!"
   ]
  },
  {
   "cell_type": "code",
   "execution_count": 64,
   "id": "d34633e5",
   "metadata": {},
   "outputs": [
    {
     "name": "stdout",
     "output_type": "stream",
     "text": [
      "First 40 rows:\n",
      "+----------+-----+-----+-----+-----+------+---------+------------+\n",
      "|      Date| High|  Low| Open|Close|Volume|Adj Close|company_name|\n",
      "+----------+-----+-----+-----+-----+------+---------+------------+\n",
      "|2017-01-03|759.0|759.0|759.0|759.0| 759.0|    759.0|      AMAZON|\n",
      "|2017-01-04|760.0|760.0|760.0|760.0| 760.0|    760.0|      AMAZON|\n",
      "|2017-01-05|782.0|782.0|782.0|782.0| 782.0|    782.0|      AMAZON|\n",
      "|2017-01-06|799.0|799.0|799.0|799.0| 799.0|    799.0|      AMAZON|\n",
      "|2017-01-09|802.0|802.0|802.0|802.0| 802.0|    802.0|      AMAZON|\n",
      "|2017-01-10|798.0|798.0|798.0|798.0| 798.0|    798.0|      AMAZON|\n",
      "|2017-01-11|800.0|800.0|800.0|800.0| 800.0|    800.0|      AMAZON|\n",
      "|2017-01-12|814.0|814.0|814.0|814.0| 814.0|    814.0|      AMAZON|\n",
      "|2017-01-13|822.0|822.0|822.0|822.0| 822.0|    822.0|      AMAZON|\n",
      "|2017-01-17|816.0|816.0|816.0|816.0| 816.0|    816.0|      AMAZON|\n",
      "|2017-01-18|812.0|812.0|812.0|812.0| 812.0|    812.0|      AMAZON|\n",
      "|2017-01-19|814.0|814.0|814.0|814.0| 814.0|    814.0|      AMAZON|\n",
      "|2017-01-20|816.0|816.0|816.0|816.0| 816.0|    816.0|      AMAZON|\n",
      "|2017-01-23|819.0|819.0|819.0|819.0| 819.0|    819.0|      AMAZON|\n",
      "|2017-01-24|824.0|824.0|824.0|824.0| 824.0|    824.0|      AMAZON|\n",
      "|2017-01-25|837.0|837.0|837.0|837.0| 837.0|    837.0|      AMAZON|\n",
      "|2017-01-26|844.0|844.0|844.0|844.0| 844.0|    844.0|      AMAZON|\n",
      "|2017-01-27|840.0|840.0|840.0|840.0| 840.0|    840.0|      AMAZON|\n",
      "|2017-01-30|834.0|834.0|834.0|834.0| 834.0|    834.0|      AMAZON|\n",
      "|2017-01-31|827.0|827.0|827.0|827.0| 827.0|    827.0|      AMAZON|\n",
      "|2017-02-01|834.0|834.0|834.0|834.0| 834.0|    834.0|      AMAZON|\n",
      "|2017-02-02|842.0|842.0|842.0|842.0| 842.0|    842.0|      AMAZON|\n",
      "|2017-02-03|818.0|818.0|818.0|818.0| 818.0|    818.0|      AMAZON|\n",
      "|2017-02-06|811.0|811.0|811.0|811.0| 811.0|    811.0|      AMAZON|\n",
      "|2017-02-07|816.0|816.0|816.0|816.0| 816.0|    816.0|      AMAZON|\n",
      "|2017-02-08|821.0|821.0|821.0|821.0| 821.0|    821.0|      AMAZON|\n",
      "|2017-02-09|825.0|825.0|825.0|825.0| 825.0|    825.0|      AMAZON|\n",
      "|2017-02-10|828.0|828.0|828.0|828.0| 828.0|    828.0|      AMAZON|\n",
      "|2017-02-13|843.0|843.0|843.0|843.0| 843.0|    843.0|      AMAZON|\n",
      "|2017-02-14|838.0|838.0|838.0|838.0| 838.0|    838.0|      AMAZON|\n",
      "|2017-02-15|843.0|843.0|843.0|843.0| 843.0|    843.0|      AMAZON|\n",
      "|2017-02-16|845.0|845.0|845.0|845.0| 845.0|    845.0|      AMAZON|\n",
      "|2017-02-17|847.0|847.0|847.0|847.0| 847.0|    847.0|      AMAZON|\n",
      "|2017-02-21|858.0|858.0|858.0|858.0| 858.0|    858.0|      AMAZON|\n",
      "|2017-02-22|858.0|858.0|858.0|858.0| 858.0|    858.0|      AMAZON|\n",
      "|2017-02-23|861.0|861.0|861.0|861.0| 861.0|    861.0|      AMAZON|\n",
      "|2017-02-24|846.0|846.0|846.0|846.0| 846.0|    846.0|      AMAZON|\n",
      "|2017-02-27|853.0|853.0|853.0|853.0| 853.0|    853.0|      AMAZON|\n",
      "|2017-02-28|854.0|854.0|854.0|854.0| 854.0|    854.0|      AMAZON|\n",
      "|2017-03-01|855.0|855.0|855.0|855.0| 855.0|    855.0|      AMAZON|\n",
      "+----------+-----+-----+-----+-----+------+---------+------------+\n",
      "only showing top 40 rows\n",
      "\n",
      "Last 40 rows:\n",
      "+----------+------+------+------+------+------+---------+------------+\n",
      "|      Date|  High|   Low|  Open| Close|Volume|Adj Close|company_name|\n",
      "+----------+------+------+------+------+------+---------+------------+\n",
      "|2020-12-02|3224.0|3224.0|3224.0|3224.0|3224.0|   3224.0|      AMAZON|\n",
      "|2020-12-01|3249.0|3249.0|3249.0|3249.0|3249.0|   3249.0|      AMAZON|\n",
      "|2020-11-30|3228.0|3228.0|3228.0|3228.0|3228.0|   3228.0|      AMAZON|\n",
      "|2020-11-27|3216.0|3216.0|3216.0|3216.0|3216.0|   3216.0|      AMAZON|\n",
      "|2020-11-25|3198.0|3198.0|3198.0|3198.0|3198.0|   3198.0|      AMAZON|\n",
      "|2020-11-24|3134.0|3134.0|3134.0|3134.0|3134.0|   3134.0|      AMAZON|\n",
      "|2020-11-23|3140.0|3140.0|3140.0|3140.0|3140.0|   3140.0|      AMAZON|\n",
      "|2020-11-20|3133.0|3133.0|3133.0|3133.0|3133.0|   3133.0|      AMAZON|\n",
      "|2020-11-19|3125.0|3125.0|3125.0|3125.0|3125.0|   3125.0|      AMAZON|\n",
      "|2020-11-18|3140.0|3140.0|3140.0|3140.0|3140.0|   3140.0|      AMAZON|\n",
      "|2020-11-17|3189.0|3189.0|3189.0|3189.0|3189.0|   3189.0|      AMAZON|\n",
      "|2020-11-16|3143.0|3143.0|3143.0|3143.0|3143.0|   3143.0|      AMAZON|\n",
      "|2020-11-13|3142.0|3142.0|3142.0|3142.0|3142.0|   3142.0|      AMAZON|\n",
      "|2020-11-12|3176.0|3176.0|3176.0|3176.0|3176.0|   3176.0|      AMAZON|\n",
      "|2020-11-11|3139.0|3139.0|3139.0|3139.0|3139.0|   3139.0|      AMAZON|\n",
      "|2020-11-10|3114.0|3114.0|3114.0|3114.0|3114.0|   3114.0|      AMAZON|\n",
      "|2020-11-09|3289.0|3289.0|3289.0|3289.0|3289.0|   3289.0|      AMAZON|\n",
      "|2020-11-06|3322.0|3322.0|3322.0|3322.0|3322.0|   3322.0|      AMAZON|\n",
      "|2020-11-05|3367.0|3367.0|3367.0|3367.0|3367.0|   3367.0|      AMAZON|\n",
      "|2020-11-04|3245.0|3245.0|3245.0|3245.0|3245.0|   3245.0|      AMAZON|\n",
      "|2020-11-03|3075.0|3075.0|3075.0|3075.0|3075.0|   3075.0|      AMAZON|\n",
      "|2020-11-02|3080.0|3080.0|3080.0|3080.0|3080.0|   3080.0|      AMAZON|\n",
      "|2020-10-30|3167.0|3167.0|3167.0|3167.0|3167.0|   3167.0|      AMAZON|\n",
      "|2020-10-29|3257.0|3257.0|3257.0|3257.0|3257.0|   3257.0|      AMAZON|\n",
      "|2020-10-28|3264.0|3264.0|3264.0|3264.0|3264.0|   3264.0|      AMAZON|\n",
      "|2020-10-27|3292.0|3292.0|3292.0|3292.0|3292.0|   3292.0|      AMAZON|\n",
      "|2020-10-26|3283.0|3283.0|3283.0|3283.0|3283.0|   3283.0|      AMAZON|\n",
      "|2020-10-23|3205.0|3205.0|3205.0|3205.0|3205.0|   3205.0|      AMAZON|\n",
      "|2020-10-22|3199.0|3199.0|3199.0|3199.0|3199.0|   3199.0|      AMAZON|\n",
      "|2020-10-21|3234.0|3234.0|3234.0|3234.0|3234.0|   3234.0|      AMAZON|\n",
      "|2020-10-20|3266.0|3266.0|3266.0|3266.0|3266.0|   3266.0|      AMAZON|\n",
      "|2020-10-19|3329.0|3329.0|3329.0|3329.0|3329.0|   3329.0|      AMAZON|\n",
      "|2020-10-16|3400.0|3400.0|3400.0|3400.0|3400.0|   3400.0|      AMAZON|\n",
      "|2020-10-15|3356.0|3356.0|3356.0|3356.0|3356.0|   3356.0|      AMAZON|\n",
      "|2020-10-14|3465.0|3465.0|3465.0|3465.0|3465.0|   3465.0|      AMAZON|\n",
      "|2020-10-13|3492.0|3492.0|3492.0|3492.0|3492.0|   3492.0|      AMAZON|\n",
      "|2020-10-12|3496.0|3496.0|3496.0|3496.0|3496.0|   3496.0|      AMAZON|\n",
      "|2020-10-09|3289.0|3289.0|3289.0|3289.0|3289.0|   3289.0|      AMAZON|\n",
      "|2020-10-08|3233.0|3233.0|3233.0|3233.0|3233.0|   3233.0|      AMAZON|\n",
      "|2020-10-07|3200.0|3200.0|3200.0|3200.0|3200.0|   3200.0|      AMAZON|\n",
      "+----------+------+------+------+------+------+---------+------------+\n",
      "only showing top 40 rows\n",
      "\n"
     ]
    }
   ],
   "source": [
    "AMZN.get_df_abstract()"
   ]
  },
  {
   "cell_type": "code",
   "execution_count": 65,
   "id": "82df148b",
   "metadata": {},
   "outputs": [
    {
     "name": "stdout",
     "output_type": "stream",
     "text": [
      "Missing Data per column:\n",
      "+----+---+----+-----+------+---------+------------+\n",
      "|High|Low|Open|Close|Volume|Adj Close|company_name|\n",
      "+----+---+----+-----+------+---------+------------+\n",
      "|   0|  0|   0|    0|     0|        0|           0|\n",
      "+----+---+----+-----+------+---------+------------+\n",
      "\n"
     ]
    }
   ],
   "source": [
    "AMZN.show_missing()"
   ]
  },
  {
   "cell_type": "code",
   "execution_count": 66,
   "id": "1cc6366d",
   "metadata": {},
   "outputs": [
    {
     "name": "stdout",
     "output_type": "stream",
     "text": [
      "+-------+------------------+------------------+-----------------+------------------+-----------------+------------------+------------+\n",
      "|summary|              High|               Low|             Open|             Close|           Volume|         Adj Close|company_name|\n",
      "+-------+------------------+------------------+-----------------+------------------+-----------------+------------------+------------+\n",
      "|  count|               987|               987|              987|               987|              987|               987|         987|\n",
      "|   mean|1762.0071216958152|1722.1011452099956|1743.433881363487|1742.9566644206718| 4509728.05775076|1742.9566644206718|        null|\n",
      "| stddev| 667.2385315752688| 644.7988093382758|657.1153070927137| 655.9576061129322|2179817.628631287| 655.9576061129322|        null|\n",
      "|    min|  758.760009765625| 747.7000122070312|757.9199829101562| 753.6699829101562|           881300| 753.6699829101562|      AMAZON|\n",
      "|    25%|            1191.0|            1176.0|1188.300048828125|1186.0999755859375|          2982700|1186.0999755859375|        null|\n",
      "|    50%|   1756.9599609375|  1719.22998046875|1742.239990234375|1739.6500244140625|          3925600|1739.6500244140625|        null|\n",
      "|    75%|1941.5899658203125|1900.3399658203125| 1922.97998046875|  1918.18994140625|          5429100|  1918.18994140625|        null|\n",
      "|    max|           3552.25|  3486.68994140625|           3547.0| 3531.449951171875|         16565000| 3531.449951171875|      AMAZON|\n",
      "+-------+------------------+------------------+-----------------+------------------+-----------------+------------------+------------+\n",
      "\n"
     ]
    }
   ],
   "source": [
    "AMZN._get_stats()"
   ]
  },
  {
   "cell_type": "code",
   "execution_count": 87,
   "id": "57c3fabc",
   "metadata": {},
   "outputs": [
    {
     "ename": "AnalysisException",
     "evalue": "Can't extract value from date#7653: need struct type but got date",
     "output_type": "error",
     "traceback": [
      "\u001b[0;31m---------------------------------------------------------------------------\u001b[0m",
      "\u001b[0;31mAnalysisException\u001b[0m                         Traceback (most recent call last)",
      "Input \u001b[0;32mIn [87]\u001b[0m, in \u001b[0;36m<cell line: 1>\u001b[0;34m()\u001b[0m\n\u001b[0;32m----> 1\u001b[0m \u001b[43mAMZN\u001b[49m\u001b[38;5;241;43m.\u001b[39;49m\u001b[43mdf\u001b[49m\u001b[38;5;241;43m.\u001b[39;49m\u001b[43mwithColumn\u001b[49m\u001b[43m(\u001b[49m\u001b[38;5;124;43m\"\u001b[39;49m\u001b[38;5;124;43mtest\u001b[39;49m\u001b[38;5;124;43m\"\u001b[39;49m\u001b[43m,\u001b[49m\u001b[43m \u001b[49m\n\u001b[1;32m      2\u001b[0m \u001b[43m              \u001b[49m\u001b[43mfunc\u001b[49m\u001b[38;5;241;43m.\u001b[39;49m\u001b[43mdatediff\u001b[49m\u001b[43m(\u001b[49m\u001b[43mAMZN\u001b[49m\u001b[38;5;241;43m.\u001b[39;49m\u001b[43mdf\u001b[49m\u001b[43m[\u001b[49m\u001b[38;5;124;43m\"\u001b[39;49m\u001b[38;5;124;43mdate\u001b[39;49m\u001b[38;5;124;43m\"\u001b[39;49m\u001b[43m]\u001b[49m\u001b[43m[\u001b[49m\u001b[38;5;241;43m0\u001b[39;49m\u001b[43m]\u001b[49m\u001b[43m,\u001b[49m\u001b[43m \u001b[49m\u001b[43mAMZN\u001b[49m\u001b[38;5;241;43m.\u001b[39;49m\u001b[43mdf\u001b[49m\u001b[43m[\u001b[49m\u001b[38;5;124;43m\"\u001b[39;49m\u001b[38;5;124;43mdate\u001b[39;49m\u001b[38;5;124;43m\"\u001b[39;49m\u001b[43m]\u001b[49m\u001b[43m[\u001b[49m\u001b[38;5;241;43m1\u001b[39;49m\u001b[43m]\u001b[49m\u001b[43m)\u001b[49m\u001b[43m)\u001b[49m\u001b[38;5;241m.\u001b[39mshow()\n",
      "File \u001b[0;32m~/jupyterenv/lib/python3.10/site-packages/pyspark/sql/dataframe.py:2478\u001b[0m, in \u001b[0;36mDataFrame.withColumn\u001b[0;34m(self, colName, col)\u001b[0m\n\u001b[1;32m   2476\u001b[0m \u001b[38;5;28;01mif\u001b[39;00m \u001b[38;5;129;01mnot\u001b[39;00m \u001b[38;5;28misinstance\u001b[39m(col, Column):\n\u001b[1;32m   2477\u001b[0m     \u001b[38;5;28;01mraise\u001b[39;00m \u001b[38;5;167;01mTypeError\u001b[39;00m(\u001b[38;5;124m\"\u001b[39m\u001b[38;5;124mcol should be Column\u001b[39m\u001b[38;5;124m\"\u001b[39m)\n\u001b[0;32m-> 2478\u001b[0m \u001b[38;5;28;01mreturn\u001b[39;00m DataFrame(\u001b[38;5;28;43mself\u001b[39;49m\u001b[38;5;241;43m.\u001b[39;49m\u001b[43m_jdf\u001b[49m\u001b[38;5;241;43m.\u001b[39;49m\u001b[43mwithColumn\u001b[49m\u001b[43m(\u001b[49m\u001b[43mcolName\u001b[49m\u001b[43m,\u001b[49m\u001b[43m \u001b[49m\u001b[43mcol\u001b[49m\u001b[38;5;241;43m.\u001b[39;49m\u001b[43m_jc\u001b[49m\u001b[43m)\u001b[49m, \u001b[38;5;28mself\u001b[39m\u001b[38;5;241m.\u001b[39msql_ctx)\n",
      "File \u001b[0;32m~/jupyterenv/lib/python3.10/site-packages/py4j/java_gateway.py:1321\u001b[0m, in \u001b[0;36mJavaMember.__call__\u001b[0;34m(self, *args)\u001b[0m\n\u001b[1;32m   1315\u001b[0m command \u001b[38;5;241m=\u001b[39m proto\u001b[38;5;241m.\u001b[39mCALL_COMMAND_NAME \u001b[38;5;241m+\u001b[39m\\\n\u001b[1;32m   1316\u001b[0m     \u001b[38;5;28mself\u001b[39m\u001b[38;5;241m.\u001b[39mcommand_header \u001b[38;5;241m+\u001b[39m\\\n\u001b[1;32m   1317\u001b[0m     args_command \u001b[38;5;241m+\u001b[39m\\\n\u001b[1;32m   1318\u001b[0m     proto\u001b[38;5;241m.\u001b[39mEND_COMMAND_PART\n\u001b[1;32m   1320\u001b[0m answer \u001b[38;5;241m=\u001b[39m \u001b[38;5;28mself\u001b[39m\u001b[38;5;241m.\u001b[39mgateway_client\u001b[38;5;241m.\u001b[39msend_command(command)\n\u001b[0;32m-> 1321\u001b[0m return_value \u001b[38;5;241m=\u001b[39m \u001b[43mget_return_value\u001b[49m\u001b[43m(\u001b[49m\n\u001b[1;32m   1322\u001b[0m \u001b[43m    \u001b[49m\u001b[43manswer\u001b[49m\u001b[43m,\u001b[49m\u001b[43m \u001b[49m\u001b[38;5;28;43mself\u001b[39;49m\u001b[38;5;241;43m.\u001b[39;49m\u001b[43mgateway_client\u001b[49m\u001b[43m,\u001b[49m\u001b[43m \u001b[49m\u001b[38;5;28;43mself\u001b[39;49m\u001b[38;5;241;43m.\u001b[39;49m\u001b[43mtarget_id\u001b[49m\u001b[43m,\u001b[49m\u001b[43m \u001b[49m\u001b[38;5;28;43mself\u001b[39;49m\u001b[38;5;241;43m.\u001b[39;49m\u001b[43mname\u001b[49m\u001b[43m)\u001b[49m\n\u001b[1;32m   1324\u001b[0m \u001b[38;5;28;01mfor\u001b[39;00m temp_arg \u001b[38;5;129;01min\u001b[39;00m temp_args:\n\u001b[1;32m   1325\u001b[0m     temp_arg\u001b[38;5;241m.\u001b[39m_detach()\n",
      "File \u001b[0;32m~/jupyterenv/lib/python3.10/site-packages/pyspark/sql/utils.py:117\u001b[0m, in \u001b[0;36mcapture_sql_exception.<locals>.deco\u001b[0;34m(*a, **kw)\u001b[0m\n\u001b[1;32m    113\u001b[0m converted \u001b[38;5;241m=\u001b[39m convert_exception(e\u001b[38;5;241m.\u001b[39mjava_exception)\n\u001b[1;32m    114\u001b[0m \u001b[38;5;28;01mif\u001b[39;00m \u001b[38;5;129;01mnot\u001b[39;00m \u001b[38;5;28misinstance\u001b[39m(converted, UnknownException):\n\u001b[1;32m    115\u001b[0m     \u001b[38;5;66;03m# Hide where the exception came from that shows a non-Pythonic\u001b[39;00m\n\u001b[1;32m    116\u001b[0m     \u001b[38;5;66;03m# JVM exception message.\u001b[39;00m\n\u001b[0;32m--> 117\u001b[0m     \u001b[38;5;28;01mraise\u001b[39;00m converted \u001b[38;5;28;01mfrom\u001b[39;00m \u001b[38;5;28mNone\u001b[39m\n\u001b[1;32m    118\u001b[0m \u001b[38;5;28;01melse\u001b[39;00m:\n\u001b[1;32m    119\u001b[0m     \u001b[38;5;28;01mraise\u001b[39;00m\n",
      "\u001b[0;31mAnalysisException\u001b[0m: Can't extract value from date#7653: need struct type but got date"
     ]
    }
   ],
   "source": [
    "AMZN.df.withColumn(\"test\", \n",
    "              func.datediff(AMZN.df[\"date\"][0], AMZN.df[\"date\"][1])).show()"
   ]
  },
  {
   "cell_type": "code",
   "execution_count": 88,
   "id": "f8a50b62",
   "metadata": {},
   "outputs": [
    {
     "data": {
      "text/plain": [
       "Column<'Date[2]'>"
      ]
     },
     "execution_count": 88,
     "metadata": {},
     "output_type": "execute_result"
    }
   ],
   "source": [
    "AMZN.df[\"Date\"].getItem(2)"
   ]
  },
  {
   "cell_type": "code",
   "execution_count": 89,
   "id": "223d646a",
   "metadata": {},
   "outputs": [
    {
     "data": {
      "text/plain": [
       "datetime.date(2017, 1, 3)"
      ]
     },
     "execution_count": 89,
     "metadata": {},
     "output_type": "execute_result"
    }
   ],
   "source": [
    "AMZN.df.first()['Date']"
   ]
  },
  {
   "cell_type": "code",
   "execution_count": 90,
   "id": "979dd55a",
   "metadata": {},
   "outputs": [
    {
     "ename": "AttributeError",
     "evalue": "'DataFrame' object has no attribute '__get_item'",
     "output_type": "error",
     "traceback": [
      "\u001b[0;31m---------------------------------------------------------------------------\u001b[0m",
      "\u001b[0;31mAttributeError\u001b[0m                            Traceback (most recent call last)",
      "Input \u001b[0;32mIn [90]\u001b[0m, in \u001b[0;36m<cell line: 1>\u001b[0;34m()\u001b[0m\n\u001b[0;32m----> 1\u001b[0m \u001b[43mAMZN\u001b[49m\u001b[38;5;241;43m.\u001b[39;49m\u001b[43mdf\u001b[49m\u001b[38;5;241;43m.\u001b[39;49m\u001b[43m__get_item\u001b[49m(\u001b[38;5;241m0\u001b[39m)\n",
      "File \u001b[0;32m~/jupyterenv/lib/python3.10/site-packages/pyspark/sql/dataframe.py:1659\u001b[0m, in \u001b[0;36mDataFrame.__getattr__\u001b[0;34m(self, name)\u001b[0m\n\u001b[1;32m   1649\u001b[0m \u001b[38;5;124;03m\"\"\"Returns the :class:`Column` denoted by ``name``.\u001b[39;00m\n\u001b[1;32m   1650\u001b[0m \n\u001b[1;32m   1651\u001b[0m \u001b[38;5;124;03m.. versionadded:: 1.3.0\u001b[39;00m\n\u001b[0;32m   (...)\u001b[0m\n\u001b[1;32m   1656\u001b[0m \u001b[38;5;124;03m[Row(age=2), Row(age=5)]\u001b[39;00m\n\u001b[1;32m   1657\u001b[0m \u001b[38;5;124;03m\"\"\"\u001b[39;00m\n\u001b[1;32m   1658\u001b[0m \u001b[38;5;28;01mif\u001b[39;00m name \u001b[38;5;129;01mnot\u001b[39;00m \u001b[38;5;129;01min\u001b[39;00m \u001b[38;5;28mself\u001b[39m\u001b[38;5;241m.\u001b[39mcolumns:\n\u001b[0;32m-> 1659\u001b[0m     \u001b[38;5;28;01mraise\u001b[39;00m \u001b[38;5;167;01mAttributeError\u001b[39;00m(\n\u001b[1;32m   1660\u001b[0m         \u001b[38;5;124m\"\u001b[39m\u001b[38;5;124m'\u001b[39m\u001b[38;5;132;01m%s\u001b[39;00m\u001b[38;5;124m'\u001b[39m\u001b[38;5;124m object has no attribute \u001b[39m\u001b[38;5;124m'\u001b[39m\u001b[38;5;132;01m%s\u001b[39;00m\u001b[38;5;124m'\u001b[39m\u001b[38;5;124m\"\u001b[39m \u001b[38;5;241m%\u001b[39m (\u001b[38;5;28mself\u001b[39m\u001b[38;5;241m.\u001b[39m\u001b[38;5;18m__class__\u001b[39m\u001b[38;5;241m.\u001b[39m\u001b[38;5;18m__name__\u001b[39m, name))\n\u001b[1;32m   1661\u001b[0m jc \u001b[38;5;241m=\u001b[39m \u001b[38;5;28mself\u001b[39m\u001b[38;5;241m.\u001b[39m_jdf\u001b[38;5;241m.\u001b[39mapply(name)\n\u001b[1;32m   1662\u001b[0m \u001b[38;5;28;01mreturn\u001b[39;00m Column(jc)\n",
      "\u001b[0;31mAttributeError\u001b[0m: 'DataFrame' object has no attribute '__get_item'"
     ]
    }
   ],
   "source": [
    "AMZN.df.__get_item(0)"
   ]
  },
  {
   "cell_type": "code",
   "execution_count": 91,
   "id": "519573ae",
   "metadata": {},
   "outputs": [
    {
     "ename": "AttributeError",
     "evalue": "'DataFrame' object has no attribute 'second'",
     "output_type": "error",
     "traceback": [
      "\u001b[0;31m---------------------------------------------------------------------------\u001b[0m",
      "\u001b[0;31mAttributeError\u001b[0m                            Traceback (most recent call last)",
      "Input \u001b[0;32mIn [91]\u001b[0m, in \u001b[0;36m<cell line: 1>\u001b[0;34m()\u001b[0m\n\u001b[0;32m----> 1\u001b[0m \u001b[43mAMZN\u001b[49m\u001b[38;5;241;43m.\u001b[39;49m\u001b[43mdf\u001b[49m\u001b[38;5;241;43m.\u001b[39;49m\u001b[43msecond\u001b[49m()[\u001b[38;5;124m'\u001b[39m\u001b[38;5;124mDate\u001b[39m\u001b[38;5;124m'\u001b[39m]\n",
      "File \u001b[0;32m~/jupyterenv/lib/python3.10/site-packages/pyspark/sql/dataframe.py:1659\u001b[0m, in \u001b[0;36mDataFrame.__getattr__\u001b[0;34m(self, name)\u001b[0m\n\u001b[1;32m   1649\u001b[0m \u001b[38;5;124;03m\"\"\"Returns the :class:`Column` denoted by ``name``.\u001b[39;00m\n\u001b[1;32m   1650\u001b[0m \n\u001b[1;32m   1651\u001b[0m \u001b[38;5;124;03m.. versionadded:: 1.3.0\u001b[39;00m\n\u001b[0;32m   (...)\u001b[0m\n\u001b[1;32m   1656\u001b[0m \u001b[38;5;124;03m[Row(age=2), Row(age=5)]\u001b[39;00m\n\u001b[1;32m   1657\u001b[0m \u001b[38;5;124;03m\"\"\"\u001b[39;00m\n\u001b[1;32m   1658\u001b[0m \u001b[38;5;28;01mif\u001b[39;00m name \u001b[38;5;129;01mnot\u001b[39;00m \u001b[38;5;129;01min\u001b[39;00m \u001b[38;5;28mself\u001b[39m\u001b[38;5;241m.\u001b[39mcolumns:\n\u001b[0;32m-> 1659\u001b[0m     \u001b[38;5;28;01mraise\u001b[39;00m \u001b[38;5;167;01mAttributeError\u001b[39;00m(\n\u001b[1;32m   1660\u001b[0m         \u001b[38;5;124m\"\u001b[39m\u001b[38;5;124m'\u001b[39m\u001b[38;5;132;01m%s\u001b[39;00m\u001b[38;5;124m'\u001b[39m\u001b[38;5;124m object has no attribute \u001b[39m\u001b[38;5;124m'\u001b[39m\u001b[38;5;132;01m%s\u001b[39;00m\u001b[38;5;124m'\u001b[39m\u001b[38;5;124m\"\u001b[39m \u001b[38;5;241m%\u001b[39m (\u001b[38;5;28mself\u001b[39m\u001b[38;5;241m.\u001b[39m\u001b[38;5;18m__class__\u001b[39m\u001b[38;5;241m.\u001b[39m\u001b[38;5;18m__name__\u001b[39m, name))\n\u001b[1;32m   1661\u001b[0m jc \u001b[38;5;241m=\u001b[39m \u001b[38;5;28mself\u001b[39m\u001b[38;5;241m.\u001b[39m_jdf\u001b[38;5;241m.\u001b[39mapply(name)\n\u001b[1;32m   1662\u001b[0m \u001b[38;5;28;01mreturn\u001b[39;00m Column(jc)\n",
      "\u001b[0;31mAttributeError\u001b[0m: 'DataFrame' object has no attribute 'second'"
     ]
    }
   ],
   "source": [
    "AMZN.df.second()['Date']"
   ]
  },
  {
   "cell_type": "code",
   "execution_count": 92,
   "id": "c9d87e74",
   "metadata": {},
   "outputs": [
    {
     "ename": "AttributeError",
     "evalue": "module 'pyspark.sql.functions' has no attribute 'getrows'",
     "output_type": "error",
     "traceback": [
      "\u001b[0;31m---------------------------------------------------------------------------\u001b[0m",
      "\u001b[0;31mAttributeError\u001b[0m                            Traceback (most recent call last)",
      "Input \u001b[0;32mIn [92]\u001b[0m, in \u001b[0;36m<cell line: 1>\u001b[0;34m()\u001b[0m\n\u001b[0;32m----> 1\u001b[0m \u001b[43mfunc\u001b[49m\u001b[38;5;241;43m.\u001b[39;49m\u001b[43mgetrows\u001b[49m(AMZN\u001b[38;5;241m.\u001b[39mdf, rownums\u001b[38;5;241m=\u001b[39m[\u001b[38;5;241m0\u001b[39m, \u001b[38;5;241m2\u001b[39m])\u001b[38;5;241m.\u001b[39mcollect()\n",
      "\u001b[0;31mAttributeError\u001b[0m: module 'pyspark.sql.functions' has no attribute 'getrows'"
     ]
    }
   ],
   "source": [
    "func.getrows(AMZN.df, rownums=[0, 2]).collect()"
   ]
  },
  {
   "cell_type": "code",
   "execution_count": 93,
   "id": "a0ffe9c7",
   "metadata": {},
   "outputs": [
    {
     "ename": "TypeError",
     "evalue": "'Column' object is not callable",
     "output_type": "error",
     "traceback": [
      "\u001b[0;31m---------------------------------------------------------------------------\u001b[0m",
      "\u001b[0;31mTypeError\u001b[0m                                 Traceback (most recent call last)",
      "Input \u001b[0;32mIn [93]\u001b[0m, in \u001b[0;36m<cell line: 1>\u001b[0;34m()\u001b[0m\n\u001b[0;32m----> 1\u001b[0m \u001b[43mAMZN\u001b[49m\u001b[38;5;241;43m.\u001b[39;49m\u001b[43mdf\u001b[49m\u001b[43m[\u001b[49m\u001b[38;5;241;43m0\u001b[39;49m\u001b[43m]\u001b[49m\u001b[38;5;241;43m.\u001b[39;49m\u001b[38;5;21;43m__getitem__\u001b[39;49m\u001b[43m(\u001b[49m\u001b[38;5;124;43m\"\u001b[39;49m\u001b[38;5;124;43mDate\u001b[39;49m\u001b[38;5;124;43m\"\u001b[39;49m\u001b[43m)\u001b[49m\u001b[38;5;241;43m.\u001b[39;49m\u001b[43mfirst\u001b[49m\u001b[43m(\u001b[49m\u001b[43m)\u001b[49m\n",
      "\u001b[0;31mTypeError\u001b[0m: 'Column' object is not callable"
     ]
    }
   ],
   "source": [
    "AMZN.df[0].__getitem__(\"Date\").first()"
   ]
  },
  {
   "cell_type": "code",
   "execution_count": 94,
   "id": "98873aed",
   "metadata": {},
   "outputs": [
    {
     "data": {
      "text/plain": [
       "Column<'Date'>"
      ]
     },
     "execution_count": 94,
     "metadata": {},
     "output_type": "execute_result"
    }
   ],
   "source": [
    "AMZN.df[0]"
   ]
  },
  {
   "cell_type": "code",
   "execution_count": 95,
   "id": "94443091",
   "metadata": {},
   "outputs": [
    {
     "name": "stdout",
     "output_type": "stream",
     "text": [
      "+----------+\n",
      "|      Date|\n",
      "+----------+\n",
      "|2017-01-03|\n",
      "|2017-01-04|\n",
      "|2017-01-05|\n",
      "|2017-01-06|\n",
      "|2017-01-09|\n",
      "|2017-01-10|\n",
      "|2017-01-11|\n",
      "|2017-01-12|\n",
      "|2017-01-13|\n",
      "|2017-01-17|\n",
      "|2017-01-18|\n",
      "|2017-01-19|\n",
      "|2017-01-20|\n",
      "|2017-01-23|\n",
      "|2017-01-24|\n",
      "|2017-01-25|\n",
      "|2017-01-26|\n",
      "|2017-01-27|\n",
      "|2017-01-30|\n",
      "|2017-01-31|\n",
      "+----------+\n",
      "only showing top 20 rows\n",
      "\n"
     ]
    }
   ],
   "source": [
    "AMZN.df.select('Date').show()"
   ]
  },
  {
   "cell_type": "code",
   "execution_count": 96,
   "id": "acb97926",
   "metadata": {},
   "outputs": [
    {
     "data": {
      "text/plain": [
       "DataFrame[Date: date, High: double, Low: double, Open: double, Close: double, Volume: int, Adj Close: double, company_name: string]"
      ]
     },
     "execution_count": 96,
     "metadata": {},
     "output_type": "execute_result"
    }
   ],
   "source": [
    "AMZN.df\n"
   ]
  },
  {
   "cell_type": "code",
   "execution_count": 97,
   "id": "cdade456",
   "metadata": {},
   "outputs": [],
   "source": [
    "from pyspark import SparkContext\n",
    "from pyspark.sql import SQLContext\n",
    "from pyspark.sql import functions as F\n",
    "from pyspark.sql.window import Window\n",
    "\n",
    "\n",
    "\n",
    "my_window = Window.partitionBy().orderBy(\"Date\")\n",
    "\n",
    "df = AMZN.df.withColumn(\"prev_value\", F.lag(AMZN.df.Date).over(my_window))\n",
    "df = df.withColumn(\"diff\", F.when(F.isnull(F.datediff(df.Date, df.prev_value)), 0)\n",
    "                              .otherwise(F.datediff(df.Date, df.prev_value)))"
   ]
  },
  {
   "cell_type": "code",
   "execution_count": 98,
   "id": "9ffe5ff1",
   "metadata": {},
   "outputs": [
    {
     "name": "stdout",
     "output_type": "stream",
     "text": [
      "+----+\n",
      "|diff|\n",
      "+----+\n",
      "|   0|\n",
      "|   1|\n",
      "|   1|\n",
      "|   1|\n",
      "|   3|\n",
      "|   1|\n",
      "|   1|\n",
      "|   1|\n",
      "|   1|\n",
      "|   4|\n",
      "|   1|\n",
      "|   1|\n",
      "|   1|\n",
      "|   3|\n",
      "|   1|\n",
      "|   1|\n",
      "|   1|\n",
      "|   1|\n",
      "|   3|\n",
      "|   1|\n",
      "+----+\n",
      "only showing top 20 rows\n",
      "\n"
     ]
    },
    {
     "name": "stderr",
     "output_type": "stream",
     "text": [
      "22/05/21 21:26:09 WARN WindowExec: No Partition Defined for Window operation! Moving all data to a single partition, this can cause serious performance degradation.\n",
      "22/05/21 21:26:09 WARN WindowExec: No Partition Defined for Window operation! Moving all data to a single partition, this can cause serious performance degradation.\n",
      "22/05/21 21:26:09 WARN WindowExec: No Partition Defined for Window operation! Moving all data to a single partition, this can cause serious performance degradation.\n"
     ]
    }
   ],
   "source": [
    "df.select(\"diff\").show()"
   ]
  },
  {
   "cell_type": "code",
   "execution_count": 99,
   "id": "558d813b",
   "metadata": {},
   "outputs": [],
   "source": [
    "from pyspark.sql.functions import mean"
   ]
  },
  {
   "cell_type": "code",
   "execution_count": 100,
   "id": "d9d0d159",
   "metadata": {},
   "outputs": [
    {
     "name": "stderr",
     "output_type": "stream",
     "text": [
      "22/05/21 21:26:16 WARN WindowExec: No Partition Defined for Window operation! Moving all data to a single partition, this can cause serious performance degradation.\n",
      "22/05/21 21:26:16 WARN WindowExec: No Partition Defined for Window operation! Moving all data to a single partition, this can cause serious performance degradation.\n"
     ]
    },
    {
     "data": {
      "text/plain": [
       "1.447821681864235"
      ]
     },
     "execution_count": 100,
     "metadata": {},
     "output_type": "execute_result"
    }
   ],
   "source": [
    "df.select(mean('diff')).first()[0]"
   ]
  },
  {
   "cell_type": "code",
   "execution_count": 101,
   "id": "6381618d",
   "metadata": {},
   "outputs": [
    {
     "data": {
      "text/plain": [
       "0.999196080434689"
      ]
     },
     "execution_count": 101,
     "metadata": {},
     "output_type": "execute_result"
    }
   ],
   "source": [
    "AMZN.df.stat.corr('High', 'Low')"
   ]
  },
  {
   "cell_type": "markdown",
   "id": "1249c72e",
   "metadata": {},
   "source": [
    "TODO: Create function to compute per month week year"
   ]
  },
  {
   "cell_type": "code",
   "execution_count": 82,
   "id": "b4aecfcd",
   "metadata": {},
   "outputs": [
    {
     "data": {
      "text/plain": [
       "1742.9566644206718"
      ]
     },
     "execution_count": 82,
     "metadata": {},
     "output_type": "execute_result"
    }
   ],
   "source": [
    "AMZN.df.select(mean (\"Close\")).first()[0]"
   ]
  },
  {
   "cell_type": "code",
   "execution_count": 83,
   "id": "1fb98d0c",
   "metadata": {},
   "outputs": [],
   "source": [
    "def get_col_mean(df, col):\n",
    "    return df.select(mean (col)).first()[0]"
   ]
  },
  {
   "cell_type": "code",
   "execution_count": 84,
   "id": "68a9a7fb",
   "metadata": {},
   "outputs": [
    {
     "data": {
      "text/plain": [
       "1742.9566644206718"
      ]
     },
     "execution_count": 84,
     "metadata": {},
     "output_type": "execute_result"
    }
   ],
   "source": [
    "get_col_mean(AMZN.df, \"Close\")"
   ]
  },
  {
   "cell_type": "code",
   "execution_count": 85,
   "id": "6b28887c",
   "metadata": {},
   "outputs": [
    {
     "ename": "TypeError",
     "evalue": "unsupported operand type(s) for +: 'int' and 'str'",
     "output_type": "error",
     "traceback": [
      "\u001b[0;31m---------------------------------------------------------------------------\u001b[0m",
      "\u001b[0;31mTypeError\u001b[0m                                 Traceback (most recent call last)",
      "Input \u001b[0;32mIn [85]\u001b[0m, in \u001b[0;36m<cell line: 1>\u001b[0;34m()\u001b[0m\n\u001b[0;32m----> 1\u001b[0m AMZN\u001b[38;5;241m.\u001b[39mdf\u001b[38;5;241m.\u001b[39mgroupBy(func\u001b[38;5;241m.\u001b[39mweekofyear(\u001b[38;5;124m\"\u001b[39m\u001b[38;5;124mday\u001b[39m\u001b[38;5;124m\"\u001b[39m)\u001b[38;5;241m.\u001b[39malias(\u001b[38;5;124m\"\u001b[39m\u001b[38;5;124mdate_by_week\u001b[39m\u001b[38;5;124m\"\u001b[39m))\u001b[38;5;241m.\u001b[39magg(\u001b[38;5;28;43msum\u001b[39;49m\u001b[43m(\u001b[49m\u001b[38;5;124;43m\"\u001b[39;49m\u001b[38;5;124;43mDate\u001b[39;49m\u001b[38;5;124;43m\"\u001b[39;49m\u001b[43m)\u001b[49m)\n",
      "\u001b[0;31mTypeError\u001b[0m: unsupported operand type(s) for +: 'int' and 'str'"
     ]
    }
   ],
   "source": [
    "AMZN.df.groupBy(func.weekofyear(\"day\").alias(\"date_by_week\")).agg(sum(\"Date\"))"
   ]
  },
  {
   "cell_type": "code",
   "execution_count": 86,
   "id": "9deddd5d",
   "metadata": {},
   "outputs": [
    {
     "ename": "TypeError",
     "evalue": "unsupported operand type(s) for +: 'int' and 'str'",
     "output_type": "error",
     "traceback": [
      "\u001b[0;31m---------------------------------------------------------------------------\u001b[0m",
      "\u001b[0;31mTypeError\u001b[0m                                 Traceback (most recent call last)",
      "Input \u001b[0;32mIn [86]\u001b[0m, in \u001b[0;36m<cell line: 1>\u001b[0;34m()\u001b[0m\n\u001b[0;32m----> 1\u001b[0m AMZN\u001b[38;5;241m.\u001b[39mdf\u001b[38;5;241m.\u001b[39mgroupBy(func\u001b[38;5;241m.\u001b[39mweekofyear(\u001b[38;5;124m\"\u001b[39m\u001b[38;5;124mday\u001b[39m\u001b[38;5;124m\"\u001b[39m)\u001b[38;5;241m.\u001b[39malias(\u001b[38;5;124m\"\u001b[39m\u001b[38;5;124mdate_by_week\u001b[39m\u001b[38;5;124m\"\u001b[39m))\u001b[38;5;241m.\u001b[39magg(\u001b[38;5;28;43msum\u001b[39;49m\u001b[43m(\u001b[49m\u001b[38;5;124;43m\"\u001b[39;49m\u001b[38;5;124;43mClose\u001b[39;49m\u001b[38;5;124;43m\"\u001b[39;49m\u001b[43m)\u001b[49m)\u001b[38;5;241m.\u001b[39morderBy(\u001b[38;5;124m\"\u001b[39m\u001b[38;5;124mdate_by_week\u001b[39m\u001b[38;5;124m\"\u001b[39m)\u001b[38;5;241m.\u001b[39mshow()\n",
      "\u001b[0;31mTypeError\u001b[0m: unsupported operand type(s) for +: 'int' and 'str'"
     ]
    }
   ],
   "source": [
    "AMZN.df.groupBy(func.weekofyear(\"day\").alias(\"date_by_week\")).agg(sum(\"Close\")).orderBy(\"date_by_week\").show()"
   ]
  },
  {
   "cell_type": "code",
   "execution_count": null,
   "id": "7c180653",
   "metadata": {},
   "outputs": [],
   "source": [
    "AMZN.df.withColumn(\"Date\",func.date_sub(func.next_day(col(\"Date\"),\"sunday\"),7)).groupBy(\"Date\").agg(sum(\"Close\").cast(\"int\").alias(\"Close_total\")).orderBy(\"week_strt_day\").show()\n"
   ]
  },
  {
   "cell_type": "code",
   "execution_count": null,
   "id": "61523a42",
   "metadata": {},
   "outputs": [],
   "source": [
    "AMZN.df.groupBy(\"Date\").select(\"Close\").show()"
   ]
  },
  {
   "cell_type": "code",
   "execution_count": null,
   "id": "5d96f825",
   "metadata": {},
   "outputs": [],
   "source": [
    "AMZN.df.groupBy(func.month(\"Date\").alias(\"hour\")).agg(mean(\"Close\").alias(\"close_mean\")).show()"
   ]
  },
  {
   "cell_type": "code",
   "execution_count": null,
   "id": "212f331e",
   "metadata": {},
   "outputs": [],
   "source": [
    "AMZN.df.groupBy(func.year(\"Date\").alias(\"hour\")).agg(mean(\"Close\").alias(\"close_mean\")).show()"
   ]
  },
  {
   "cell_type": "code",
   "execution_count": null,
   "id": "60c295a7",
   "metadata": {},
   "outputs": [],
   "source": [
    "get_avg(AMZN.df, \"Close\", func.year)"
   ]
  },
  {
   "cell_type": "code",
   "execution_count": null,
   "id": "9b509bb2",
   "metadata": {},
   "outputs": [],
   "source": [
    "get_avg(AMZN.df, \"Open\", func.year)"
   ]
  },
  {
   "cell_type": "code",
   "execution_count": null,
   "id": "7bf35233",
   "metadata": {},
   "outputs": [],
   "source": [
    "class Exploration(object):\n",
    "    def __init__(self, df):\n",
    "        self.df = df\n",
    "\n",
    "    def get_oc_avg(self, fun):\n",
    "        close = self._compute_avg(self.df, \"Close\", fun)\n",
    "        opening = self._compute_avg(self.df, \"Open\", fun)\n",
    "\n",
    "        return close.join(\n",
    "            opening, opening.Open_new_time == close.Close_new_time, \"inner\"\n",
    "        ).orderBy(\"Close_new_time\").select(\n",
    "            close.Close_new_time, close.Close_mean, opening.Open_mean\n",
    "        )\n",
    "\n",
    "    def _compute_avg(self, df, col, fun):\n",
    "        return df.groupBy(fun(\"Date\").alias(col + \"_new_time\")).agg(\n",
    "            mean(col).alias(col + \"_mean\")\n",
    "        )"
   ]
  },
  {
   "cell_type": "code",
   "execution_count": null,
   "id": "fef66e28",
   "metadata": {},
   "outputs": [],
   "source": [
    "exAMZN = Exploration(AMZN.df)"
   ]
  },
  {
   "cell_type": "code",
   "execution_count": null,
   "id": "64483441",
   "metadata": {},
   "outputs": [],
   "source": [
    "exAMZN.get_oc_avg(func.month).show()"
   ]
  },
  {
   "cell_type": "code",
   "execution_count": null,
   "id": "18fd10f3",
   "metadata": {},
   "outputs": [],
   "source": [
    "exAMZN.get_oc_avg(func.year).show()"
   ]
  },
  {
   "cell_type": "code",
   "execution_count": null,
   "id": "6d2c0650",
   "metadata": {},
   "outputs": [],
   "source": [
    "def get_price_change(period=None):\n",
    "    df = AMZN.df\n",
    "    if period:\n",
    "        df= exAMZN.get_oc_avg(period)\n",
    "   \n",
    "    return  df.withColumn('diff', ( df['Close_mean'] - df['Open_mean'] ))"
   ]
  },
  {
   "cell_type": "code",
   "execution_count": null,
   "id": "c1f07826",
   "metadata": {},
   "outputs": [],
   "source": [
    "get_price_change(func.month).show()"
   ]
  },
  {
   "cell_type": "code",
   "execution_count": null,
   "id": "14c0d8bc",
   "metadata": {},
   "outputs": [],
   "source": [
    "get_price_change(func.year).show()"
   ]
  },
  {
   "cell_type": "code",
   "execution_count": null,
   "id": "d1e6d8d2",
   "metadata": {},
   "outputs": [],
   "source": []
  },
  {
   "cell_type": "code",
   "execution_count": null,
   "id": "20fcf1d8",
   "metadata": {},
   "outputs": [],
   "source": []
  },
  {
   "cell_type": "code",
   "execution_count": null,
   "id": "c36021db",
   "metadata": {},
   "outputs": [],
   "source": []
  },
  {
   "cell_type": "code",
   "execution_count": 21,
   "id": "d3ca4a2d",
   "metadata": {},
   "outputs": [
    {
     "name": "stdout",
     "output_type": "stream",
     "text": [
      "The autoreload extension is already loaded. To reload it, use:\n",
      "  %reload_ext autoreload\n"
     ]
    }
   ],
   "source": [
    "%load_ext autoreload\n",
    "%autoreload 2"
   ]
  },
  {
   "cell_type": "code",
   "execution_count": 22,
   "id": "812445ab",
   "metadata": {},
   "outputs": [],
   "source": [
    "from stock import Stock"
   ]
  },
  {
   "cell_type": "code",
   "execution_count": 23,
   "id": "c1621cd7",
   "metadata": {},
   "outputs": [],
   "source": [
    "from pyspark.sql.types import DoubleType, IntegerType, StringType, DateType, StructType,StructField"
   ]
  },
  {
   "cell_type": "code",
   "execution_count": 24,
   "id": "c9f0d047",
   "metadata": {},
   "outputs": [],
   "source": [
    "amzn_schema = StructType([\n",
    "    StructField('Date', DateType(), True),\n",
    "    StructField('High', DoubleType(), True),\n",
    "    StructField('Low', DoubleType(), True),\n",
    "    StructField('Open', DoubleType(), True),\n",
    "    StructField('Close', DoubleType(), True),\n",
    "    StructField('Volume', DoubleType(), True),\n",
    "    StructField('Adj Close', DoubleType(), True),\n",
    "    StructField('company_name', StringType(), True)\n",
    "])"
   ]
  },
  {
   "cell_type": "code",
   "execution_count": 51,
   "id": "0961438c",
   "metadata": {},
   "outputs": [],
   "source": [
    "AMZN = Stock('stocks_data/AMAZON.csv', header=True, delimiter=',', schema=amzn_schema)"
   ]
  },
  {
   "cell_type": "code",
   "execution_count": 52,
   "id": "fb4526c4",
   "metadata": {},
   "outputs": [
    {
     "name": "stdout",
     "output_type": "stream",
     "text": [
      "root\n",
      " |-- Date: date (nullable = true)\n",
      " |-- High: double (nullable = true)\n",
      " |-- Low: double (nullable = true)\n",
      " |-- Open: double (nullable = true)\n",
      " |-- Close: double (nullable = true)\n",
      " |-- Volume: double (nullable = true)\n",
      " |-- Adj Close: double (nullable = true)\n",
      " |-- company_name: string (nullable = true)\n",
      "\n",
      "First 40 rows:\n",
      "+----------+-----+-----+-----+-----+---------+---------+------------+\n",
      "|      Date| High|  Low| Open|Close|   Volume|Adj Close|company_name|\n",
      "+----------+-----+-----+-----+-----+---------+---------+------------+\n",
      "|2017-01-03|759.0|748.0|758.0|754.0|3521100.0|    754.0|      AMAZON|\n",
      "|2017-01-04|760.0|754.0|758.0|757.0|2510500.0|    757.0|      AMAZON|\n",
      "|2017-01-05|782.0|760.0|762.0|780.0|5830100.0|    780.0|      AMAZON|\n",
      "|2017-01-06|799.0|778.0|782.0|796.0|5986200.0|    796.0|      AMAZON|\n",
      "|2017-01-09|802.0|792.0|798.0|797.0|3446100.0|    797.0|      AMAZON|\n",
      "|2017-01-10|798.0|790.0|797.0|796.0|2558400.0|    796.0|      AMAZON|\n",
      "|2017-01-11|800.0|790.0|794.0|799.0|2992800.0|    799.0|      AMAZON|\n",
      "|2017-01-12|814.0|800.0|800.0|814.0|4873900.0|    814.0|      AMAZON|\n",
      "|2017-01-13|822.0|811.0|814.0|817.0|3791900.0|    817.0|      AMAZON|\n",
      "|2017-01-17|816.0|803.0|816.0|810.0|3670500.0|    810.0|      AMAZON|\n",
      "|2017-01-18|812.0|804.0|810.0|807.0|2354200.0|    807.0|      AMAZON|\n",
      "|2017-01-19|814.0|807.0|810.0|809.0|2540800.0|    809.0|      AMAZON|\n",
      "|2017-01-20|816.0|806.0|815.0|808.0|3376200.0|    808.0|      AMAZON|\n",
      "|2017-01-23|819.0|805.0|807.0|818.0|2797500.0|    818.0|      AMAZON|\n",
      "|2017-01-24|824.0|815.0|822.0|822.0|2971700.0|    822.0|      AMAZON|\n",
      "|2017-01-25|837.0|825.0|826.0|837.0|3922600.0|    837.0|      AMAZON|\n",
      "|2017-01-26|844.0|833.0|836.0|839.0|3586300.0|    839.0|      AMAZON|\n",
      "|2017-01-27|840.0|829.0|839.0|836.0|2998700.0|    836.0|      AMAZON|\n",
      "|2017-01-30|834.0|816.0|833.0|830.0|3747300.0|    830.0|      AMAZON|\n",
      "|2017-01-31|827.0|820.0|824.0|823.0|3137200.0|    823.0|      AMAZON|\n",
      "|2017-02-01|834.0|825.0|829.0|832.0|3850200.0|    832.0|      AMAZON|\n",
      "|2017-02-02|842.0|828.0|837.0|840.0|7350500.0|    840.0|      AMAZON|\n",
      "|2017-02-03|818.0|804.0|807.0|810.0|1.08688E7|    810.0|      AMAZON|\n",
      "|2017-02-06|811.0|803.0|810.0|808.0|3897300.0|    808.0|      AMAZON|\n",
      "|2017-02-07|816.0|808.0|809.0|813.0|3466100.0|    813.0|      AMAZON|\n",
      "|2017-02-08|821.0|813.0|813.0|820.0|2858000.0|    820.0|      AMAZON|\n",
      "|2017-02-09|825.0|820.0|822.0|821.0|2484900.0|    821.0|      AMAZON|\n",
      "|2017-02-10|828.0|823.0|824.0|827.0|2429600.0|    827.0|      AMAZON|\n",
      "|2017-02-13|843.0|829.0|832.0|837.0|4172600.0|    837.0|      AMAZON|\n",
      "|2017-02-14|838.0|831.0|837.0|836.0|2792400.0|    836.0|      AMAZON|\n",
      "|2017-02-15|843.0|833.0|834.0|843.0|2968900.0|    843.0|      AMAZON|\n",
      "|2017-02-16|845.0|839.0|842.0|844.0|2714700.0|    844.0|      AMAZON|\n",
      "|2017-02-17|847.0|841.0|842.0|845.0|3112300.0|    845.0|      AMAZON|\n",
      "|2017-02-21|858.0|847.0|849.0|856.0|3507700.0|    856.0|      AMAZON|\n",
      "|2017-02-22|858.0|852.0|857.0|856.0|2617000.0|    856.0|      AMAZON|\n",
      "|2017-02-23|861.0|848.0|858.0|852.0|3462000.0|    852.0|      AMAZON|\n",
      "|2017-02-24|846.0|838.0|845.0|845.0|3688000.0|    845.0|      AMAZON|\n",
      "|2017-02-27|853.0|840.0|842.0|849.0|2713600.0|    849.0|      AMAZON|\n",
      "|2017-02-28|854.0|842.0|851.0|845.0|2793700.0|    845.0|      AMAZON|\n",
      "|2017-03-01|855.0|849.0|853.0|853.0|2760100.0|    853.0|      AMAZON|\n",
      "+----------+-----+-----+-----+-----+---------+---------+------------+\n",
      "only showing top 40 rows\n",
      "\n",
      "Last 40 rows:\n",
      "+----------+------+------+------+------+---------+---------+------------+\n",
      "|      Date|  High|   Low|  Open| Close|   Volume|Adj Close|company_name|\n",
      "+----------+------+------+------+------+---------+---------+------------+\n",
      "|2020-12-02|3224.0|3173.0|3222.0|3213.0|1119593.0|   3213.0|      AMAZON|\n",
      "|2020-12-01|3249.0|3157.0|3189.0|3220.0|4537000.0|   3220.0|      AMAZON|\n",
      "|2020-11-30|3228.0|3126.0|3208.0|3168.0|4063900.0|   3168.0|      AMAZON|\n",
      "|2020-11-27|3216.0|3190.0|3211.0|3195.0|2392900.0|   3195.0|      AMAZON|\n",
      "|2020-11-25|3198.0|3140.0|3142.0|3185.0|3790400.0|   3185.0|      AMAZON|\n",
      "|2020-11-24|3134.0|3086.0|3101.0|3118.0|3602100.0|   3118.0|      AMAZON|\n",
      "|2020-11-23|3140.0|3065.0|3117.0|3098.0|4708900.0|   3098.0|      AMAZON|\n",
      "|2020-11-20|3133.0|3098.0|3117.0|3099.0|3374400.0|   3099.0|      AMAZON|\n",
      "|2020-11-19|3125.0|3081.0|3105.0|3117.0|3010300.0|   3117.0|      AMAZON|\n",
      "|2020-11-18|3140.0|3105.0|3134.0|3105.0|2916800.0|   3105.0|      AMAZON|\n",
      "|2020-11-17|3189.0|3135.0|3184.0|3136.0|3444700.0|   3136.0|      AMAZON|\n",
      "|2020-11-16|3143.0|3073.0|3093.0|3131.0|3808700.0|   3131.0|      AMAZON|\n",
      "|2020-11-13|3142.0|3085.0|3122.0|3129.0|3756200.0|   3129.0|      AMAZON|\n",
      "|2020-11-12|3176.0|3086.0|3160.0|3110.0|4362000.0|   3110.0|      AMAZON|\n",
      "|2020-11-11|3139.0|3050.0|3062.0|3137.0|4366900.0|   3137.0|      AMAZON|\n",
      "|2020-11-10|3114.0|3019.0|3095.0|3035.0|6591000.0|   3035.0|      AMAZON|\n",
      "|2020-11-09|3289.0|3112.0|3231.0|3144.0|7190400.0|   3144.0|      AMAZON|\n",
      "|2020-11-06|3322.0|3232.0|3305.0|3311.0|4647300.0|   3311.0|      AMAZON|\n",
      "|2020-11-05|3367.0|3289.0|3320.0|3322.0|5789300.0|   3322.0|      AMAZON|\n",
      "|2020-11-04|3245.0|3140.0|3160.0|3241.0|6839000.0|   3241.0|      AMAZON|\n",
      "|2020-11-03|3075.0|2981.0|3019.0|3048.0|4897900.0|   3048.0|      AMAZON|\n",
      "|2020-11-02|3080.0|2950.0|3062.0|3004.0|7257400.0|   3004.0|      AMAZON|\n",
      "|2020-10-30|3167.0|3019.0|3158.0|3036.0|8386400.0|   3036.0|      AMAZON|\n",
      "|2020-10-29|3257.0|3164.0|3201.0|3211.0|6596500.0|   3211.0|      AMAZON|\n",
      "|2020-10-28|3264.0|3162.0|3249.0|3163.0|5588300.0|   3163.0|      AMAZON|\n",
      "|2020-10-27|3292.0|3211.0|3225.0|3286.0|4291000.0|   3286.0|      AMAZON|\n",
      "|2020-10-26|3283.0|3153.0|3199.0|3207.0|5901200.0|   3207.0|      AMAZON|\n",
      "|2020-10-23|3205.0|3140.0|3191.0|3204.0|3466700.0|   3204.0|      AMAZON|\n",
      "|2020-10-22|3199.0|3122.0|3190.0|3176.0|4212000.0|   3176.0|      AMAZON|\n",
      "|2020-10-21|3234.0|3160.0|3213.0|3185.0|4592700.0|   3185.0|      AMAZON|\n",
      "|2020-10-20|3266.0|3192.0|3222.0|3217.0|4509700.0|   3217.0|      AMAZON|\n",
      "|2020-10-19|3329.0|3193.0|3300.0|3207.0|5223600.0|   3207.0|      AMAZON|\n",
      "|2020-10-16|3400.0|3160.0|3363.0|3273.0|6474400.0|   3273.0|      AMAZON|\n",
      "|2020-10-15|3356.0|3280.0|3292.0|3339.0|5223400.0|   3339.0|      AMAZON|\n",
      "|2020-10-14|3465.0|3340.0|3447.0|3364.0|5828900.0|   3364.0|      AMAZON|\n",
      "|2020-10-13|3492.0|3424.0|3468.0|3444.0|5744700.0|   3444.0|      AMAZON|\n",
      "|2020-10-12|3496.0|3340.0|3350.0|3443.0|8364200.0|   3443.0|      AMAZON|\n",
      "|2020-10-09|3289.0|3198.0|3210.0|3287.0|4907900.0|   3287.0|      AMAZON|\n",
      "|2020-10-08|3233.0|3175.0|3225.0|3191.0|3174100.0|   3191.0|      AMAZON|\n",
      "|2020-10-07|3200.0|3132.0|3135.0|3196.0|4309400.0|   3196.0|      AMAZON|\n",
      "+----------+------+------+------+------+---------+---------+------------+\n",
      "only showing top 40 rows\n",
      "\n",
      "Number of rows: 987\n",
      "\n",
      "Stock Stats:\n",
      "+-------+------+------+------+------+---------+---------+------------+\n",
      "|summary|  High|   Low|  Open| Close|   Volume|Adj Close|company_name|\n",
      "+-------+------+------+------+------+---------+---------+------------+\n",
      "|  count| 987.0| 987.0| 987.0| 987.0|    987.0|    987.0|         987|\n",
      "|   mean|1762.0|1722.0|1743.0|1743.0|4509728.0|   1743.0|        null|\n",
      "| stddev| 667.0| 645.0| 657.0| 656.0|2179818.0|    656.0|        null|\n",
      "|    min| 759.0| 748.0| 758.0| 754.0| 881300.0|    754.0|      AMAZON|\n",
      "|    25%|1191.0|1176.0|1188.0|1186.0|2982700.0|   1186.0|        null|\n",
      "|    50%|1757.0|1719.0|1742.0|1740.0|3925600.0|   1740.0|        null|\n",
      "|    75%|1942.0|1900.0|1923.0|1918.0|5429100.0|   1918.0|        null|\n",
      "|    max|3552.0|3487.0|3547.0|3531.0| 1.6565E7|   3531.0|      AMAZON|\n",
      "+-------+------+------+------+------+---------+---------+------------+\n",
      "\n",
      "Missing Data per column:\n",
      "+----+---+----+-----+------+---------+------------+\n",
      "|High|Low|Open|Close|Volume|Adj Close|company_name|\n",
      "+----+---+----+-----+------+---------+------------+\n",
      "|   0|  0|   0|    0|     0|        0|           0|\n",
      "+----+---+----+-----+------+---------+------------+\n",
      "\n"
     ]
    },
    {
     "data": {
      "text/plain": [
       "\n",
       "            None\n",
       "\n",
       "            None\n",
       "\n",
       "            None\n",
       "\n",
       "            None\n",
       "\n",
       "            None"
      ]
     },
     "execution_count": 52,
     "metadata": {},
     "output_type": "execute_result"
    }
   ],
   "source": [
    "AMZN.explore"
   ]
  },
  {
   "cell_type": "code",
   "execution_count": 53,
   "id": "e8daac0c",
   "metadata": {},
   "outputs": [
    {
     "name": "stdout",
     "output_type": "stream",
     "text": [
      "Number of rows: 987\n",
      "\n"
     ]
    }
   ],
   "source": [
    "AMZN.explore._nb_rows()"
   ]
  },
  {
   "cell_type": "code",
   "execution_count": 8,
   "id": "a80933bf",
   "metadata": {},
   "outputs": [
    {
     "name": "stdout",
     "output_type": "stream",
     "text": [
      "root\n",
      " |-- Date: date (nullable = true)\n",
      " |-- High: double (nullable = true)\n",
      " |-- Low: double (nullable = true)\n",
      " |-- Open: double (nullable = true)\n",
      " |-- Close: double (nullable = true)\n",
      " |-- Volume: double (nullable = true)\n",
      " |-- Adj Close: double (nullable = true)\n",
      " |-- company_name: string (nullable = true)\n",
      "\n"
     ]
    }
   ],
   "source": [
    "AMZN.explore._print_schema()"
   ]
  },
  {
   "cell_type": "code",
   "execution_count": 10,
   "id": "17988a2b",
   "metadata": {
    "scrolled": true
   },
   "outputs": [
    {
     "name": "stdout",
     "output_type": "stream",
     "text": [
      "First 40 rows:\n",
      "+----------+----+----+----+-----+---------+---------+------------+\n",
      "|      Date|High| Low|Open|Close|   Volume|Adj Close|company_name|\n",
      "+----------+----+----+----+-----+---------+---------+------------+\n",
      "|2017-01-03|63.0|62.0|63.0| 63.0|2.06941E7|     59.0|   MICROSOFT|\n",
      "|2017-01-04|63.0|62.0|62.0| 62.0|  2.134E7|     58.0|   MICROSOFT|\n",
      "|2017-01-05|63.0|62.0|62.0| 62.0| 2.4876E7|     58.0|   MICROSOFT|\n",
      "|2017-01-06|63.0|62.0|62.0| 63.0|1.99229E7|     59.0|   MICROSOFT|\n",
      "|2017-01-09|63.0|63.0|63.0| 63.0|2.03827E7|     59.0|   MICROSOFT|\n",
      "|2017-01-10|63.0|62.0|63.0| 63.0| 1.8593E7|     59.0|   MICROSOFT|\n",
      "|2017-01-11|63.0|62.0|63.0| 63.0|2.15173E7|     59.0|   MICROSOFT|\n",
      "|2017-01-12|63.0|62.0|63.0| 63.0|2.09682E7|     59.0|   MICROSOFT|\n",
      "|2017-01-13|63.0|62.0|63.0| 63.0|1.94223E7|     59.0|   MICROSOFT|\n",
      "|2017-01-17|63.0|62.0|63.0| 63.0| 2.0664E7|     59.0|   MICROSOFT|\n",
      "|2017-01-18|63.0|62.0|63.0| 63.0|1.96701E7|     59.0|   MICROSOFT|\n",
      "|2017-01-19|63.0|62.0|62.0| 62.0|1.84517E7|     58.0|   MICROSOFT|\n",
      "|2017-01-20|63.0|62.0|63.0| 63.0|3.02135E7|     59.0|   MICROSOFT|\n",
      "|2017-01-23|63.0|63.0|63.0| 63.0|2.30976E7|     59.0|   MICROSOFT|\n",
      "|2017-01-24|64.0|63.0|63.0| 64.0|2.46729E7|     60.0|   MICROSOFT|\n",
      "|2017-01-25|64.0|63.0|64.0| 64.0|2.36727E7|     60.0|   MICROSOFT|\n",
      "|2017-01-26|65.0|64.0|64.0| 64.0|4.35546E7|     60.0|   MICROSOFT|\n",
      "|2017-01-27|66.0|65.0|65.0| 66.0| 4.4818E7|     62.0|   MICROSOFT|\n",
      "|2017-01-30|66.0|65.0|66.0| 65.0|3.16514E7|     61.0|   MICROSOFT|\n",
      "|2017-01-31|65.0|64.0|65.0| 65.0|2.52705E7|     61.0|   MICROSOFT|\n",
      "|2017-02-01|65.0|63.0|64.0| 64.0|3.96715E7|     60.0|   MICROSOFT|\n",
      "|2017-02-02|63.0|63.0|63.0| 63.0| 4.5827E7|     59.0|   MICROSOFT|\n",
      "|2017-02-03|64.0|63.0|64.0| 64.0|3.03018E7|     60.0|   MICROSOFT|\n",
      "|2017-02-06|64.0|63.0|64.0| 64.0|1.97964E7|     60.0|   MICROSOFT|\n",
      "|2017-02-07|64.0|63.0|64.0| 63.0|2.02772E7|     59.0|   MICROSOFT|\n",
      "|2017-02-08|64.0|63.0|64.0| 63.0|1.80964E7|     59.0|   MICROSOFT|\n",
      "|2017-02-09|64.0|63.0|64.0| 64.0|2.26444E7|     60.0|   MICROSOFT|\n",
      "|2017-02-10|64.0|64.0|64.0| 64.0|1.81707E7|     60.0|   MICROSOFT|\n",
      "|2017-02-13|65.0|64.0|64.0| 65.0|2.29201E7|     61.0|   MICROSOFT|\n",
      "|2017-02-14|65.0|64.0|64.0| 65.0|2.31084E7|     61.0|   MICROSOFT|\n",
      "|2017-02-15|65.0|64.0|65.0| 65.0|1.70052E7|     61.0|   MICROSOFT|\n",
      "|2017-02-16|65.0|64.0|65.0| 65.0|2.05463E7|     61.0|   MICROSOFT|\n",
      "|2017-02-17|65.0|64.0|64.0| 65.0|2.12488E7|     61.0|   MICROSOFT|\n",
      "|2017-02-21|65.0|64.0|65.0| 64.0|2.06559E7|     61.0|   MICROSOFT|\n",
      "|2017-02-22|64.0|64.0|64.0| 64.0|1.92927E7|     61.0|   MICROSOFT|\n",
      "|2017-02-23|65.0|64.0|64.0| 65.0|2.02731E7|     61.0|   MICROSOFT|\n",
      "|2017-02-24|65.0|64.0|65.0| 65.0|2.17968E7|     61.0|   MICROSOFT|\n",
      "|2017-02-27|65.0|64.0|65.0| 64.0|1.58715E7|     61.0|   MICROSOFT|\n",
      "|2017-02-28|64.0|64.0|64.0| 64.0|2.32398E7|     60.0|   MICROSOFT|\n",
      "|2017-03-01|65.0|64.0|64.0| 65.0|2.69375E7|     61.0|   MICROSOFT|\n",
      "+----------+----+----+----+-----+---------+---------+------------+\n",
      "only showing top 40 rows\n",
      "\n",
      "Last 40 rows:\n",
      "+----------+-----+-----+-----+-----+---------+---------+------------+\n",
      "|      Date| High|  Low| Open|Close|   Volume|Adj Close|company_name|\n",
      "+----------+-----+-----+-----+-----+---------+---------+------------+\n",
      "|2020-12-02|215.0|213.0|215.0|214.0|6486678.0|    214.0|   MICROSOFT|\n",
      "|2020-12-01|217.0|213.0|215.0|216.0|3.09045E7|    216.0|   MICROSOFT|\n",
      "|2020-11-30|215.0|211.0|214.0|214.0|3.30648E7|    214.0|   MICROSOFT|\n",
      "|2020-11-27|216.0|214.0|215.0|215.0|1.45122E7|    215.0|   MICROSOFT|\n",
      "|2020-11-25|215.0|212.0|215.0|214.0|2.10129E7|    214.0|   MICROSOFT|\n",
      "|2020-11-24|214.0|209.0|210.0|214.0|3.39797E7|    214.0|   MICROSOFT|\n",
      "|2020-11-23|212.0|208.0|211.0|210.0|2.56835E7|    210.0|   MICROSOFT|\n",
      "|2020-11-20|213.0|210.0|212.0|210.0|2.28291E7|    210.0|   MICROSOFT|\n",
      "|2020-11-19|213.0|210.0|211.0|212.0|2.47927E7|    212.0|   MICROSOFT|\n",
      "|2020-11-18|215.0|211.0|214.0|211.0|2.83728E7|    211.0|   MICROSOFT|\n",
      "|2020-11-17|218.0|214.0|216.0|214.0|2.41541E7|    214.0|   MICROSOFT|\n",
      "|2020-11-16|218.0|215.0|215.0|217.0|2.49533E7|    217.0|   MICROSOFT|\n",
      "|2020-11-13|217.0|214.0|216.0|217.0|1.86211E7|    216.0|   MICROSOFT|\n",
      "|2020-11-12|219.0|214.0|217.0|215.0|2.15939E7|    215.0|   MICROSOFT|\n",
      "|2020-11-11|218.0|212.0|212.0|217.0|2.94408E7|    216.0|   MICROSOFT|\n",
      "|2020-11-10|217.0|210.0|215.0|211.0|4.40451E7|    210.0|   MICROSOFT|\n",
      "|2020-11-09|228.0|218.0|224.0|218.0| 4.4395E7|    218.0|   MICROSOFT|\n",
      "|2020-11-06|224.0|218.0|222.0|224.0|2.52319E7|    223.0|   MICROSOFT|\n",
      "|2020-11-05|224.0|221.0|222.0|223.0|3.60801E7|    223.0|   MICROSOFT|\n",
      "|2020-11-04|218.0|212.0|214.0|216.0|4.23118E7|    216.0|   MICROSOFT|\n",
      "|2020-11-03|208.0|203.0|204.0|206.0| 2.7512E7|    206.0|   MICROSOFT|\n",
      "|2020-11-02|205.0|200.0|204.0|202.0|3.08422E7|    202.0|   MICROSOFT|\n",
      "|2020-10-30|204.0|200.0|204.0|202.0|3.69537E7|    202.0|   MICROSOFT|\n",
      "|2020-10-29|207.0|203.0|204.0|205.0|3.14326E7|    204.0|   MICROSOFT|\n",
      "|2020-10-28|209.0|202.0|208.0|203.0|5.11956E7|    202.0|   MICROSOFT|\n",
      "|2020-10-27|215.0|210.0|212.0|213.0|3.67003E7|    213.0|   MICROSOFT|\n",
      "|2020-10-26|216.0|208.0|214.0|210.0|3.71116E7|    210.0|   MICROSOFT|\n",
      "|2020-10-23|216.0|213.0|215.0|216.0|1.88796E7|    216.0|   MICROSOFT|\n",
      "|2020-10-22|216.0|212.0|214.0|215.0|2.23515E7|    214.0|   MICROSOFT|\n",
      "|2020-10-21|217.0|213.0|213.0|215.0|2.27249E7|    214.0|   MICROSOFT|\n",
      "|2020-10-20|217.0|213.0|216.0|215.0|2.27535E7|    214.0|   MICROSOFT|\n",
      "|2020-10-19|222.0|214.0|220.0|214.0|2.76258E7|    214.0|   MICROSOFT|\n",
      "|2020-10-16|222.0|219.0|220.0|220.0|2.60579E7|    219.0|   MICROSOFT|\n",
      "|2020-10-15|220.0|216.0|217.0|220.0|2.27331E7|    219.0|   MICROSOFT|\n",
      "|2020-10-14|224.0|219.0|223.0|221.0|2.34517E7|    220.0|   MICROSOFT|\n",
      "|2020-10-13|225.0|220.0|223.0|223.0|2.89508E7|    222.0|   MICROSOFT|\n",
      "|2020-10-12|224.0|217.0|219.0|221.0|4.04614E7|    221.0|   MICROSOFT|\n",
      "|2020-10-09|216.0|211.0|211.0|216.0| 2.6458E7|    215.0|   MICROSOFT|\n",
      "|2020-10-08|211.0|208.0|211.0|211.0|1.99258E7|    210.0|   MICROSOFT|\n",
      "|2020-10-07|210.0|207.0|207.0|210.0|2.56811E7|    209.0|   MICROSOFT|\n",
      "+----------+-----+-----+-----+-----+---------+---------+------------+\n",
      "only showing top 40 rows\n",
      "\n"
     ]
    }
   ],
   "source": [
    "AMZN.explore.get_df_abstract()"
   ]
  },
  {
   "cell_type": "code",
   "execution_count": 11,
   "id": "09ca2996",
   "metadata": {},
   "outputs": [
    {
     "name": "stdout",
     "output_type": "stream",
     "text": [
      "Missing Data per column:\n",
      "+----+---+----+-----+------+---------+------------+\n",
      "|High|Low|Open|Close|Volume|Adj Close|company_name|\n",
      "+----+---+----+-----+------+---------+------------+\n",
      "|   0|  0|   0|    0|     0|        0|           0|\n",
      "+----+---+----+-----+------+---------+------------+\n",
      "\n"
     ]
    }
   ],
   "source": [
    "AMZN.explore.get_missing()"
   ]
  },
  {
   "cell_type": "code",
   "execution_count": 48,
   "id": "9a20cc80",
   "metadata": {},
   "outputs": [
    {
     "name": "stdout",
     "output_type": "stream",
     "text": [
      "Stock Stats:\n",
      "+-------+------+------+------+------+---------+---------+------------+\n",
      "|summary|  High|   Low|  Open| Close|   Volume|Adj Close|company_name|\n",
      "+-------+------+------+------+------+---------+---------+------------+\n",
      "|  count| 987.0| 987.0| 987.0| 987.0|    987.0|      0.0|         987|\n",
      "|   mean|1762.0|1722.0|1743.0|1743.0|4509728.0|     null|        null|\n",
      "| stddev| 667.0| 645.0| 657.0| 656.0|2179818.0|     null|        null|\n",
      "|    min| 759.0| 748.0| 758.0| 754.0| 881300.0|     null|      AMAZON|\n",
      "|    25%|1191.0|1176.0|1188.0|1186.0|2982700.0|     null|        null|\n",
      "|    50%|1757.0|1719.0|1742.0|1740.0|3925600.0|     null|        null|\n",
      "|    75%|1942.0|1900.0|1923.0|1918.0|5429100.0|     null|        null|\n",
      "|    max|3552.0|3487.0|3547.0|3531.0| 1.6565E7|     null|      AMAZON|\n",
      "+-------+------+------+------+------+---------+---------+------------+\n",
      "\n"
     ]
    }
   ],
   "source": [
    "AMZN.explore.get_stats()"
   ]
  },
  {
   "cell_type": "markdown",
   "id": "58f03f91",
   "metadata": {},
   "source": [
    "## Analysis"
   ]
  },
  {
   "cell_type": "code",
   "execution_count": 13,
   "id": "d8e4c209",
   "metadata": {},
   "outputs": [
    {
     "name": "stdout",
     "output_type": "stream",
     "text": [
      "+----------+------------------+------------------+\n",
      "|      Date|        Close_mean|         Open_mean|\n",
      "+----------+------------------+------------------+\n",
      "|2017-01-03| 62.58000183105469|62.790000915527344|\n",
      "|2017-01-04| 62.29999923706055| 62.47999954223633|\n",
      "|2017-01-05| 62.29999923706055|62.189998626708984|\n",
      "|2017-01-06| 62.84000015258789| 62.29999923706055|\n",
      "|2017-01-09| 62.63999938964844|  62.7599983215332|\n",
      "|2017-01-10|62.619998931884766| 62.72999954223633|\n",
      "|2017-01-11|63.189998626708984| 62.61000061035156|\n",
      "|2017-01-12| 62.61000061035156|63.060001373291016|\n",
      "|2017-01-13| 62.70000076293945|62.619998931884766|\n",
      "|2017-01-17|62.529998779296875| 62.68000030517578|\n",
      "|2017-01-18|              62.5| 62.66999816894531|\n",
      "|2017-01-19| 62.29999923706055|  62.2400016784668|\n",
      "|2017-01-20|  62.7400016784668| 62.66999816894531|\n",
      "|2017-01-23|62.959999084472656| 62.70000076293945|\n",
      "|2017-01-24| 63.52000045776367| 63.20000076293945|\n",
      "|2017-01-25| 63.68000030517578| 63.95000076293945|\n",
      "|2017-01-26|  64.2699966430664| 64.12000274658203|\n",
      "|2017-01-27| 65.77999877929688| 65.38999938964844|\n",
      "|2017-01-30| 65.12999725341797| 65.69000244140625|\n",
      "|2017-01-31|  64.6500015258789| 64.86000061035156|\n",
      "+----------+------------------+------------------+\n",
      "only showing top 20 rows\n",
      "\n"
     ]
    }
   ],
   "source": [
    "AMZN.analysis.get_oc_avg(\"day\").show()"
   ]
  },
  {
   "cell_type": "code",
   "execution_count": 14,
   "id": "db9fd1a9",
   "metadata": {},
   "outputs": [
    {
     "name": "stdout",
     "output_type": "stream",
     "text": [
      "+----+------------------+------------------+\n",
      "|Date|        Close_mean|         Open_mean|\n",
      "+----+------------------+------------------+\n",
      "|2017| 71.98402421502954| 71.95430287516925|\n",
      "|2018|101.03398411967365|101.12235092831799|\n",
      "|2019|130.38202400813026|130.33904787093874|\n",
      "|2020| 190.8616180419922|190.76480678836674|\n",
      "+----+------------------+------------------+\n",
      "\n"
     ]
    }
   ],
   "source": [
    "AMZN.analysis.get_oc_avg(\"year\").show()"
   ]
  },
  {
   "cell_type": "code",
   "execution_count": 15,
   "id": "5613d179",
   "metadata": {},
   "outputs": [
    {
     "name": "stdout",
     "output_type": "stream",
     "text": [
      "+-------+------------------+------------------+--------------------+\n",
      "|   Date|        Close_mean|         Open_mean|                diff|\n",
      "+-------+------------------+------------------+--------------------+\n",
      "|2017-01| 63.19199962615967|63.185500144958496|0.006499481201174717|\n",
      "|2017-02| 64.11368440326892| 64.13473711515728|  -0.021052711888359|\n",
      "|2017-03| 64.84130494490914| 64.76434906669284| 0.07695587821629601|\n",
      "|2017-04| 66.17157946134868| 66.23894781815379|-0.06736835680510467|\n",
      "|2017-05| 68.91727308793502| 68.82818222045898| 0.08909086747603112|\n",
      "|2017-06|  70.5181815407493| 70.56181820956144|-0.04363666881214101|\n",
      "|2017-07| 72.01050033569337| 71.84349975585937| 0.16700057983399574|\n",
      "|2017-08| 72.81695755668308|  72.7156518023947| 0.10130575428837574|\n",
      "|2017-09| 74.34450073242188|  74.3654998779297|-0.02099914550781...|\n",
      "|2017-10| 77.93954571810636| 77.89318119395863| 0.04636452414773373|\n",
      "|2017-11| 83.71761903308686| 83.64523824055989| 0.07238079252697105|\n",
      "|2017-12|   84.758500289917| 84.83599967956543| -0.0774993896484375|\n",
      "|2018-01| 90.07523781912667| 89.96666681198846| 0.10857100713820955|\n",
      "|2018-02| 91.36789462440892| 91.43736829255757|-0.06947366814864608|\n",
      "|2018-03| 92.89904748825799| 93.23047601609002|-0.33142852783203125|\n",
      "|2018-04| 93.21476164318267| 93.53095318022228|-0.31619153703961445|\n",
      "|2018-05| 96.98136381669478| 96.63272718949752|  0.3486366271972656|\n",
      "|2018-06|100.56190454392205|100.66571517217727|-0.10381062825521781|\n",
      "|2018-07| 104.6385730561756|104.58571479434059|0.052858261835012854|\n",
      "|2018-08|108.68434740149456|108.45391281791355| 0.23043458358101532|\n",
      "+-------+------------------+------------------+--------------------+\n",
      "only showing top 20 rows\n",
      "\n"
     ]
    }
   ],
   "source": [
    "AMZN.analysis.get_price_change(\"month\").show()"
   ]
  },
  {
   "cell_type": "code",
   "execution_count": 16,
   "id": "6c37b887",
   "metadata": {},
   "outputs": [
    {
     "name": "stdout",
     "output_type": "stream",
     "text": [
      "+----+------------------+------------------+--------------------+\n",
      "|Date|        Close_mean|         Open_mean|                diff|\n",
      "+----+------------------+------------------+--------------------+\n",
      "|2017| 71.98402421502954| 71.95430287516925|  0.0297213398602878|\n",
      "|2018|101.03398411967365|101.12235092831799|-0.08836680864433788|\n",
      "|2019|130.38202400813026|130.33904787093874| 0.04297613719151627|\n",
      "|2020| 190.8616180419922|190.76480678836674| 0.09681125362544662|\n",
      "+----+------------------+------------------+--------------------+\n",
      "\n"
     ]
    }
   ],
   "source": [
    "AMZN.analysis.get_price_change(\"year\").show()"
   ]
  },
  {
   "cell_type": "code",
   "execution_count": 18,
   "id": "c931b41c",
   "metadata": {},
   "outputs": [
    {
     "name": "stdout",
     "output_type": "stream",
     "text": [
      "+-------+------------------+\n",
      "|   Date|        Close_mean|\n",
      "+-------+------------------+\n",
      "|2017-01| 63.19199962615967|\n",
      "|2017-02| 64.11368440326892|\n",
      "|2017-03| 64.84130494490914|\n",
      "|2017-04| 66.17157946134868|\n",
      "|2017-05| 68.91727308793502|\n",
      "|2017-06|  70.5181815407493|\n",
      "|2017-07| 72.01050033569337|\n",
      "|2017-08| 72.81695755668308|\n",
      "|2017-09| 74.34450073242188|\n",
      "|2017-10| 77.93954571810636|\n",
      "|2017-11| 83.71761903308686|\n",
      "|2017-12|   84.758500289917|\n",
      "|2018-01| 90.07523781912667|\n",
      "|2018-02| 91.36789462440892|\n",
      "|2018-03| 92.89904748825799|\n",
      "|2018-04| 93.21476164318267|\n",
      "|2018-05| 96.98136381669478|\n",
      "|2018-06|100.56190454392205|\n",
      "|2018-07| 104.6385730561756|\n",
      "|2018-08|108.68434740149456|\n",
      "+-------+------------------+\n",
      "only showing top 20 rows\n",
      "\n"
     ]
    }
   ],
   "source": [
    "AMZN.analysis._compute_avg(AMZN.df, \"Close\", \"month\").show()"
   ]
  },
  {
   "cell_type": "code",
   "execution_count": 25,
   "id": "fc63e74b",
   "metadata": {},
   "outputs": [
    {
     "name": "stdout",
     "output_type": "stream",
     "text": [
      "+-------+------------------+------------------+--------------------+\n",
      "|   Date|        Close_mean|         Open_mean|                diff|\n",
      "+-------+------------------+------------------+--------------------+\n",
      "|2017-01| 63.19199962615967|63.185500144958496|0.006499481201174717|\n",
      "|2017-02| 64.11368440326892| 64.13473711515728|  -0.021052711888359|\n",
      "|2017-03| 64.84130494490914| 64.76434906669284| 0.07695587821629601|\n",
      "|2017-04| 66.17157946134868| 66.23894781815379|-0.06736835680510467|\n",
      "|2017-05| 68.91727308793502| 68.82818222045898| 0.08909086747603112|\n",
      "|2017-06|  70.5181815407493| 70.56181820956144|-0.04363666881214101|\n",
      "|2017-07| 72.01050033569337| 71.84349975585937| 0.16700057983399574|\n",
      "|2017-08| 72.81695755668308|  72.7156518023947| 0.10130575428837574|\n",
      "|2017-09| 74.34450073242188|  74.3654998779297|-0.02099914550781...|\n",
      "|2017-10| 77.93954571810636| 77.89318119395863| 0.04636452414773373|\n",
      "|2017-11| 83.71761903308686| 83.64523824055989| 0.07238079252697105|\n",
      "|2017-12|   84.758500289917| 84.83599967956543| -0.0774993896484375|\n",
      "|2018-01| 90.07523781912667| 89.96666681198846| 0.10857100713820955|\n",
      "|2018-02| 91.36789462440892| 91.43736829255757|-0.06947366814864608|\n",
      "|2018-03| 92.89904748825799| 93.23047601609002|-0.33142852783203125|\n",
      "|2018-04| 93.21476164318267| 93.53095318022228|-0.31619153703961445|\n",
      "|2018-05| 96.98136381669478| 96.63272718949752|  0.3486366271972656|\n",
      "|2018-06|100.56190454392205|100.66571517217727|-0.10381062825521781|\n",
      "|2018-07| 104.6385730561756|104.58571479434059|0.052858261835012854|\n",
      "|2018-08|108.68434740149456|108.45391281791355| 0.23043458358101532|\n",
      "+-------+------------------+------------------+--------------------+\n",
      "only showing top 20 rows\n",
      "\n"
     ]
    }
   ],
   "source": [
    "AMZN.analysis.get_daily_return(period=\"month\").show()"
   ]
  },
  {
   "cell_type": "code",
   "execution_count": 26,
   "id": "da840a88",
   "metadata": {},
   "outputs": [
    {
     "name": "stdout",
     "output_type": "stream",
     "text": [
      "+----------+------------------+------------------+--------------------+\n",
      "|      Date|        Close_mean|         Open_mean|                diff|\n",
      "+----------+------------------+------------------+--------------------+\n",
      "|2017-01-03| 62.58000183105469|62.790000915527344|-0.20999908447265625|\n",
      "|2017-01-04| 62.29999923706055| 62.47999954223633|-0.18000030517578125|\n",
      "|2017-01-05| 62.29999923706055|62.189998626708984|  0.1100006103515625|\n",
      "|2017-01-06| 62.84000015258789| 62.29999923706055|  0.5400009155273438|\n",
      "|2017-01-09| 62.63999938964844|  62.7599983215332|-0.11999893188476562|\n",
      "|2017-01-10|62.619998931884766| 62.72999954223633| -0.1100006103515625|\n",
      "|2017-01-11|63.189998626708984| 62.61000061035156|  0.5799980163574219|\n",
      "|2017-01-12| 62.61000061035156|63.060001373291016| -0.4500007629394531|\n",
      "|2017-01-13| 62.70000076293945|62.619998931884766|  0.0800018310546875|\n",
      "|2017-01-17|62.529998779296875| 62.68000030517578|-0.15000152587890625|\n",
      "|2017-01-18|              62.5| 62.66999816894531| -0.1699981689453125|\n",
      "|2017-01-19| 62.29999923706055|  62.2400016784668|    0.05999755859375|\n",
      "|2017-01-20|  62.7400016784668| 62.66999816894531| 0.07000350952148438|\n",
      "|2017-01-23|62.959999084472656| 62.70000076293945|  0.2599983215332031|\n",
      "|2017-01-24| 63.52000045776367| 63.20000076293945| 0.31999969482421875|\n",
      "|2017-01-25| 63.68000030517578| 63.95000076293945| -0.2700004577636719|\n",
      "|2017-01-26|  64.2699966430664| 64.12000274658203|   0.149993896484375|\n",
      "|2017-01-27| 65.77999877929688| 65.38999938964844|  0.3899993896484375|\n",
      "|2017-01-30| 65.12999725341797| 65.69000244140625| -0.5600051879882812|\n",
      "|2017-01-31|  64.6500015258789| 64.86000061035156|-0.20999908447265625|\n",
      "+----------+------------------+------------------+--------------------+\n",
      "only showing top 20 rows\n",
      "\n"
     ]
    }
   ],
   "source": [
    "AMZN.analysis.get_daily_return(period=\"day\").show()"
   ]
  },
  {
   "cell_type": "code",
   "execution_count": 23,
   "id": "e3ec14e7",
   "metadata": {},
   "outputs": [
    {
     "name": "stdout",
     "output_type": "stream",
     "text": [
      "+-------+------------------+------------------+--------------------+-------------------+\n",
      "|   Date|        Close_mean|         Open_mean|                diff|            daily_r|\n",
      "+-------+------------------+------------------+--------------------+-------------------+\n",
      "|2017-01| 63.19199962615967|63.185500144958496|0.006499481201174717|  4.220442338425141|\n",
      "|2017-02| 64.11368440326892| 64.13473711515728|  -0.021052711888359|-13.670592135298051|\n",
      "|2017-03| 64.84130494490914| 64.76434906669284| 0.07695587821629601|  49.97134949110131|\n",
      "|2017-04| 66.17157946134868| 66.23894781815379|-0.06736835680510467|-43.745686237080946|\n",
      "|2017-05| 68.91727308793502| 68.82818222045898| 0.08909086747603112| 57.851212646773455|\n",
      "|2017-06|  70.5181815407493| 70.56181820956144|-0.04363666881214101|-28.335499228662993|\n",
      "|2017-07| 72.01050033569337| 71.84349975585937| 0.16700057983399574| 108.44193495714009|\n",
      "|2017-08| 72.81695755668308|  72.7156518023947| 0.10130575428837574|  65.78295733011412|\n",
      "|2017-09| 74.34450073242188|  74.3654998779297|-0.02099914550781...|-13.635808771308664|\n",
      "|2017-10| 77.93954571810636| 77.89318119395863| 0.04636452414773373| 30.106833862164763|\n",
      "|2017-11| 83.71761903308686| 83.64523824055989| 0.07238079252697105|  47.00051462790328|\n",
      "|2017-12|   84.758500289917| 84.83599967956543| -0.0774993896484375| -50.32427899249188|\n",
      "|2018-01| 90.07523781912667| 89.96666681198846| 0.10857100713820955|  70.50065398585036|\n",
      "|2018-02| 91.36789462440892| 91.43736829255757|-0.06947366814864608| -45.11277152509486|\n",
      "|2018-03| 92.89904748825799| 93.23047601609002|-0.33142852783203125|-215.21332976105927|\n",
      "|2018-04| 93.21476164318267| 93.53095318022228|-0.31619153703961445|-205.31917989585352|\n",
      "|2018-05| 96.98136381669478| 96.63272718949752|  0.3486366271972656| 226.38742025796466|\n",
      "|2018-06|100.56190454392205|100.66571517217727|-0.10381062825521781| -67.40949886702455|\n",
      "|2018-07| 104.6385730561756|104.58571479434059|0.052858261835012854|  34.32354664611224|\n",
      "|2018-08|108.68434740149456|108.45391281791355| 0.23043458358101532| 149.63284648117877|\n",
      "+-------+------------------+------------------+--------------------+-------------------+\n",
      "only showing top 20 rows\n",
      "\n"
     ]
    }
   ],
   "source": [
    "AMZN.analysis.get_daily_return_rate(period=\"month\", start_price=15.4, nb_shares=100).show()"
   ]
  },
  {
   "cell_type": "code",
   "execution_count": 27,
   "id": "72444c49",
   "metadata": {},
   "outputs": [
    {
     "name": "stdout",
     "output_type": "stream",
     "text": [
      "+----+------------------+------------------+--------------------+------------------+\n",
      "|Date|        Close_mean|         Open_mean|                diff|           daily_r|\n",
      "+----+------------------+------------------+--------------------+------------------+\n",
      "|2017| 71.98402421502954| 71.95430287516925|  0.0297213398602878| 19.29957133784922|\n",
      "|2018|101.03398411967365|101.12235092831799|-0.08836680864433788|-57.38104457424538|\n",
      "|2019|130.38202400813026|130.33904787093874| 0.04297613719151627| 27.90658259189368|\n",
      "|2020| 190.8616180419922|190.76480678836674| 0.09681125362544662|62.864450406134175|\n",
      "+----+------------------+------------------+--------------------+------------------+\n",
      "\n"
     ]
    }
   ],
   "source": [
    "AMZN.analysis.get_daily_return_rate(period=\"year\", start_price=15.4, nb_shares=100).show()"
   ]
  },
  {
   "cell_type": "code",
   "execution_count": null,
   "id": "b23e28c1",
   "metadata": {},
   "outputs": [],
   "source": [
    "import glob\n",
    "\n",
    "glob.glob(\"stocks_data/*.csv\")"
   ]
  },
  {
   "cell_type": "code",
   "execution_count": 39,
   "id": "3d672c36",
   "metadata": {},
   "outputs": [],
   "source": [
    "from stocks import Stocks"
   ]
  },
  {
   "cell_type": "code",
   "execution_count": 40,
   "id": "55c9e5d2",
   "metadata": {},
   "outputs": [],
   "source": [
    "stocks = Stocks(schema=amzn_schema)"
   ]
  },
  {
   "cell_type": "code",
   "execution_count": 43,
   "id": "708bb24c",
   "metadata": {},
   "outputs": [
    {
     "data": {
      "text/plain": [
       "{'AMAZON': 196.64013671875,\n",
       " 'GOOGLE': 61.8299560546875,\n",
       " 'TESLA': 53.71002197265625,\n",
       " 'ZOOM': 34.470001220703125,\n",
       " 'FACEBOOK': 19.910003662109375,\n",
       " 'MICROSOFT': 11.330001831054688,\n",
       " 'APPLE': 5.540000915527344}"
      ]
     },
     "execution_count": 43,
     "metadata": {},
     "output_type": "execute_result"
    }
   ],
   "source": [
    "stocks.get_max_daily_return()"
   ]
  },
  {
   "cell_type": "code",
   "execution_count": null,
   "id": "80d292f3",
   "metadata": {},
   "outputs": [],
   "source": []
  },
  {
   "cell_type": "code",
   "execution_count": 102,
   "id": "17f3d648",
   "metadata": {},
   "outputs": [
    {
     "name": "stdout",
     "output_type": "stream",
     "text": [
      "+----------+\n",
      "|      Date|\n",
      "+----------+\n",
      "|2017-01-03|\n",
      "|2017-01-04|\n",
      "|2017-01-05|\n",
      "|2017-01-06|\n",
      "|2017-01-09|\n",
      "|2017-01-10|\n",
      "|2017-01-11|\n",
      "|2017-01-12|\n",
      "|2017-01-13|\n",
      "|2017-01-17|\n",
      "|2017-01-18|\n",
      "|2017-01-19|\n",
      "|2017-01-20|\n",
      "|2017-01-23|\n",
      "|2017-01-24|\n",
      "|2017-01-25|\n",
      "|2017-01-26|\n",
      "|2017-01-27|\n",
      "|2017-01-30|\n",
      "|2017-01-31|\n",
      "+----------+\n",
      "only showing top 20 rows\n",
      "\n"
     ]
    }
   ],
   "source": [
    "AMZN.df.select('Date').show()"
   ]
  },
  {
   "cell_type": "code",
   "execution_count": null,
   "id": "bcd677a2",
   "metadata": {},
   "outputs": [],
   "source": []
  }
 ],
 "metadata": {
  "kernelspec": {
   "display_name": "Python 3 (ipykernel)",
   "language": "python",
   "name": "python3"
  },
  "language_info": {
   "codemirror_mode": {
    "name": "ipython",
    "version": 3
   },
   "file_extension": ".py",
   "mimetype": "text/x-python",
   "name": "python",
   "nbconvert_exporter": "python",
   "pygments_lexer": "ipython3",
   "version": "3.9.12"
  },
  "nbTranslate": {
   "displayLangs": [
    "*"
   ],
   "hotkey": "alt-t",
   "langInMainMenu": true,
   "sourceLang": "en",
   "targetLang": "fr",
   "useGoogleTranslate": true
  },
  "toc": {
   "base_numbering": 1,
   "nav_menu": {},
   "number_sections": true,
   "sideBar": true,
   "skip_h1_title": false,
   "title_cell": "Table of Contents",
   "title_sidebar": "Contents",
   "toc_cell": true,
   "toc_position": {},
   "toc_section_display": true,
   "toc_window_display": false
  },
  "varInspector": {
   "cols": {
    "lenName": 16,
    "lenType": 16,
    "lenVar": 40
   },
   "kernels_config": {
    "python": {
     "delete_cmd_postfix": "",
     "delete_cmd_prefix": "del ",
     "library": "var_list.py",
     "varRefreshCmd": "print(var_dic_list())"
    },
    "r": {
     "delete_cmd_postfix": ") ",
     "delete_cmd_prefix": "rm(",
     "library": "var_list.r",
     "varRefreshCmd": "cat(var_dic_list()) "
    }
   },
   "types_to_exclude": [
    "module",
    "function",
    "builtin_function_or_method",
    "instance",
    "_Feature"
   ],
   "window_display": false
  }
 },
 "nbformat": 4,
 "nbformat_minor": 5
}
