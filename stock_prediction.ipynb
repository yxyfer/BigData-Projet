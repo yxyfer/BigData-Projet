{
 "cells": [
  {
   "cell_type": "markdown",
   "id": "f7c0dd51",
   "metadata": {
    "toc": true
   },
   "source": [
    "<h1>Table of Contents<span class=\"tocSkip\"></span></h1>\n",
    "<div class=\"toc\"><ul class=\"toc-item\"><li><span><a href=\"#Loading-the-stocks\" data-toc-modified-id=\"Loading-the-stocks-1\"><span class=\"toc-item-num\">1&nbsp;&nbsp;</span>Loading the stocks</a></span></li><li><span><a href=\"#Getting-the-AI-started\" data-toc-modified-id=\"Getting-the-AI-started-2\"><span class=\"toc-item-num\">2&nbsp;&nbsp;</span>Getting the AI started</a></span><ul class=\"toc-item\"><li><span><a href=\"#Regression\" data-toc-modified-id=\"Regression-2.1\"><span class=\"toc-item-num\">2.1&nbsp;&nbsp;</span>Regression</a></span></li></ul></li></ul></div>"
   ]
  },
  {
   "cell_type": "markdown",
   "id": "8af81713",
   "metadata": {},
   "source": [
    "# AI Part"
   ]
  },
  {
   "cell_type": "code",
   "execution_count": 1,
   "id": "23078fde",
   "metadata": {},
   "outputs": [],
   "source": [
    "# cell for autoreload includes\n",
    "%load_ext autoreload\n",
    "%autoreload 2"
   ]
  },
  {
   "cell_type": "markdown",
   "id": "6b639dd8",
   "metadata": {},
   "source": [
    "## Loading the stocks"
   ]
  },
  {
   "cell_type": "code",
   "execution_count": 1,
   "id": "66edb966",
   "metadata": {},
   "outputs": [
    {
     "name": "stderr",
     "output_type": "stream",
     "text": [
      "22/06/14 12:18:17 WARN Utils: Your hostname, Mathieus-MacBook-Pro.local resolves to a loopback address: 127.0.0.1; using 172.27.99.57 instead (on interface feth4588)\n",
      "22/06/14 12:18:17 WARN Utils: Set SPARK_LOCAL_IP if you need to bind to another address\n",
      "WARNING: An illegal reflective access operation has occurred\n",
      "WARNING: Illegal reflective access by org.apache.spark.unsafe.Platform (file:/usr/local/Cellar/apache-spark/3.2.1/SPARK/jars/spark-unsafe_2.12-3.2.1.jar) to constructor java.nio.DirectByteBuffer(long,int)\n",
      "WARNING: Please consider reporting this to the maintainers of org.apache.spark.unsafe.Platform\n",
      "WARNING: Use --illegal-access=warn to enable warnings of further illegal reflective access operations\n",
      "WARNING: All illegal access operations will be denied in a future release\n",
      "Using Spark's default log4j profile: org/apache/spark/log4j-defaults.properties\n",
      "Setting default log level to \"WARN\".\n",
      "To adjust logging level use sc.setLogLevel(newLevel). For SparkR, use setLogLevel(newLevel).\n",
      "22/06/14 12:18:17 WARN NativeCodeLoader: Unable to load native-hadoop library for your platform... using builtin-java classes where applicable\n",
      "22/06/14 12:18:18 WARN Utils: Service 'SparkUI' could not bind on port 4040. Attempting port 4041.\n"
     ]
    }
   ],
   "source": [
    "from src.stocks import Stocks\n",
    "# The warnings are due to the includes in the file"
   ]
  },
  {
   "cell_type": "code",
   "execution_count": 2,
   "id": "d4f75c51",
   "metadata": {},
   "outputs": [],
   "source": [
    "from pyspark.sql.types import DoubleType, StringType, DateType, StructType, StructField"
   ]
  },
  {
   "cell_type": "code",
   "execution_count": 3,
   "id": "69bb9f8c",
   "metadata": {},
   "outputs": [],
   "source": [
    "data_schema = StructType([\n",
    "    StructField('Date', DateType(), True),\n",
    "    StructField('High', DoubleType(), True),\n",
    "    StructField('Low', DoubleType(), True),\n",
    "    StructField('Open', DoubleType(), True),\n",
    "    StructField('Close', DoubleType(), True),\n",
    "    StructField('Volume', DoubleType(), True),\n",
    "    StructField('Adj Close', DoubleType(), True),\n",
    "    StructField('company_name', StringType(), True)\n",
    "])"
   ]
  },
  {
   "cell_type": "code",
   "execution_count": 4,
   "id": "9fe45bad",
   "metadata": {},
   "outputs": [],
   "source": [
    "stocks = Stocks(header=True, delimiter=',', schema=data_schema)"
   ]
  },
  {
   "cell_type": "code",
   "execution_count": 10,
   "id": "87aafd38",
   "metadata": {},
   "outputs": [],
   "source": [
    "df = stocks.stocks[0].df"
   ]
  },
  {
   "cell_type": "markdown",
   "id": "7f6513a3",
   "metadata": {},
   "source": [
    "## Getting the AI started"
   ]
  },
  {
   "cell_type": "code",
   "execution_count": 15,
   "id": "7b4b090b",
   "metadata": {},
   "outputs": [
    {
     "data": {
      "text/plain": [
       "pyspark.sql.dataframe.DataFrame"
      ]
     },
     "execution_count": 15,
     "metadata": {},
     "output_type": "execute_result"
    }
   ],
   "source": [
    "type(df)"
   ]
  },
  {
   "cell_type": "code",
   "execution_count": 19,
   "id": "87d34a60",
   "metadata": {},
   "outputs": [
    {
     "data": {
      "text/plain": [
       "DataFrame[Date: date, High: double, Low: double, Open: double, Close: double, Volume: double, Adj Close: double, company_name: string]"
      ]
     },
     "metadata": {},
     "output_type": "display_data"
    }
   ],
   "source": [
    "display(df)"
   ]
  },
  {
   "cell_type": "code",
   "execution_count": 18,
   "id": "2cae7e85",
   "metadata": {},
   "outputs": [
    {
     "name": "stdout",
     "output_type": "stream",
     "text": [
      "+----------+-----------------+-----------------+-----------------+-----------------+---------+-----------------+------------+\n",
      "|      Date|             High|              Low|             Open|            Close|   Volume|        Adj Close|company_name|\n",
      "+----------+-----------------+-----------------+-----------------+-----------------+---------+-----------------+------------+\n",
      "|2017-01-03|789.6300048828125|775.7999877929688|778.8099975585938|786.1400146484375|1657300.0|786.1400146484375|      GOOGLE|\n",
      "|2017-01-04|791.3400268554688|783.1599731445312|788.3599853515625|786.9000244140625|1073000.0|786.9000244140625|      GOOGLE|\n",
      "|2017-01-05|  794.47998046875|  785.02001953125|786.0800170898438|  794.02001953125|1335200.0|  794.02001953125|      GOOGLE|\n",
      "|2017-01-06|807.9000244140625|792.2039794921875| 795.260009765625|806.1500244140625|1640200.0|806.1500244140625|      GOOGLE|\n",
      "|2017-01-09|809.9660034179688|802.8300170898438|806.4000244140625|806.6500244140625|1274600.0|806.6500244140625|      GOOGLE|\n",
      "|2017-01-10|809.1300048828125| 803.510009765625|807.8599853515625|804.7899780273438|1176800.0|804.7899780273438|      GOOGLE|\n",
      "|2017-01-11|808.1500244140625|801.3699951171875|            805.0|807.9099731445312|1065900.0|807.9099731445312|      GOOGLE|\n",
      "|2017-01-12|807.3900146484375|799.1699829101562|807.1400146484375|806.3599853515625|1353100.0|806.3599853515625|      GOOGLE|\n",
      "|2017-01-13|811.2239990234375|806.6900024414062|  807.47998046875|807.8800048828125|1099200.0|807.8800048828125|      GOOGLE|\n",
      "|2017-01-17|807.1400146484375|800.3699951171875|807.0800170898438|804.6099853515625|1362100.0|804.6099853515625|      GOOGLE|\n",
      "|2017-01-18|806.2050170898438| 800.989990234375|805.8099975585938|806.0700073242188|1294400.0|806.0700073242188|      GOOGLE|\n",
      "|2017-01-19|  809.47998046875|801.7999877929688|805.1199951171875|802.1749877929688| 919300.0|802.1749877929688|      GOOGLE|\n",
      "|2017-01-20|806.9099731445312|801.6900024414062|806.9099731445312|  805.02001953125|1670000.0|  805.02001953125|      GOOGLE|\n",
      "|2017-01-23|820.8699951171875| 803.739990234375|           807.25|819.3099975585938|1963600.0|819.3099975585938|      GOOGLE|\n",
      "|2017-01-24|825.9000244140625|817.8209838867188|822.2999877929688|823.8699951171875|1474000.0|823.8699951171875|      GOOGLE|\n",
      "|2017-01-25|  835.77001953125|825.0599975585938|829.6199951171875|835.6699829101562|1494500.0|835.6699829101562|      GOOGLE|\n",
      "|2017-01-26|            838.0| 827.010009765625|837.8099975585938|832.1500244140625|2973900.0|832.1500244140625|      GOOGLE|\n",
      "|2017-01-27|841.9500122070312|820.4400024414062|834.7100219726562|823.3099975585938|2965800.0|823.3099975585938|      GOOGLE|\n",
      "|2017-01-30|815.8400268554688|799.7999877929688|814.6599731445312|802.3200073242188|3246600.0|802.3200073242188|      GOOGLE|\n",
      "|2017-01-31|           801.25|  790.52001953125|796.8599853515625|796.7899780273438|2160600.0|796.7899780273438|      GOOGLE|\n",
      "+----------+-----------------+-----------------+-----------------+-----------------+---------+-----------------+------------+\n",
      "only showing top 20 rows\n",
      "\n"
     ]
    }
   ],
   "source": [
    "df.show()"
   ]
  },
  {
   "cell_type": "markdown",
   "id": "51529e06",
   "metadata": {},
   "source": [
    "### Regression"
   ]
  },
  {
   "cell_type": "code",
   "execution_count": 26,
   "id": "cdd9345b",
   "metadata": {},
   "outputs": [
    {
     "name": "stdout",
     "output_type": "stream",
     "text": [
      "There are 828 rows in the training set, and 159 in the test set\n"
     ]
    },
    {
     "name": "stderr",
     "output_type": "stream",
     "text": [
      "22/06/14 12:33:46 WARN CacheManager: Asked to cache already cached data.\n",
      "22/06/14 12:33:46 WARN CacheManager: Asked to cache already cached data.\n"
     ]
    }
   ],
   "source": [
    "trainDF, testDF = df.randomSplit([.8, .2], seed=42)\n",
    "print(f\"There are {trainDF.cache().count()} rows in the training set, and {testDF.cache().count()} in the test set\")"
   ]
  },
  {
   "cell_type": "code",
   "execution_count": 29,
   "id": "eb3007ed",
   "metadata": {},
   "outputs": [
    {
     "name": "stderr",
     "output_type": "stream",
     "text": [
      "22/06/14 12:34:59 WARN CacheManager: Asked to cache already cached data.\n",
      "22/06/14 12:34:59 WARN CacheManager: Asked to cache already cached data.\n"
     ]
    },
    {
     "name": "stdout",
     "output_type": "stream",
     "text": [
      "There are 784 rows in the training set, and 203 in the test set\n"
     ]
    }
   ],
   "source": [
    "(trainRepartitionDF, testRepartitionDF) = (df\n",
    "                                           .repartition(24)\n",
    "                                           .randomSplit([.8, .2], seed=42))\n",
    "print(f\"There are {trainRepartitionDF.cache().count()} rows in the training set, and {testRepartitionDF.cache().count()} in the test set\")"
   ]
  },
  {
   "cell_type": "code",
   "execution_count": 34,
   "id": "56701269",
   "metadata": {},
   "outputs": [
    {
     "name": "stdout",
     "output_type": "stream",
     "text": [
      "+-------+------------------+------------------+\n",
      "|summary|            Volume|             Close|\n",
      "+-------+------------------+------------------+\n",
      "|  count|               828|               828|\n",
      "|   mean|1629075.5084541063|1164.7888630300329|\n",
      "| stddev| 706348.5354362321|215.30362136420584|\n",
      "|    min|          285821.0| 786.1400146484375|\n",
      "|    25%|         1193500.0|            1025.5|\n",
      "|    50%|         1446500.0| 1132.800048828125|\n",
      "|    75%|         1843400.0| 1263.699951171875|\n",
      "|    max|         5167700.0|1807.1199951171875|\n",
      "+-------+------------------+------------------+\n",
      "\n"
     ]
    }
   ],
   "source": [
    "(trainDF.select(\"Volume\", \"Close\").summary()).show()"
   ]
  },
  {
   "cell_type": "code",
   "execution_count": 59,
   "id": "de9fa882",
   "metadata": {},
   "outputs": [
    {
     "name": "stdout",
     "output_type": "stream",
     "text": [
      "+--------------------+-----------------+\n",
      "|            features|            Close|\n",
      "+--------------------+-----------------+\n",
      "|[1657300.0,778.80...|786.1400146484375|\n",
      "|[1073000.0,788.35...|786.9000244140625|\n",
      "|[1640200.0,795.26...|806.1500244140625|\n",
      "|[1274600.0,806.40...|806.6500244140625|\n",
      "|[1176800.0,807.85...|804.7899780273438|\n",
      "|[1353100.0,807.14...|806.3599853515625|\n",
      "|[1362100.0,807.08...|804.6099853515625|\n",
      "|[1294400.0,805.80...|806.0700073242188|\n",
      "|[919300.0,805.119...|802.1749877929688|\n",
      "|[1670000.0,806.90...|  805.02001953125|\n",
      "+--------------------+-----------------+\n",
      "only showing top 10 rows\n",
      "\n"
     ]
    }
   ],
   "source": [
    "from pyspark.ml.feature import VectorAssembler\n",
    "\n",
    "\n",
    "# C'est faux ! Mais on fait ça pour avoir une idée de ce que l'on peut faire!\n",
    "vecAssembler = VectorAssembler(inputCols=[\"Volume\", \"Open\"], outputCol=\"features\")\n",
    "\n",
    "vecTrainDF = vecAssembler.transform(trainDF)\n",
    "\n",
    "vecTrainDF.select(\"features\", \"Close\").show(10)"
   ]
  },
  {
   "cell_type": "code",
   "execution_count": 60,
   "id": "4b199250",
   "metadata": {},
   "outputs": [],
   "source": [
    "from pyspark.ml.regression import LinearRegression\n",
    "\n",
    "lr = LinearRegression(featuresCol=\"features\", labelCol=\"Close\")\n",
    "#lrModel = lr.fit(vecTrainDF)"
   ]
  },
  {
   "cell_type": "code",
   "execution_count": 62,
   "id": "473e622a",
   "metadata": {},
   "outputs": [
    {
     "name": "stderr",
     "output_type": "stream",
     "text": [
      "22/06/14 12:52:18 WARN Instrumentation: [65402247] regParam is zero, which might cause numerical instability and overfitting.\n"
     ]
    }
   ],
   "source": [
    "from pyspark.ml import Pipeline\n",
    "\n",
    "pipeline = Pipeline(stages=[vecAssembler, lr])\n",
    "pipelineModel = pipeline.fit(trainDF)"
   ]
  },
  {
   "cell_type": "code",
   "execution_count": 63,
   "id": "c54f4a93",
   "metadata": {},
   "outputs": [
    {
     "name": "stdout",
     "output_type": "stream",
     "text": [
      "+-----------------+-----------------+\n",
      "|            Close|       prediction|\n",
      "+-----------------+-----------------+\n",
      "|  794.02001953125| 788.046447971487|\n",
      "|807.9099731445312|807.5158913894134|\n",
      "|807.8800048828125|809.9208106445692|\n",
      "|819.3099975585938|807.8378142630181|\n",
      "|796.7899780273438|797.0407586626543|\n",
      "|801.3400268554688|801.9694418669648|\n",
      "|820.4500122070312|821.5192276807949|\n",
      "|831.3300170898438|831.7263528499154|\n",
      "|838.6799926757812|838.0507203871839|\n",
      "|           843.25|844.3712353335196|\n",
      "+-----------------+-----------------+\n",
      "only showing top 10 rows\n",
      "\n"
     ]
    }
   ],
   "source": [
    "predDF = pipelineModel.transform(testDF)\n",
    "\n",
    "predDF.select(\"Close\", \"prediction\").show(10)"
   ]
  },
  {
   "cell_type": "markdown",
   "id": "d848ec43",
   "metadata": {},
   "source": [
    "Series temporelles."
   ]
  },
  {
   "cell_type": "markdown",
   "id": "6f3b9c89",
   "metadata": {},
   "source": [
    "regression"
   ]
  }
 ],
 "metadata": {
  "kernelspec": {
   "display_name": "Python 3 (ipykernel)",
   "language": "python",
   "name": "python3"
  },
  "language_info": {
   "codemirror_mode": {
    "name": "ipython",
    "version": 3
   },
   "file_extension": ".py",
   "mimetype": "text/x-python",
   "name": "python",
   "nbconvert_exporter": "python",
   "pygments_lexer": "ipython3",
   "version": "3.9.12"
  },
  "nbTranslate": {
   "displayLangs": [
    "*"
   ],
   "hotkey": "alt-t",
   "langInMainMenu": true,
   "sourceLang": "en",
   "targetLang": "fr",
   "useGoogleTranslate": true
  },
  "toc": {
   "base_numbering": 1,
   "nav_menu": {},
   "number_sections": true,
   "sideBar": true,
   "skip_h1_title": true,
   "title_cell": "Table of Contents",
   "title_sidebar": "Contents",
   "toc_cell": true,
   "toc_position": {},
   "toc_section_display": true,
   "toc_window_display": false
  },
  "varInspector": {
   "cols": {
    "lenName": 16,
    "lenType": 16,
    "lenVar": 40
   },
   "kernels_config": {
    "python": {
     "delete_cmd_postfix": "",
     "delete_cmd_prefix": "del ",
     "library": "var_list.py",
     "varRefreshCmd": "print(var_dic_list())"
    },
    "r": {
     "delete_cmd_postfix": ") ",
     "delete_cmd_prefix": "rm(",
     "library": "var_list.r",
     "varRefreshCmd": "cat(var_dic_list()) "
    }
   },
   "types_to_exclude": [
    "module",
    "function",
    "builtin_function_or_method",
    "instance",
    "_Feature"
   ],
   "window_display": false
  }
 },
 "nbformat": 4,
 "nbformat_minor": 5
}
