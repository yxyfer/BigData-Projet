{
 "cells": [
  {
   "cell_type": "markdown",
   "id": "f7c0dd51",
   "metadata": {
    "toc": true
   },
   "source": [
    "<h1>Table of Contents<span class=\"tocSkip\"></span></h1>\n",
    "<div class=\"toc\"><ul class=\"toc-item\"><li><span><a href=\"#Loading-the-stocks\" data-toc-modified-id=\"Loading-the-stocks-1\"><span class=\"toc-item-num\">1&nbsp;&nbsp;</span>Loading the stocks</a></span></li><li><span><a href=\"#Getting-the-AI-started\" data-toc-modified-id=\"Getting-the-AI-started-2\"><span class=\"toc-item-num\">2&nbsp;&nbsp;</span>Getting the AI started</a></span><ul class=\"toc-item\"><li><span><a href=\"#Regression\" data-toc-modified-id=\"Regression-2.1\"><span class=\"toc-item-num\">2.1&nbsp;&nbsp;</span>Regression</a></span></li></ul></li></ul></div>"
   ]
  },
  {
   "cell_type": "markdown",
   "id": "8af81713",
   "metadata": {},
   "source": [
    "# AI Part"
   ]
  },
  {
   "cell_type": "code",
   "execution_count": 39,
   "id": "23078fde",
   "metadata": {},
   "outputs": [
    {
     "name": "stdout",
     "output_type": "stream",
     "text": [
      "The autoreload extension is already loaded. To reload it, use:\n",
      "  %reload_ext autoreload\n"
     ]
    }
   ],
   "source": [
    "# cell for autoreload includes\n",
    "%load_ext autoreload\n",
    "%autoreload 2"
   ]
  },
  {
   "cell_type": "markdown",
   "id": "6b639dd8",
   "metadata": {},
   "source": [
    "## Loading the stocks"
   ]
  },
  {
   "cell_type": "code",
   "execution_count": 40,
   "id": "66edb966",
   "metadata": {},
   "outputs": [],
   "source": [
    "from src.stocks import Stocks\n",
    "# The warnings are due to the includes in the file"
   ]
  },
  {
   "cell_type": "code",
   "execution_count": 41,
   "id": "d4f75c51",
   "metadata": {},
   "outputs": [],
   "source": [
    "from pyspark.sql.types import DoubleType, StringType, DateType, StructType, StructField"
   ]
  },
  {
   "cell_type": "code",
   "execution_count": 42,
   "id": "69bb9f8c",
   "metadata": {},
   "outputs": [],
   "source": [
    "data_schema = StructType([\n",
    "    StructField('Date', DateType(), True),\n",
    "    StructField('High', DoubleType(), True),\n",
    "    StructField('Low', DoubleType(), True),\n",
    "    StructField('Open', DoubleType(), True),\n",
    "    StructField('Close', DoubleType(), True),\n",
    "    StructField('Volume', DoubleType(), True),\n",
    "    StructField('Adj Close', DoubleType(), True),\n",
    "    StructField('company_name', StringType(), True)\n",
    "])"
   ]
  },
  {
   "cell_type": "code",
   "execution_count": 43,
   "id": "9fe45bad",
   "metadata": {},
   "outputs": [],
   "source": [
    "stocks = Stocks(header=True, delimiter=',', schema=data_schema)"
   ]
  },
  {
   "cell_type": "code",
   "execution_count": 44,
   "id": "87aafd38",
   "metadata": {},
   "outputs": [],
   "source": [
    "stock = stocks.stocks[0]"
   ]
  },
  {
   "cell_type": "code",
   "execution_count": 90,
   "id": "2836af6d",
   "metadata": {},
   "outputs": [],
   "source": [
    "stock.predict.load_insights()"
   ]
  },
  {
   "cell_type": "code",
   "execution_count": 91,
   "id": "76d473a8",
   "metadata": {},
   "outputs": [],
   "source": [
    "df = stock.predict.predDF"
   ]
  },
  {
   "cell_type": "markdown",
   "id": "7f6513a3",
   "metadata": {},
   "source": [
    "## Getting the AI started"
   ]
  },
  {
   "cell_type": "code",
   "execution_count": 93,
   "id": "2cae7e85",
   "metadata": {},
   "outputs": [
    {
     "name": "stderr",
     "output_type": "stream",
     "text": [
      "22/06/14 23:19:54 WARN WindowExec: No Partition Defined for Window operation! Moving all data to a single partition, this can cause serious performance degradation.\n",
      "22/06/14 23:19:54 WARN WindowExec: No Partition Defined for Window operation! Moving all data to a single partition, this can cause serious performance degradation.\n"
     ]
    },
    {
     "name": "stdout",
     "output_type": "stream",
     "text": [
      "+----------+------------------+------------------+------------------+------------------+----------+------------------+------------------+------------------+------------------+-------------------+-----------------+--------------------+--------------------+\n",
      "|      Date|              High|               Low|              Open|             Close|    Volume|         Adj Close|        next_Close|               CCI|               roc|           momentum|    R_de_williams|moving_average_Close|    daily_return_day|\n",
      "+----------+------------------+------------------+------------------+------------------+----------+------------------+------------------+------------------+------------------+-------------------+-----------------+--------------------+--------------------+\n",
      "|2017-01-04|29.127500534057617|           28.9375|28.962499618530273|  29.0049991607666| 8.44724E7|27.247108459472656| 29.15250015258789|133.33333333333334|0.9988807156168351| -0.032501220703125|71.99968610491072|  29.021249771118164|0.042499542236328125|\n",
      "|2017-01-05| 29.21500015258789|28.952499389648438|28.979999542236328| 29.15250015258789| 8.87744E7| 27.38566780090332|29.477500915527344|132.17410341847776|1.0039603881052912|0.11499977111816406|88.09522944512463|   29.06499989827474|  0.1725006103515625|\n",
      "|2017-01-06|29.540000915527344| 29.11750030517578| 29.19499969482422|29.477500915527344|1.270076E8| 27.69097137451172|29.747499465942383|180.37316138436918|1.0151528378227213| 0.4400005340576172|92.64706212343906|   29.16812515258789|   0.282501220703125|\n",
      "|2017-01-09|29.857500076293945|29.485000610351562|29.487499237060547|29.747499465942383|1.342476E8|27.944602966308594| 29.77750015258789|  180.852747700827| 1.024451108915895| 0.7099990844726562|90.57810248551722|  29.345624923706055| 0.26000022888183594|\n",
      "|2017-01-10|29.844999313354492|29.575000762939453|  29.6924991607666| 29.77750015258789| 9.78484E7| 27.97278594970703|           29.9375|130.95237387501984|1.0254842793421157| 0.7399997711181641| 93.1477554541207|  29.538750171661377| 0.08500099182128906|\n",
      "|2017-01-11|29.982500076293945|29.649999618530273|29.684999465942383|           29.9375|1.103544E8|28.123088836669922|           29.8125|124.42113291224346|1.0309943902438865| 0.8999996185302734|96.51836810587301|  29.735000133514404|  0.2525005340576172|\n",
      "|2017-01-12|29.825000762939453|29.552499771118164|29.725000381469727|           29.8125|1.083448E8|28.005664825439453|29.760000228881836| 77.47421612469795|1.0266896119965216| 0.7749996185302734|86.84718479669206|   29.81874990463257| 0.08749961853027344|\n",
      "|2017-01-13|29.905000686645508|29.702499389648438| 29.77750015258789|29.760000228881836|1.044476E8|27.956350326538086|              30.0|  80.4352321875747|1.0248816130149128| 0.7224998474121094|82.78530551530159|  29.806999969482423|-0.01749992370605...|\n",
      "|2017-01-17|30.059999465942383| 29.55500030517578|29.584999084472656|              30.0|1.377592E8|28.181800842285156|29.997499465942383| 87.99233753300759|1.0290712577986858| 0.8474998474121094|95.62047352403123|  29.857500076293945| 0.41500091552734375|\n",
      "|2017-01-18|            30.125|29.927499771118164|              30.0|29.997499465942383|  9.4852E7| 28.17945671081543| 29.94499969482422| 84.71617783836723| 1.017640523594764| 0.5199985504150391|89.26311292146382|  29.919166564941406|-0.00250053405761...|\n",
      "|2017-01-19|30.022499084472656|29.842500686645508|29.850000381469727| 29.94499969482422|1.023892E8|  28.1301326751709|              30.0| 45.45988119924601|1.0066392211926234|0.19750022888183594|84.64816959695996|  29.980833053588867| 0.09499931335449219|\n",
      "|2017-01-20|30.112499237060547|  29.9325008392334|30.112499237060547|              30.0|1.303916E8|28.181800842285156|30.020000457763672| 41.33129785288547|1.0084881263498031| 0.2525005340576172|87.59304835106585|   29.98562479019165|-0.11249923706054688|\n",
      "|2017-01-23|30.202499389648438|  29.9424991607666|              30.0|30.020000457763672| 8.82008E7|28.200590133666992| 29.99250030517578| 36.83574593879377|1.0027557564179932|0.08250045776367188|74.56456552252138|   29.99062490463257|0.020000457763671875|\n",
      "|2017-01-24|30.024999618530273|            29.875|29.887500762939453| 29.99250030517578|  9.2844E7| 28.17475700378418|30.469999313354492|15.249496509415394|1.0060377460855607|0.18000030517578125|67.69242958211433|  29.989375114440918| 0.10499954223632812|\n",
      "|2017-01-25|30.524999618530273| 30.06999969482422|30.104999542236328|30.469999313354492|1.295104E8|28.623313903808594|30.485000610351562| 90.31387578623224|1.0238574959345466| 0.7099990844726562|94.34444073979643|  30.120625019073486| 0.36499977111816406|\n",
      "|2017-01-26|30.610000610351562|30.399999618530273|30.417499542236328|30.485000610351562|1.053504E8|28.637407302856445|30.487499237060547|108.05060809141615|1.0161666870117188| 0.4850006103515625|88.17967841135571|  30.241875171661377| 0.06750106811523438|\n",
      "|2017-01-27|30.587499618530273|30.399999618530273| 30.53499984741211|30.487499237060547| 8.22516E7|28.639755249023438|30.407499313354492| 86.41619969611088|1.0162499745686848| 0.4874992370605469|88.38849878146672|  30.290999984741212| -0.0475006103515625|\n",
      "|2017-01-30|30.407499313354492|30.165000915527344|30.232500076293945|30.407499313354492|  1.2151E8|28.564605712890625|30.337499618530273|40.134896871889865|1.0136678008071174| 0.4099998474121094|80.80556981797933|  30.462499618530273| 0.17499923706054688|\n",
      "|2017-01-31| 30.34749984741211|30.155000686645508|30.287500381469727|30.337499618530273| 1.96804E8|28.498844146728516|           32.1875|28.215875869173093| 1.013107361085527| 0.3924999237060547|74.17052957383878|   30.42937469482422|0.049999237060546875|\n",
      "|2017-02-01|32.622501373291016|31.752500534057617| 31.75749969482422|           32.1875|  4.4794E8|30.236719131469727| 32.13249969482422| 298.5595988849619|1.0729166666666667|             2.1875|84.35247245151184|  30.854999542236328| 0.43000030517578125|\n",
      "+----------+------------------+------------------+------------------+------------------+----------+------------------+------------------+------------------+------------------+-------------------+-----------------+--------------------+--------------------+\n",
      "only showing top 20 rows\n",
      "\n"
     ]
    }
   ],
   "source": [
    "df.show()"
   ]
  },
  {
   "cell_type": "markdown",
   "id": "51529e06",
   "metadata": {},
   "source": [
    "### Regression"
   ]
  },
  {
   "cell_type": "code",
   "execution_count": 10,
   "id": "cdd9345b",
   "metadata": {},
   "outputs": [
    {
     "name": "stdout",
     "output_type": "stream",
     "text": [
      "There are 828 rows in the training set, and 159 in the test set\n"
     ]
    }
   ],
   "source": [
    "trainDF, testDF = df.randomSplit([.8, .2], seed=42)\n",
    "print(f\"There are {trainDF.cache().count()} rows in the training set, and {testDF.cache().count()} in the test set\")"
   ]
  },
  {
   "cell_type": "code",
   "execution_count": 11,
   "id": "eb3007ed",
   "metadata": {},
   "outputs": [
    {
     "name": "stderr",
     "output_type": "stream",
     "text": [
      "[Stage 13:==============================================>         (20 + 1) / 24]\r"
     ]
    },
    {
     "name": "stdout",
     "output_type": "stream",
     "text": [
      "There are 784 rows in the training set, and 203 in the test set\n"
     ]
    },
    {
     "name": "stderr",
     "output_type": "stream",
     "text": [
      "\r",
      "                                                                                \r"
     ]
    }
   ],
   "source": [
    "(trainRepartitionDF, testRepartitionDF) = (df\n",
    "                                           .repartition(24)\n",
    "                                           .randomSplit([.8, .2], seed=42))\n",
    "print(f\"There are {trainRepartitionDF.cache().count()} rows in the training set, and {testRepartitionDF.cache().count()} in the test set\")"
   ]
  },
  {
   "cell_type": "code",
   "execution_count": 12,
   "id": "56701269",
   "metadata": {},
   "outputs": [
    {
     "name": "stdout",
     "output_type": "stream",
     "text": [
      "+-------+--------------------+------------------+\n",
      "|summary|              Volume|             Close|\n",
      "+-------+--------------------+------------------+\n",
      "|  count|                 828|               828|\n",
      "|   mean|1.2550357079589371E8| 56.78291882869702|\n",
      "| stddev| 5.841617752747542E7|23.539322423050674|\n",
      "|    min|           2.01978E7|  29.0049991607666|\n",
      "|    25%|           8.72472E7|41.084999084472656|\n",
      "|    50%|          1.105776E8| 47.83250045776367|\n",
      "|    75%|          1.463228E8| 65.48999786376953|\n",
      "|    max|            4.4794E8|134.17999267578125|\n",
      "+-------+--------------------+------------------+\n",
      "\n"
     ]
    }
   ],
   "source": [
    "(trainDF.select(\"Volume\", \"Close\").summary()).show()"
   ]
  },
  {
   "cell_type": "code",
   "execution_count": 13,
   "id": "de9fa882",
   "metadata": {},
   "outputs": [
    {
     "name": "stdout",
     "output_type": "stream",
     "text": [
      "+--------------------+------------------+\n",
      "|            features|             Close|\n",
      "+--------------------+------------------+\n",
      "|[1.151276E8,28.95...|29.037500381469727|\n",
      "|[8.44724E7,28.962...|  29.0049991607666|\n",
      "|[1.270076E8,29.19...|29.477500915527344|\n",
      "|[1.342476E8,29.48...|29.747499465942383|\n",
      "|[9.78484E7,29.692...| 29.77750015258789|\n",
      "|[1.083448E8,29.72...|           29.8125|\n",
      "|[1.377592E8,29.58...|              30.0|\n",
      "|     [9.4852E7,30.0]|29.997499465942383|\n",
      "|[1.023892E8,29.85...| 29.94499969482422|\n",
      "|[1.303916E8,30.11...|              30.0|\n",
      "+--------------------+------------------+\n",
      "only showing top 10 rows\n",
      "\n"
     ]
    }
   ],
   "source": [
    "from pyspark.ml.feature import VectorAssembler\n",
    "\n",
    "\n",
    "# C'est faux ! Mais on fait ça pour avoir une idée de ce que l'on peut faire!\n",
    "vecAssembler = VectorAssembler(inputCols=[\"Volume\", \"Open\"], outputCol=\"features\")\n",
    "\n",
    "vecTrainDF = vecAssembler.transform(trainDF)\n",
    "\n",
    "vecTrainDF.select(\"features\", \"Close\").show(10)"
   ]
  },
  {
   "cell_type": "code",
   "execution_count": 60,
   "id": "4b199250",
   "metadata": {},
   "outputs": [],
   "source": [
    "from pyspark.ml.regression import LinearRegression\n",
    "\n",
    "lr = LinearRegression(featuresCol=\"features\", labelCol=\"Close\")\n",
    "#lrModel = lr.fit(vecTrainDF)"
   ]
  },
  {
   "cell_type": "code",
   "execution_count": 62,
   "id": "473e622a",
   "metadata": {},
   "outputs": [
    {
     "name": "stderr",
     "output_type": "stream",
     "text": [
      "22/06/14 12:52:18 WARN Instrumentation: [65402247] regParam is zero, which might cause numerical instability and overfitting.\n"
     ]
    }
   ],
   "source": [
    "from pyspark.ml import Pipeline\n",
    "\n",
    "pipeline = Pipeline(stages=[vecAssembler, lr])\n",
    "pipelineModel = pipeline.fit(trainDF)"
   ]
  },
  {
   "cell_type": "code",
   "execution_count": 63,
   "id": "c54f4a93",
   "metadata": {},
   "outputs": [
    {
     "name": "stdout",
     "output_type": "stream",
     "text": [
      "+-----------------+-----------------+\n",
      "|            Close|       prediction|\n",
      "+-----------------+-----------------+\n",
      "|  794.02001953125| 788.046447971487|\n",
      "|807.9099731445312|807.5158913894134|\n",
      "|807.8800048828125|809.9208106445692|\n",
      "|819.3099975585938|807.8378142630181|\n",
      "|796.7899780273438|797.0407586626543|\n",
      "|801.3400268554688|801.9694418669648|\n",
      "|820.4500122070312|821.5192276807949|\n",
      "|831.3300170898438|831.7263528499154|\n",
      "|838.6799926757812|838.0507203871839|\n",
      "|           843.25|844.3712353335196|\n",
      "+-----------------+-----------------+\n",
      "only showing top 10 rows\n",
      "\n"
     ]
    }
   ],
   "source": [
    "predDF = pipelineModel.transform(testDF)\n",
    "\n",
    "predDF.select(\"Close\", \"prediction\").show(10)"
   ]
  },
  {
   "cell_type": "markdown",
   "id": "d848ec43",
   "metadata": {},
   "source": [
    "Series temporelles."
   ]
  },
  {
   "cell_type": "markdown",
   "id": "6f3b9c89",
   "metadata": {},
   "source": [
    "regression"
   ]
  }
 ],
 "metadata": {
  "kernelspec": {
   "display_name": "Python 3 (ipykernel)",
   "language": "python",
   "name": "python3"
  },
  "language_info": {
   "codemirror_mode": {
    "name": "ipython",
    "version": 3
   },
   "file_extension": ".py",
   "mimetype": "text/x-python",
   "name": "python",
   "nbconvert_exporter": "python",
   "pygments_lexer": "ipython3",
   "version": "3.10.4"
  },
  "nbTranslate": {
   "displayLangs": [
    "*"
   ],
   "hotkey": "alt-t",
   "langInMainMenu": true,
   "sourceLang": "en",
   "targetLang": "fr",
   "useGoogleTranslate": true
  },
  "toc": {
   "base_numbering": 1,
   "nav_menu": {},
   "number_sections": true,
   "sideBar": true,
   "skip_h1_title": true,
   "title_cell": "Table of Contents",
   "title_sidebar": "Contents",
   "toc_cell": true,
   "toc_position": {},
   "toc_section_display": true,
   "toc_window_display": false
  },
  "varInspector": {
   "cols": {
    "lenName": 16,
    "lenType": 16,
    "lenVar": 40
   },
   "kernels_config": {
    "python": {
     "delete_cmd_postfix": "",
     "delete_cmd_prefix": "del ",
     "library": "var_list.py",
     "varRefreshCmd": "print(var_dic_list())"
    },
    "r": {
     "delete_cmd_postfix": ") ",
     "delete_cmd_prefix": "rm(",
     "library": "var_list.r",
     "varRefreshCmd": "cat(var_dic_list()) "
    }
   },
   "types_to_exclude": [
    "module",
    "function",
    "builtin_function_or_method",
    "instance",
    "_Feature"
   ],
   "window_display": false
  }
 },
 "nbformat": 4,
 "nbformat_minor": 5
}
