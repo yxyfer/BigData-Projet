{
 "cells": [
  {
   "cell_type": "markdown",
   "id": "f7c0dd51",
   "metadata": {
    "toc": true
   },
   "source": [
    "<h1>Table of Contents<span class=\"tocSkip\"></span></h1>\n",
    "<div class=\"toc\"><ul class=\"toc-item\"><li><span><a href=\"#Loading-the-stocks\" data-toc-modified-id=\"Loading-the-stocks-1\"><span class=\"toc-item-num\">1&nbsp;&nbsp;</span>Loading the stocks</a></span></li><li><span><a href=\"#Getting-the-AI-started\" data-toc-modified-id=\"Getting-the-AI-started-2\"><span class=\"toc-item-num\">2&nbsp;&nbsp;</span>Getting the AI started</a></span><ul class=\"toc-item\"><li><span><a href=\"#Regression\" data-toc-modified-id=\"Regression-2.1\"><span class=\"toc-item-num\">2.1&nbsp;&nbsp;</span>Regression</a></span></li></ul></li></ul></div>"
   ]
  },
  {
   "cell_type": "markdown",
   "id": "8af81713",
   "metadata": {},
   "source": [
    "# AI Part"
   ]
  },
  {
   "cell_type": "code",
   "execution_count": 9,
   "id": "23078fde",
   "metadata": {},
   "outputs": [
    {
     "name": "stdout",
     "output_type": "stream",
     "text": [
      "The autoreload extension is already loaded. To reload it, use:\n",
      "  %reload_ext autoreload\n"
     ]
    }
   ],
   "source": [
    "# cell for autoreload includes\n",
    "%load_ext autoreload\n",
    "%autoreload 2"
   ]
  },
  {
   "cell_type": "markdown",
   "id": "6b639dd8",
   "metadata": {},
   "source": [
    "## Loading the stocks"
   ]
  },
  {
   "cell_type": "code",
   "execution_count": 11,
   "id": "66edb966",
   "metadata": {},
   "outputs": [
    {
     "name": "stderr",
     "output_type": "stream",
     "text": [
      "22/06/15 11:05:57 WARN Utils: Your hostname, toto-Virtual-Machine resolves to a loopback address: 127.0.1.1; using 172.22.187.168 instead (on interface eth0)\n",
      "22/06/15 11:05:57 WARN Utils: Set SPARK_LOCAL_IP if you need to bind to another address\n",
      "WARNING: An illegal reflective access operation has occurred\n",
      "WARNING: Illegal reflective access by org.apache.spark.unsafe.Platform (file:/home/toto/jupyterenv/lib/python3.10/site-packages/pyspark/jars/spark-unsafe_2.12-3.2.1.jar) to constructor java.nio.DirectByteBuffer(long,int)\n",
      "WARNING: Please consider reporting this to the maintainers of org.apache.spark.unsafe.Platform\n",
      "WARNING: Use --illegal-access=warn to enable warnings of further illegal reflective access operations\n",
      "WARNING: All illegal access operations will be denied in a future release\n",
      "Using Spark's default log4j profile: org/apache/spark/log4j-defaults.properties\n",
      "Setting default log level to \"WARN\".\n",
      "To adjust logging level use sc.setLogLevel(newLevel). For SparkR, use setLogLevel(newLevel).\n",
      "22/06/15 11:05:58 WARN NativeCodeLoader: Unable to load native-hadoop library for your platform... using builtin-java classes where applicable\n"
     ]
    }
   ],
   "source": [
    "from src.stocks import Stocks\n",
    "# The warnings are due to the includes in the file"
   ]
  },
  {
   "cell_type": "code",
   "execution_count": 12,
   "id": "d4f75c51",
   "metadata": {},
   "outputs": [],
   "source": [
    "from pyspark.sql.types import DoubleType, StringType, DateType, StructType, StructField"
   ]
  },
  {
   "cell_type": "code",
   "execution_count": 13,
   "id": "69bb9f8c",
   "metadata": {},
   "outputs": [],
   "source": [
    "data_schema = StructType([\n",
    "    StructField('Date', DateType(), True),\n",
    "    StructField('High', DoubleType(), True),\n",
    "    StructField('Low', DoubleType(), True),\n",
    "    StructField('Open', DoubleType(), True),\n",
    "    StructField('Close', DoubleType(), True),\n",
    "    StructField('Volume', DoubleType(), True),\n",
    "    StructField('Adj Close', DoubleType(), True),\n",
    "    StructField('company_name', StringType(), True)\n",
    "])"
   ]
  },
  {
   "cell_type": "code",
   "execution_count": 14,
   "id": "9fe45bad",
   "metadata": {},
   "outputs": [],
   "source": [
    "stocks = Stocks(header=True, delimiter=',', schema=data_schema)"
   ]
  },
  {
   "cell_type": "code",
   "execution_count": 15,
   "id": "87aafd38",
   "metadata": {},
   "outputs": [],
   "source": [
    "stock = stocks.stocks[0]"
   ]
  },
  {
   "cell_type": "code",
   "execution_count": 16,
   "id": "2836af6d",
   "metadata": {},
   "outputs": [],
   "source": [
    "stock.predict.load_insights()"
   ]
  },
  {
   "cell_type": "markdown",
   "id": "7f6513a3",
   "metadata": {},
   "source": [
    "## Getting the AI started"
   ]
  },
  {
   "cell_type": "code",
   "execution_count": 18,
   "id": "2cae7e85",
   "metadata": {},
   "outputs": [
    {
     "name": "stderr",
     "output_type": "stream",
     "text": [
      "22/06/15 11:06:33 WARN WindowExec: No Partition Defined for Window operation! Moving all data to a single partition, this can cause serious performance degradation.\n",
      "22/06/15 11:06:36 WARN WindowExec: No Partition Defined for Window operation! Moving all data to a single partition, this can cause serious performance degradation.\n",
      "                                                                                \r"
     ]
    },
    {
     "name": "stdout",
     "output_type": "stream",
     "text": [
      "+----------+------------------+------------------+------------------+------------------+----------+------------------+------------------+------------------+------------------+-------------------+-----------------+--------------------+--------------------+\n",
      "|      Date|              High|               Low|              Open|             Close|    Volume|         Adj Close|        next_Close|               CCI|               roc|           momentum|    R_de_williams|moving_average_Close|    daily_return_day|\n",
      "+----------+------------------+------------------+------------------+------------------+----------+------------------+------------------+------------------+------------------+-------------------+-----------------+--------------------+--------------------+\n",
      "|2017-01-04|29.127500534057617|           28.9375|28.962499618530273|  29.0049991607666| 8.44724E7|27.247108459472656| 29.15250015258789|133.33333333333334|0.9988807156168351| -0.032501220703125|71.99968610491072|  29.021249771118164|0.042499542236328125|\n",
      "|2017-01-05| 29.21500015258789|28.952499389648438|28.979999542236328| 29.15250015258789| 8.87744E7| 27.38566780090332|29.477500915527344|132.17410341847776|1.0039603881052912|0.11499977111816406|88.09522944512463|   29.06499989827474|  0.1725006103515625|\n",
      "|2017-01-06|29.540000915527344| 29.11750030517578| 29.19499969482422|29.477500915527344|1.270076E8| 27.69097137451172|29.747499465942383|180.37316138436918|1.0151528378227213| 0.4400005340576172|92.64706212343906|   29.16812515258789|   0.282501220703125|\n",
      "|2017-01-09|29.857500076293945|29.485000610351562|29.487499237060547|29.747499465942383|1.342476E8|27.944602966308594| 29.77750015258789|  180.852747700827| 1.024451108915895| 0.7099990844726562|90.57810248551722|  29.345624923706055| 0.26000022888183594|\n",
      "+----------+------------------+------------------+------------------+------------------+----------+------------------+------------------+------------------+------------------+-------------------+-----------------+--------------------+--------------------+\n",
      "only showing top 4 rows\n",
      "\n"
     ]
    }
   ],
   "source": [
    "stock.predict.fullDF.show(4)"
   ]
  },
  {
   "cell_type": "markdown",
   "id": "51529e06",
   "metadata": {},
   "source": [
    "### Regression"
   ]
  },
  {
   "cell_type": "code",
   "execution_count": null,
   "id": "f7ad6bf3",
   "metadata": {},
   "outputs": [],
   "source": []
  }
 ],
 "metadata": {
  "kernelspec": {
   "display_name": "Python 3 (ipykernel)",
   "language": "python",
   "name": "python3"
  },
  "language_info": {
   "codemirror_mode": {
    "name": "ipython",
    "version": 3
   },
   "file_extension": ".py",
   "mimetype": "text/x-python",
   "name": "python",
   "nbconvert_exporter": "python",
   "pygments_lexer": "ipython3",
   "version": "3.10.4"
  },
  "nbTranslate": {
   "displayLangs": [
    "*"
   ],
   "hotkey": "alt-t",
   "langInMainMenu": true,
   "sourceLang": "en",
   "targetLang": "fr",
   "useGoogleTranslate": true
  },
  "toc": {
   "base_numbering": 1,
   "nav_menu": {},
   "number_sections": true,
   "sideBar": true,
   "skip_h1_title": true,
   "title_cell": "Table of Contents",
   "title_sidebar": "Contents",
   "toc_cell": true,
   "toc_position": {},
   "toc_section_display": true,
   "toc_window_display": false
  },
  "varInspector": {
   "cols": {
    "lenName": 16,
    "lenType": 16,
    "lenVar": 40
   },
   "kernels_config": {
    "python": {
     "delete_cmd_postfix": "",
     "delete_cmd_prefix": "del ",
     "library": "var_list.py",
     "varRefreshCmd": "print(var_dic_list())"
    },
    "r": {
     "delete_cmd_postfix": ") ",
     "delete_cmd_prefix": "rm(",
     "library": "var_list.r",
     "varRefreshCmd": "cat(var_dic_list()) "
    }
   },
   "types_to_exclude": [
    "module",
    "function",
    "builtin_function_or_method",
    "instance",
    "_Feature"
   ],
   "window_display": false
  }
 },
 "nbformat": 4,
 "nbformat_minor": 5
}
